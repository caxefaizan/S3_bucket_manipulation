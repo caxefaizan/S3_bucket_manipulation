{
 "cells": [
  {
   "cell_type": "code",
   "execution_count": 321,
   "metadata": {},
   "outputs": [],
   "source": [
    "import numpy as np\n",
    "import pandas as pd\n",
    "import tensorflow as tf"
   ]
  },
  {
   "cell_type": "code",
   "execution_count": 318,
   "metadata": {},
   "outputs": [],
   "source": [
    "def sample_to_7dsignature(*args):\n",
    "    \"\"\"\n",
    "    Takes a CSV file name (without extension) having samples of device as input.\n",
    "    The column names must be as : V1,C1,A1,PF1,AP1,RP1,F1,T\n",
    "    Converts it to a dataset of signatures of duration 1 min.\n",
    "    Exports the modified CSV in seconds frequency, and signature format in separate files as: \n",
    "        1. (filename_seconds.csv) \n",
    "        2. (filename_7d.npy).\n",
    "        3. 7D numpy array\n",
    "        4. labels\n",
    "    Returns 1. the 7-D signature of device, and the 2. appropriate labels in a pandas series format. \n",
    "    \n",
    "    \"\"\"\n",
    "    import csv\n",
    "    import numpy as np\n",
    "    import pandas as pd\n",
    "    \n",
    "    devices = []\n",
    "    for x in args:\n",
    "        devices.append(x)\n",
    "    for fn in devices:\n",
    "        df = pd.read_csv(f'{fn}.csv')\n",
    "        df['T'] = pd.DatetimeIndex(df['T'],tz = 'Asia/Kolkata')\n",
    "        df = df.set_index('T')\n",
    "        df.resample('S').mean()\n",
    "        df.to_csv(f'{fn}_seconds.csv',index= False)\n",
    "\n",
    "    \n",
    "        with open(f'{fn}_seconds.csv', 'r') as fp:\n",
    "            next(fp) # ignore column names\n",
    "            np_v  =np.array([])\n",
    "            np_c  =np.array([])\n",
    "            np_a  =np.array([])\n",
    "            np_pf =np.array([])\n",
    "            np_ap =np.array([])\n",
    "            np_rp =np.array([])\n",
    "            np_f  =np.array([])\n",
    "            params = [np_v,np_c,np_a,np_pf,np_ap,np_rp,np_f]  \n",
    "\n",
    "            for i, line in enumerate(fp):\n",
    "                line  = line[:-2]  #remove \\n from end of string.\n",
    "                line = np.array(line.split(sep = ','))  # array of string values\n",
    "                line = line.astype(np.float)    # array of float values v,c,a,pf,ap,rp,f\n",
    "    #             print(line) \n",
    "    #             print(line.size)  7\n",
    "    #             print(line.shape) 7,\n",
    "                for idx, val in enumerate(line):\n",
    "                    #i will give us the parameter name ,  x will give us the parameter value\n",
    "                # not able to reduce code due to some issue with numpy array not being updated\n",
    "                    if idx == 0:\n",
    "                        np_v = np.append(np_v,val)\n",
    "                    elif idx==1:\n",
    "                        np_c = np.append(np_c,val)\n",
    "                    elif idx==2:\n",
    "                        np_a = np.append(np_a,val)\n",
    "                    elif idx==3:\n",
    "                        np_pf = np.append(np_pf,val)\n",
    "                    elif idx==4:\n",
    "                        np_ap = np.append(np_ap,val)\n",
    "                    elif idx==5:\n",
    "                        np_rp = np.append(np_rp,val)\n",
    "                    elif idx==6:\n",
    "                        np_f = np.append(np_f,val) # append values to corresponding arrays \n",
    "    #         print(np_v,np_c,np_a,np_pf,np_ap,np_rp,np_f)  #correct\n",
    "    #         print(np_v.size) #5559\n",
    "\n",
    "\n",
    "\n",
    "            extra_samples = (np_v.size)%60  # a signature is of length 60, thus delete extra samples\n",
    "    #         print(np_v.shape) (5559,)\n",
    "\n",
    "            if extra_samples !=0:\n",
    "                np_v = np.delete(np_v,np.s_[-extra_samples:])\n",
    "                np_c = np.delete(np_c,np.s_[-extra_samples:])\n",
    "                np_a = np.delete(np_a,np.s_[-extra_samples:])\n",
    "                np_pf = np.delete(np_pf,np.s_[-extra_samples:])\n",
    "                np_ap = np.delete(np_ap,np.s_[-extra_samples:])\n",
    "                np_rp = np.delete(np_rp,np.s_[-extra_samples:])\n",
    "                np_f = np.delete(np_f,np.s_[-extra_samples:])\n",
    "\n",
    "\n",
    "\n",
    "            samples = np_v.size\n",
    "            no_signatures = samples//60  # no of signatures per device collected\n",
    "\n",
    "            np_v = np_v.reshape((no_signatures),60)  #convert samples to a stream of 1 minute\n",
    "            np_c = np_c.reshape((no_signatures),60)\n",
    "            np_a = np_a.reshape((no_signatures),60)\n",
    "            np_pf = np_pf.reshape((no_signatures),60)\n",
    "            np_ap = np_ap.reshape((no_signatures),60)\n",
    "            np_rp = np_rp.reshape((no_signatures),60)\n",
    "            np_f = np_f.reshape((no_signatures),60)\n",
    "    #         print(np_v.shape)  (92, 60)\n",
    "\n",
    "\n",
    "            li = [] #this will hold all the signatures of a device \n",
    "    #         print(no_signatures)  #92\n",
    "            for x in range(no_signatures):\n",
    "                # signature_array will be 7 dimensional array with a length of 1 row x 60 columns\n",
    "                signature_array = np.array([\n",
    "                                            [np_v[x]],\n",
    "                                            [np_c[x]],\n",
    "                                            [np_a[x]],\n",
    "                                            [np_pf[x]],\n",
    "                                            [np_ap[x]],\n",
    "                                            [np_rp[x]],\n",
    "                                            [np_f[x]],\n",
    "                                          ])\n",
    "    #             print(signature_array.shape)  #(7, 1, 60)\n",
    "                li.append(signature_array)\n",
    "            li = np.array(li)\n",
    "    #         print(li.shape) #(92, 7, 1, 60)\n",
    "            no_rows = li.shape[0]\n",
    "    #         print(no_rows) #92\n",
    "            label_series = pd.Series([],dtype='string')\n",
    "            for x in range (no_rows):\n",
    "                label_series[x] = fn\n",
    "            np.save(f'{fn}',li)\n",
    "            label_series.to_csv(f'{fn}_labels.csv',index=False)\n",
    "    return "
   ]
  },
  {
   "cell_type": "code",
   "execution_count": 310,
   "metadata": {},
   "outputs": [],
   "source": [
    "labels = pd.Series([],dtype = 'string')"
   ]
  },
  {
   "cell_type": "code",
   "execution_count": 320,
   "metadata": {},
   "outputs": [],
   "source": [
    "sample_to_7dsignature('3dprinter','ac','fridge','wallfan')"
   ]
  },
  {
   "cell_type": "code",
   "execution_count": 355,
   "metadata": {},
   "outputs": [
    {
     "data": {
      "text/plain": [
       "(92, 7, 1, 60)"
      ]
     },
     "execution_count": 355,
     "metadata": {},
     "output_type": "execute_result"
    }
   ],
   "source": [
    "arr = np.load('3dprinter.npy')\n",
    "arr.shape\n",
    "        "
   ]
  },
  {
   "cell_type": "code",
   "execution_count": 356,
   "metadata": {},
   "outputs": [
    {
     "data": {
      "text/plain": [
       "(99, 7, 1, 60)"
      ]
     },
     "execution_count": 356,
     "metadata": {},
     "output_type": "execute_result"
    }
   ],
   "source": [
    "brr = np.load('ac.npy')\n",
    "brr.shape"
   ]
  },
  {
   "cell_type": "code",
   "execution_count": 344,
   "metadata": {},
   "outputs": [],
   "source": [
    "crr = np.append(arr,brr,axis = 0)"
   ]
  },
  {
   "cell_type": "code",
   "execution_count": 345,
   "metadata": {},
   "outputs": [
    {
     "data": {
      "text/plain": [
       "(191, 7, 1, 60)"
      ]
     },
     "execution_count": 345,
     "metadata": {},
     "output_type": "execute_result"
    }
   ],
   "source": [
    "crr.shape"
   ]
  },
  {
   "cell_type": "code",
   "execution_count": 353,
   "metadata": {},
   "outputs": [
    {
     "data": {
      "text/plain": [
       "0.41"
      ]
     },
     "execution_count": 353,
     "metadata": {},
     "output_type": "execute_result"
    }
   ],
   "source": [
    "crr[91][1][0][0]"
   ]
  },
  {
   "cell_type": "code",
   "execution_count": 370,
   "metadata": {},
   "outputs": [],
   "source": [
    "a = np.array([[1,2,3],[4,5,6],[13,14,15]])\n",
    "b = np.array([[7,8,9],[10,11,12]])"
   ]
  },
  {
   "cell_type": "code",
   "execution_count": 371,
   "metadata": {},
   "outputs": [
    {
     "data": {
      "text/plain": [
       "(3, 3)"
      ]
     },
     "execution_count": 371,
     "metadata": {},
     "output_type": "execute_result"
    }
   ],
   "source": [
    "a.shape"
   ]
  },
  {
   "cell_type": "code",
   "execution_count": 373,
   "metadata": {},
   "outputs": [
    {
     "data": {
      "text/plain": [
       "(2, 3)"
      ]
     },
     "execution_count": 373,
     "metadata": {},
     "output_type": "execute_result"
    }
   ],
   "source": [
    "b.shape"
   ]
  },
  {
   "cell_type": "code",
   "execution_count": 372,
   "metadata": {},
   "outputs": [
    {
     "data": {
      "text/plain": [
       "(15,)"
      ]
     },
     "execution_count": 372,
     "metadata": {},
     "output_type": "execute_result"
    }
   ],
   "source": [
    "c= np.array([])\n",
    "c = np.append(c,a)\n",
    "c= np.append(c,b)\n",
    "c.shape"
   ]
  },
  {
   "cell_type": "code",
   "execution_count": 374,
   "metadata": {},
   "outputs": [],
   "source": [
    "c = c.reshape((5,3))"
   ]
  },
  {
   "cell_type": "code",
   "execution_count": 375,
   "metadata": {},
   "outputs": [
    {
     "data": {
      "text/plain": [
       "array([[ 1.,  2.,  3.],\n",
       "       [ 4.,  5.,  6.],\n",
       "       [13., 14., 15.],\n",
       "       [ 7.,  8.,  9.],\n",
       "       [10., 11., 12.]])"
      ]
     },
     "execution_count": 375,
     "metadata": {},
     "output_type": "execute_result"
    }
   ],
   "source": [
    "c"
   ]
  },
  {
   "cell_type": "code",
   "execution_count": 394,
   "metadata": {},
   "outputs": [],
   "source": [
    "def get_xy(*args):\n",
    "    devices = []\n",
    "    for x in args:\n",
    "        devices.append(x)\n",
    "    size = 0\n",
    "    files = np.array([])\n",
    "    labels = np.array([])\n",
    "    for fn in devices:\n",
    "        frr = np.load(f'{fn}.npy')\n",
    "        files = np.append(files,frr)\n",
    "        lrr = pd.read_csv(f'{fn}_labels.csv').to_numpy()\n",
    "        labels = np.append(labels,lrr)\n",
    "        s = frr.shape[0]\n",
    "        size += s\n",
    "#     print(size) #379\n",
    "    files = files.reshape((size,7,1,60))\n",
    "#     print(files.shape,labels.shape) #(379, 7, 1, 60) (379,)\n",
    "    return files,labels        "
   ]
  },
  {
   "cell_type": "code",
   "execution_count": 413,
   "metadata": {},
   "outputs": [
    {
     "name": "stdout",
     "output_type": "stream",
     "text": [
      "92\n",
      "191\n",
      "284\n",
      "379\n",
      "(379, 7, 1, 60) (379,)\n"
     ]
    }
   ],
   "source": [
    "files,labels = get_xy('3dprinter','ac','fridge','wallfan')"
   ]
  },
  {
   "cell_type": "code",
   "execution_count": 414,
   "metadata": {},
   "outputs": [
    {
     "data": {
      "text/plain": [
       "array(['3dprinter', 'ac', 'fridge', 'wallfan'], dtype=object)"
      ]
     },
     "execution_count": 414,
     "metadata": {},
     "output_type": "execute_result"
    }
   ],
   "source": [
    "unique_devices = np.unique(labels)\n",
    "unique_devices"
   ]
  },
  {
   "cell_type": "code",
   "execution_count": 415,
   "metadata": {},
   "outputs": [
    {
     "data": {
      "text/plain": [
       "array([ True, False, False, False])"
      ]
     },
     "execution_count": 415,
     "metadata": {},
     "output_type": "execute_result"
    }
   ],
   "source": [
    "y[0]==unique_devices"
   ]
  },
  {
   "cell_type": "code",
   "execution_count": 417,
   "metadata": {},
   "outputs": [
    {
     "data": {
      "text/plain": [
       "[array([ True, False, False, False]),\n",
       " array([ True, False, False, False]),\n",
       " array([ True, False, False, False]),\n",
       " array([ True, False, False, False]),\n",
       " array([ True, False, False, False]),\n",
       " array([ True, False, False, False]),\n",
       " array([ True, False, False, False]),\n",
       " array([ True, False, False, False]),\n",
       " array([ True, False, False, False]),\n",
       " array([ True, False, False, False]),\n",
       " array([ True, False, False, False]),\n",
       " array([ True, False, False, False]),\n",
       " array([ True, False, False, False]),\n",
       " array([ True, False, False, False]),\n",
       " array([ True, False, False, False]),\n",
       " array([ True, False, False, False]),\n",
       " array([ True, False, False, False]),\n",
       " array([ True, False, False, False]),\n",
       " array([ True, False, False, False]),\n",
       " array([ True, False, False, False]),\n",
       " array([ True, False, False, False]),\n",
       " array([ True, False, False, False]),\n",
       " array([ True, False, False, False]),\n",
       " array([ True, False, False, False]),\n",
       " array([ True, False, False, False]),\n",
       " array([ True, False, False, False]),\n",
       " array([ True, False, False, False]),\n",
       " array([ True, False, False, False]),\n",
       " array([ True, False, False, False]),\n",
       " array([ True, False, False, False]),\n",
       " array([ True, False, False, False]),\n",
       " array([ True, False, False, False]),\n",
       " array([ True, False, False, False]),\n",
       " array([ True, False, False, False]),\n",
       " array([ True, False, False, False]),\n",
       " array([ True, False, False, False]),\n",
       " array([ True, False, False, False]),\n",
       " array([ True, False, False, False]),\n",
       " array([ True, False, False, False]),\n",
       " array([ True, False, False, False]),\n",
       " array([ True, False, False, False]),\n",
       " array([ True, False, False, False]),\n",
       " array([ True, False, False, False]),\n",
       " array([ True, False, False, False]),\n",
       " array([ True, False, False, False]),\n",
       " array([ True, False, False, False]),\n",
       " array([ True, False, False, False]),\n",
       " array([ True, False, False, False]),\n",
       " array([ True, False, False, False]),\n",
       " array([ True, False, False, False]),\n",
       " array([ True, False, False, False]),\n",
       " array([ True, False, False, False]),\n",
       " array([ True, False, False, False]),\n",
       " array([ True, False, False, False]),\n",
       " array([ True, False, False, False]),\n",
       " array([ True, False, False, False]),\n",
       " array([ True, False, False, False]),\n",
       " array([ True, False, False, False]),\n",
       " array([ True, False, False, False]),\n",
       " array([ True, False, False, False]),\n",
       " array([ True, False, False, False]),\n",
       " array([ True, False, False, False]),\n",
       " array([ True, False, False, False]),\n",
       " array([ True, False, False, False]),\n",
       " array([ True, False, False, False]),\n",
       " array([ True, False, False, False]),\n",
       " array([ True, False, False, False]),\n",
       " array([ True, False, False, False]),\n",
       " array([ True, False, False, False]),\n",
       " array([ True, False, False, False]),\n",
       " array([ True, False, False, False]),\n",
       " array([ True, False, False, False]),\n",
       " array([ True, False, False, False]),\n",
       " array([ True, False, False, False]),\n",
       " array([ True, False, False, False]),\n",
       " array([ True, False, False, False]),\n",
       " array([ True, False, False, False]),\n",
       " array([ True, False, False, False]),\n",
       " array([ True, False, False, False]),\n",
       " array([ True, False, False, False]),\n",
       " array([ True, False, False, False]),\n",
       " array([ True, False, False, False]),\n",
       " array([ True, False, False, False]),\n",
       " array([ True, False, False, False]),\n",
       " array([ True, False, False, False]),\n",
       " array([ True, False, False, False]),\n",
       " array([ True, False, False, False]),\n",
       " array([ True, False, False, False]),\n",
       " array([ True, False, False, False]),\n",
       " array([ True, False, False, False]),\n",
       " array([ True, False, False, False]),\n",
       " array([ True, False, False, False]),\n",
       " array([False,  True, False, False]),\n",
       " array([False,  True, False, False]),\n",
       " array([False,  True, False, False]),\n",
       " array([False,  True, False, False]),\n",
       " array([False,  True, False, False]),\n",
       " array([False,  True, False, False]),\n",
       " array([False,  True, False, False]),\n",
       " array([False,  True, False, False]),\n",
       " array([False,  True, False, False]),\n",
       " array([False,  True, False, False]),\n",
       " array([False,  True, False, False]),\n",
       " array([False,  True, False, False]),\n",
       " array([False,  True, False, False]),\n",
       " array([False,  True, False, False]),\n",
       " array([False,  True, False, False]),\n",
       " array([False,  True, False, False]),\n",
       " array([False,  True, False, False]),\n",
       " array([False,  True, False, False]),\n",
       " array([False,  True, False, False]),\n",
       " array([False,  True, False, False]),\n",
       " array([False,  True, False, False]),\n",
       " array([False,  True, False, False]),\n",
       " array([False,  True, False, False]),\n",
       " array([False,  True, False, False]),\n",
       " array([False,  True, False, False]),\n",
       " array([False,  True, False, False]),\n",
       " array([False,  True, False, False]),\n",
       " array([False,  True, False, False]),\n",
       " array([False,  True, False, False]),\n",
       " array([False,  True, False, False]),\n",
       " array([False,  True, False, False]),\n",
       " array([False,  True, False, False]),\n",
       " array([False,  True, False, False]),\n",
       " array([False,  True, False, False]),\n",
       " array([False,  True, False, False]),\n",
       " array([False,  True, False, False]),\n",
       " array([False,  True, False, False]),\n",
       " array([False,  True, False, False]),\n",
       " array([False,  True, False, False]),\n",
       " array([False,  True, False, False]),\n",
       " array([False,  True, False, False]),\n",
       " array([False,  True, False, False]),\n",
       " array([False,  True, False, False]),\n",
       " array([False,  True, False, False]),\n",
       " array([False,  True, False, False]),\n",
       " array([False,  True, False, False]),\n",
       " array([False,  True, False, False]),\n",
       " array([False,  True, False, False]),\n",
       " array([False,  True, False, False]),\n",
       " array([False,  True, False, False]),\n",
       " array([False,  True, False, False]),\n",
       " array([False,  True, False, False]),\n",
       " array([False,  True, False, False]),\n",
       " array([False,  True, False, False]),\n",
       " array([False,  True, False, False]),\n",
       " array([False,  True, False, False]),\n",
       " array([False,  True, False, False]),\n",
       " array([False,  True, False, False]),\n",
       " array([False,  True, False, False]),\n",
       " array([False,  True, False, False]),\n",
       " array([False,  True, False, False]),\n",
       " array([False,  True, False, False]),\n",
       " array([False,  True, False, False]),\n",
       " array([False,  True, False, False]),\n",
       " array([False,  True, False, False]),\n",
       " array([False,  True, False, False]),\n",
       " array([False,  True, False, False]),\n",
       " array([False,  True, False, False]),\n",
       " array([False,  True, False, False]),\n",
       " array([False,  True, False, False]),\n",
       " array([False,  True, False, False]),\n",
       " array([False,  True, False, False]),\n",
       " array([False,  True, False, False]),\n",
       " array([False,  True, False, False]),\n",
       " array([False,  True, False, False]),\n",
       " array([False,  True, False, False]),\n",
       " array([False,  True, False, False]),\n",
       " array([False,  True, False, False]),\n",
       " array([False,  True, False, False]),\n",
       " array([False,  True, False, False]),\n",
       " array([False,  True, False, False]),\n",
       " array([False,  True, False, False]),\n",
       " array([False,  True, False, False]),\n",
       " array([False,  True, False, False]),\n",
       " array([False,  True, False, False]),\n",
       " array([False,  True, False, False]),\n",
       " array([False,  True, False, False]),\n",
       " array([False,  True, False, False]),\n",
       " array([False,  True, False, False]),\n",
       " array([False,  True, False, False]),\n",
       " array([False,  True, False, False]),\n",
       " array([False,  True, False, False]),\n",
       " array([False,  True, False, False]),\n",
       " array([False,  True, False, False]),\n",
       " array([False,  True, False, False]),\n",
       " array([False,  True, False, False]),\n",
       " array([False,  True, False, False]),\n",
       " array([False,  True, False, False]),\n",
       " array([False,  True, False, False]),\n",
       " array([False, False,  True, False]),\n",
       " array([False, False,  True, False]),\n",
       " array([False, False,  True, False]),\n",
       " array([False, False,  True, False]),\n",
       " array([False, False,  True, False]),\n",
       " array([False, False,  True, False]),\n",
       " array([False, False,  True, False]),\n",
       " array([False, False,  True, False]),\n",
       " array([False, False,  True, False]),\n",
       " array([False, False,  True, False]),\n",
       " array([False, False,  True, False]),\n",
       " array([False, False,  True, False]),\n",
       " array([False, False,  True, False]),\n",
       " array([False, False,  True, False]),\n",
       " array([False, False,  True, False]),\n",
       " array([False, False,  True, False]),\n",
       " array([False, False,  True, False]),\n",
       " array([False, False,  True, False]),\n",
       " array([False, False,  True, False]),\n",
       " array([False, False,  True, False]),\n",
       " array([False, False,  True, False]),\n",
       " array([False, False,  True, False]),\n",
       " array([False, False,  True, False]),\n",
       " array([False, False,  True, False]),\n",
       " array([False, False,  True, False]),\n",
       " array([False, False,  True, False]),\n",
       " array([False, False,  True, False]),\n",
       " array([False, False,  True, False]),\n",
       " array([False, False,  True, False]),\n",
       " array([False, False,  True, False]),\n",
       " array([False, False,  True, False]),\n",
       " array([False, False,  True, False]),\n",
       " array([False, False,  True, False]),\n",
       " array([False, False,  True, False]),\n",
       " array([False, False,  True, False]),\n",
       " array([False, False,  True, False]),\n",
       " array([False, False,  True, False]),\n",
       " array([False, False,  True, False]),\n",
       " array([False, False,  True, False]),\n",
       " array([False, False,  True, False]),\n",
       " array([False, False,  True, False]),\n",
       " array([False, False,  True, False]),\n",
       " array([False, False,  True, False]),\n",
       " array([False, False,  True, False]),\n",
       " array([False, False,  True, False]),\n",
       " array([False, False,  True, False]),\n",
       " array([False, False,  True, False]),\n",
       " array([False, False,  True, False]),\n",
       " array([False, False,  True, False]),\n",
       " array([False, False,  True, False]),\n",
       " array([False, False,  True, False]),\n",
       " array([False, False,  True, False]),\n",
       " array([False, False,  True, False]),\n",
       " array([False, False,  True, False]),\n",
       " array([False, False,  True, False]),\n",
       " array([False, False,  True, False]),\n",
       " array([False, False,  True, False]),\n",
       " array([False, False,  True, False]),\n",
       " array([False, False,  True, False]),\n",
       " array([False, False,  True, False]),\n",
       " array([False, False,  True, False]),\n",
       " array([False, False,  True, False]),\n",
       " array([False, False,  True, False]),\n",
       " array([False, False,  True, False]),\n",
       " array([False, False,  True, False]),\n",
       " array([False, False,  True, False]),\n",
       " array([False, False,  True, False]),\n",
       " array([False, False,  True, False]),\n",
       " array([False, False,  True, False]),\n",
       " array([False, False,  True, False]),\n",
       " array([False, False,  True, False]),\n",
       " array([False, False,  True, False]),\n",
       " array([False, False,  True, False]),\n",
       " array([False, False,  True, False]),\n",
       " array([False, False,  True, False]),\n",
       " array([False, False,  True, False]),\n",
       " array([False, False,  True, False]),\n",
       " array([False, False,  True, False]),\n",
       " array([False, False,  True, False]),\n",
       " array([False, False,  True, False]),\n",
       " array([False, False,  True, False]),\n",
       " array([False, False,  True, False]),\n",
       " array([False, False,  True, False]),\n",
       " array([False, False,  True, False]),\n",
       " array([False, False,  True, False]),\n",
       " array([False, False,  True, False]),\n",
       " array([False, False,  True, False]),\n",
       " array([False, False,  True, False]),\n",
       " array([False, False,  True, False]),\n",
       " array([False, False,  True, False]),\n",
       " array([False, False,  True, False]),\n",
       " array([False, False,  True, False]),\n",
       " array([False, False,  True, False]),\n",
       " array([False, False, False,  True]),\n",
       " array([False, False, False,  True]),\n",
       " array([False, False, False,  True]),\n",
       " array([False, False, False,  True]),\n",
       " array([False, False, False,  True]),\n",
       " array([False, False, False,  True]),\n",
       " array([False, False, False,  True]),\n",
       " array([False, False, False,  True]),\n",
       " array([False, False, False,  True]),\n",
       " array([False, False, False,  True]),\n",
       " array([False, False, False,  True]),\n",
       " array([False, False, False,  True]),\n",
       " array([False, False, False,  True]),\n",
       " array([False, False, False,  True]),\n",
       " array([False, False, False,  True]),\n",
       " array([False, False, False,  True]),\n",
       " array([False, False, False,  True]),\n",
       " array([False, False, False,  True]),\n",
       " array([False, False, False,  True]),\n",
       " array([False, False, False,  True]),\n",
       " array([False, False, False,  True]),\n",
       " array([False, False, False,  True]),\n",
       " array([False, False, False,  True]),\n",
       " array([False, False, False,  True]),\n",
       " array([False, False, False,  True]),\n",
       " array([False, False, False,  True]),\n",
       " array([False, False, False,  True]),\n",
       " array([False, False, False,  True]),\n",
       " array([False, False, False,  True]),\n",
       " array([False, False, False,  True]),\n",
       " array([False, False, False,  True]),\n",
       " array([False, False, False,  True]),\n",
       " array([False, False, False,  True]),\n",
       " array([False, False, False,  True]),\n",
       " array([False, False, False,  True]),\n",
       " array([False, False, False,  True]),\n",
       " array([False, False, False,  True]),\n",
       " array([False, False, False,  True]),\n",
       " array([False, False, False,  True]),\n",
       " array([False, False, False,  True]),\n",
       " array([False, False, False,  True]),\n",
       " array([False, False, False,  True]),\n",
       " array([False, False, False,  True]),\n",
       " array([False, False, False,  True]),\n",
       " array([False, False, False,  True]),\n",
       " array([False, False, False,  True]),\n",
       " array([False, False, False,  True]),\n",
       " array([False, False, False,  True]),\n",
       " array([False, False, False,  True]),\n",
       " array([False, False, False,  True]),\n",
       " array([False, False, False,  True]),\n",
       " array([False, False, False,  True]),\n",
       " array([False, False, False,  True]),\n",
       " array([False, False, False,  True]),\n",
       " array([False, False, False,  True]),\n",
       " array([False, False, False,  True]),\n",
       " array([False, False, False,  True]),\n",
       " array([False, False, False,  True]),\n",
       " array([False, False, False,  True]),\n",
       " array([False, False, False,  True]),\n",
       " array([False, False, False,  True]),\n",
       " array([False, False, False,  True]),\n",
       " array([False, False, False,  True]),\n",
       " array([False, False, False,  True]),\n",
       " array([False, False, False,  True]),\n",
       " array([False, False, False,  True]),\n",
       " array([False, False, False,  True]),\n",
       " array([False, False, False,  True]),\n",
       " array([False, False, False,  True]),\n",
       " array([False, False, False,  True]),\n",
       " array([False, False, False,  True]),\n",
       " array([False, False, False,  True]),\n",
       " array([False, False, False,  True]),\n",
       " array([False, False, False,  True]),\n",
       " array([False, False, False,  True]),\n",
       " array([False, False, False,  True]),\n",
       " array([False, False, False,  True]),\n",
       " array([False, False, False,  True]),\n",
       " array([False, False, False,  True]),\n",
       " array([False, False, False,  True]),\n",
       " array([False, False, False,  True]),\n",
       " array([False, False, False,  True]),\n",
       " array([False, False, False,  True]),\n",
       " array([False, False, False,  True]),\n",
       " array([False, False, False,  True]),\n",
       " array([False, False, False,  True]),\n",
       " array([False, False, False,  True]),\n",
       " array([False, False, False,  True]),\n",
       " array([False, False, False,  True]),\n",
       " array([False, False, False,  True]),\n",
       " array([False, False, False,  True]),\n",
       " array([False, False, False,  True]),\n",
       " array([False, False, False,  True]),\n",
       " array([False, False, False,  True]),\n",
       " array([False, False, False,  True])]"
      ]
     },
     "execution_count": 417,
     "metadata": {},
     "output_type": "execute_result"
    }
   ],
   "source": [
    "# Turn every label into a boolean array\n",
    "boolean_labels = [label == np.array(unique_devices) for label in labels]\n",
    "boolean_labels"
   ]
  },
  {
   "cell_type": "code",
   "execution_count": 418,
   "metadata": {},
   "outputs": [],
   "source": [
    "# Setup X & y variables\n",
    "X = files\n",
    "y = boolean_labels"
   ]
  },
  {
   "cell_type": "code",
   "execution_count": 419,
   "metadata": {},
   "outputs": [
    {
     "data": {
      "text/plain": [
       "(303, 303, 76, 76)"
      ]
     },
     "execution_count": 419,
     "metadata": {},
     "output_type": "execute_result"
    }
   ],
   "source": [
    "# Import train_test_split from Scikit-Learn\n",
    "from sklearn.model_selection import train_test_split\n",
    "\n",
    "# Split them into training and validation using NUM_IMAGES \n",
    "X_train, X_val, y_train, y_val = train_test_split(X,\n",
    "                                                  y, \n",
    "                                                  test_size=0.2,\n",
    "                                                  random_state=42)\n",
    "\n",
    "len(X_train), len(y_train), len(X_val), len(y_val)"
   ]
  },
  {
   "cell_type": "code",
   "execution_count": 422,
   "metadata": {},
   "outputs": [
    {
     "data": {
      "text/plain": [
       "(array([[[ 2.30540e+02,  2.30500e+02,  2.30490e+02,  2.30390e+02,\n",
       "           2.30180e+02,  2.30490e+02,  2.29980e+02,  2.29630e+02,\n",
       "           2.29910e+02,  2.30000e+02,  2.30030e+02,  2.30430e+02,\n",
       "           2.30070e+02,  2.30560e+02,  2.30310e+02,  2.29880e+02,\n",
       "           2.31380e+02,  2.31080e+02,  2.31390e+02,  2.31290e+02,\n",
       "           2.31460e+02,  2.31480e+02,  2.31430e+02,  2.31250e+02,\n",
       "           2.30760e+02,  2.31390e+02,  2.31470e+02,  2.31500e+02,\n",
       "           2.31490e+02,  2.31000e+02,  2.30780e+02,  2.31010e+02,\n",
       "           2.31090e+02,  2.30960e+02,  2.31520e+02,  2.31090e+02,\n",
       "           2.31500e+02,  2.31500e+02,  2.31540e+02,  2.30900e+02,\n",
       "           2.31540e+02,  2.31610e+02,  2.31320e+02,  2.31090e+02,\n",
       "           2.31160e+02,  2.31470e+02,  2.31490e+02,  2.31340e+02,\n",
       "           2.31550e+02,  2.31550e+02,  2.31530e+02,  2.30390e+02,\n",
       "           2.31100e+02,  2.31270e+02,  2.31260e+02,  2.31270e+02,\n",
       "           2.31290e+02,  2.31380e+02,  2.31730e+02,  2.31460e+02]],\n",
       " \n",
       "        [[ 1.02200e+01,  1.02300e+01,  1.02300e+01,  1.02100e+01,\n",
       "           1.01900e+01,  1.02400e+01,  1.02300e+01,  1.02300e+01,\n",
       "           1.02300e+01,  1.02300e+01,  1.02400e+01,  1.02300e+01,\n",
       "           1.02100e+01,  1.02300e+01,  1.02200e+01,  1.01900e+01,\n",
       "           1.02100e+01,  1.02000e+01,  1.02200e+01,  1.02100e+01,\n",
       "           1.02000e+01,  1.01900e+01,  1.01700e+01,  1.01300e+01,\n",
       "           1.01500e+01,  1.01400e+01,  1.01400e+01,  1.01400e+01,\n",
       "           1.01300e+01,  1.01400e+01,  1.01400e+01,  1.01500e+01,\n",
       "           1.01500e+01,  1.01300e+01,  1.01400e+01,  1.01300e+01,\n",
       "           1.01400e+01,  1.01400e+01,  1.01300e+01,  1.01200e+01,\n",
       "           1.01300e+01,  1.01300e+01,  1.01200e+01,  1.01100e+01,\n",
       "           1.01100e+01,  1.01200e+01,  1.01200e+01,  1.01200e+01,\n",
       "           1.01100e+01,  1.01100e+01,  1.01100e+01,  1.01000e+01,\n",
       "           1.01100e+01,  1.00500e+01,  1.00300e+01,  1.00400e+01,\n",
       "           9.98000e+00,  1.00100e+01,  1.00100e+01,  1.00100e+01]],\n",
       " \n",
       "        [[-1.56000e+02, -1.56000e+02, -1.56000e+02, -1.53000e+02,\n",
       "          -1.44000e+02, -1.55000e+02, -1.49000e+02, -1.44000e+02,\n",
       "          -1.46000e+02, -1.48000e+02, -1.51000e+02, -1.55000e+02,\n",
       "          -1.50000e+02, -1.57000e+02, -1.57000e+02, -1.48000e+02,\n",
       "          -1.70000e+02, -1.67000e+02, -1.75000e+02, -1.76000e+02,\n",
       "          -1.78000e+02, -1.81000e+02, -1.81000e+02, -1.78000e+02,\n",
       "          -1.82000e+02, -1.88000e+02, -1.90000e+02, -1.93000e+02,\n",
       "          -1.91000e+02, -1.87000e+02, -1.84000e+02, -1.86000e+02,\n",
       "          -1.86000e+02, -1.87000e+02, -1.94000e+02, -1.89000e+02,\n",
       "          -1.94000e+02, -1.95000e+02, -1.96000e+02, -1.90000e+02,\n",
       "          -1.94000e+02, -1.93000e+02, -1.91000e+02, -1.91000e+02,\n",
       "          -1.91000e+02, -1.93000e+02, -1.97000e+02, -1.94000e+02,\n",
       "          -1.94000e+02, -1.94000e+02, -1.94000e+02, -1.86000e+02,\n",
       "          -1.92000e+02, -1.82000e+02, -1.80000e+02, -1.80000e+02,\n",
       "          -1.74000e+02, -1.84000e+02, -1.89000e+02, -1.88000e+02]],\n",
       " \n",
       "        [[-7.00000e-02, -7.00000e-02, -7.00000e-02, -6.00000e-02,\n",
       "          -6.00000e-02, -6.00000e-02, -6.00000e-02, -6.00000e-02,\n",
       "          -6.00000e-02, -6.00000e-02, -6.00000e-02, -6.00000e-02,\n",
       "          -6.00000e-02, -7.00000e-02, -7.00000e-02, -6.00000e-02,\n",
       "          -7.00000e-02, -7.00000e-02, -7.00000e-02, -7.00000e-02,\n",
       "          -7.00000e-02, -8.00000e-02, -8.00000e-02, -8.00000e-02,\n",
       "          -8.00000e-02, -8.00000e-02, -8.00000e-02, -8.00000e-02,\n",
       "          -8.00000e-02, -8.00000e-02, -8.00000e-02, -8.00000e-02,\n",
       "          -8.00000e-02, -8.00000e-02, -8.00000e-02, -8.00000e-02,\n",
       "          -8.00000e-02, -8.00000e-02, -8.00000e-02, -8.00000e-02,\n",
       "          -8.00000e-02, -8.00000e-02, -8.00000e-02, -8.00000e-02,\n",
       "          -8.00000e-02, -8.00000e-02, -8.00000e-02, -8.00000e-02,\n",
       "          -8.00000e-02, -8.00000e-02, -8.00000e-02, -8.00000e-02,\n",
       "          -8.00000e-02, -8.00000e-02, -8.00000e-02, -8.00000e-02,\n",
       "          -8.00000e-02, -8.00000e-02, -8.00000e-02, -8.00000e-02]],\n",
       " \n",
       "        [[ 2.36364e+03,  2.36364e+03,  2.36364e+03,  2.39063e+03,\n",
       "           2.36066e+03,  2.38462e+03,  2.36508e+03,  2.36066e+03,\n",
       "           2.39344e+03,  2.38710e+03,  2.35938e+03,  2.38462e+03,\n",
       "           2.38095e+03,  2.37879e+03,  2.37879e+03,  2.34921e+03,\n",
       "           2.39437e+03,  2.38571e+03,  2.39726e+03,  2.37838e+03,\n",
       "           2.40541e+03,  2.38158e+03,  2.38158e+03,  2.37333e+03,\n",
       "           2.36364e+03,  2.37975e+03,  2.37500e+03,  2.38272e+03,\n",
       "           2.35802e+03,  2.36709e+03,  2.35897e+03,  2.35443e+03,\n",
       "           2.35443e+03,  2.36709e+03,  2.36585e+03,  2.36250e+03,\n",
       "           2.36585e+03,  2.37805e+03,  2.36145e+03,  2.37500e+03,\n",
       "           2.36585e+03,  2.35366e+03,  2.35802e+03,  2.35802e+03,\n",
       "           2.35802e+03,  2.35366e+03,  2.37349e+03,  2.36585e+03,\n",
       "           2.36585e+03,  2.36585e+03,  2.36585e+03,  2.35443e+03,\n",
       "           2.37037e+03,  2.33333e+03,  2.33766e+03,  2.33766e+03,\n",
       "           2.32000e+03,  2.32911e+03,  2.33333e+03,  2.35000e+03]],\n",
       " \n",
       "        [[ 2.35848e+03,  2.35848e+03,  2.35848e+03,  2.38572e+03,\n",
       "           2.35626e+03,  2.37957e+03,  2.36038e+03,  2.35626e+03,\n",
       "           2.38899e+03,  2.38250e+03,  2.35454e+03,  2.37957e+03,\n",
       "           2.37622e+03,  2.37360e+03,  2.37360e+03,  2.34454e+03,\n",
       "           2.38832e+03,  2.37986e+03,  2.39086e+03,  2.37186e+03,\n",
       "           2.39881e+03,  2.37469e+03,  2.37469e+03,  2.36665e+03,\n",
       "           2.35662e+03,  2.37231e+03,  2.36739e+03,  2.37489e+03,\n",
       "           2.35028e+03,  2.35969e+03,  2.35179e+03,  2.34707e+03,\n",
       "           2.34707e+03,  2.35969e+03,  2.35789e+03,  2.35493e+03,\n",
       "           2.35789e+03,  2.37004e+03,  2.35330e+03,  2.36739e+03,\n",
       "           2.35789e+03,  2.34573e+03,  2.35028e+03,  2.35028e+03,\n",
       "           2.35028e+03,  2.34573e+03,  2.36530e+03,  2.35789e+03,\n",
       "           2.35789e+03,  2.35789e+03,  2.35789e+03,  2.34707e+03,\n",
       "           2.36258e+03,  2.32622e+03,  2.33072e+03,  2.33072e+03,\n",
       "           2.31347e+03,  2.32183e+03,  2.32567e+03,  2.34247e+03]],\n",
       " \n",
       "        [[ 4.99000e+01,  4.99000e+01,  4.99000e+01,  4.99000e+01,\n",
       "           4.99000e+01,  4.99000e+01,  4.99000e+01,  4.99000e+01,\n",
       "           4.99000e+01,  4.99000e+01,  4.99000e+01,  4.99000e+01,\n",
       "           4.99000e+01,  4.99000e+01,  4.99000e+01,  4.99000e+01,\n",
       "           4.99000e+01,  4.99000e+01,  4.99000e+01,  4.99000e+01,\n",
       "           4.99000e+01,  4.99000e+01,  4.99000e+01,  4.99000e+01,\n",
       "           4.99000e+01,  4.99000e+01,  4.99000e+01,  4.99000e+01,\n",
       "           4.99000e+01,  4.99000e+01,  4.99000e+01,  4.99000e+01,\n",
       "           4.99000e+01,  4.99000e+01,  4.99000e+01,  4.99000e+01,\n",
       "           4.99000e+01,  4.99000e+01,  4.99000e+01,  4.99000e+01,\n",
       "           4.99000e+01,  4.99000e+01,  4.99000e+01,  4.99000e+01,\n",
       "           4.99000e+01,  4.99000e+01,  4.99000e+01,  4.99000e+01,\n",
       "           4.99000e+01,  4.99000e+01,  4.99000e+01,  4.99000e+01,\n",
       "           4.99000e+01,  4.99000e+01,  4.99000e+01,  4.99000e+01,\n",
       "           4.99000e+01,  4.99000e+01,  4.99000e+01,  4.99000e+01]]]),\n",
       " array([False,  True, False, False]))"
      ]
     },
     "execution_count": 422,
     "metadata": {},
     "output_type": "execute_result"
    }
   ],
   "source": [
    "# Check out the training data ( file  and labels)\n",
    "X_train[0], y_train[0]"
   ]
  },
  {
   "cell_type": "code",
   "execution_count": 427,
   "metadata": {},
   "outputs": [],
   "source": [
    "# Define the batch size, 32 is a good default\n",
    "BATCH_SIZE = 32\n",
    "\n",
    "# Create a function to turn data into batches\n",
    "def create_data_batches(x, y=None, batch_size=BATCH_SIZE, valid_data=False, test_data=False):\n",
    "    \"\"\"\n",
    "      Creates batches of data out of  (x) and label (y) pairs.\n",
    "      Shuffles the data if it's training data but doesn't shuffle it if it's validation data.\n",
    "      Also accepts test data as input (no labels).\n",
    "    \"\"\"\n",
    "  # If the data is a test dataset, we probably don't have labels\n",
    "    if test_data:\n",
    "        print(\"Creating test data batches...\")\n",
    "        data = tf.data.Dataset.from_tensor_slices((tf.constant(x))) # only files\n",
    "        data_batch = data.batch(BATCH_SIZE)\n",
    "        return data_batch\n",
    "  \n",
    "  # If the data if a valid dataset, we don't need to shuffle it\n",
    "    elif valid_data:\n",
    "        print(\"Creating validation data batches...\")\n",
    "        data = tf.data.Dataset.from_tensor_slices((tf.constant(x), # filepaths\n",
    "                                                   tf.constant(y))) # labels\n",
    "        data_batch = data.batch(BATCH_SIZE)\n",
    "        return data_batch\n",
    "\n",
    "    else:\n",
    "        # If the data is a training dataset, we shuffle it\n",
    "        print(\"Creating training data batches...\")\n",
    "        # Turn filepaths and labels into Tensors\n",
    "        data = tf.data.Dataset.from_tensor_slices((tf.constant(x), # filepaths\n",
    "                                                  tf.constant(y))) # labels\n",
    "    \n",
    "        # Shuffling pathnames and labels before mapping image processor function is faster than shuffling images\n",
    "        data = data.shuffle(buffer_size=len(x))\n",
    "\n",
    "        \n",
    "        # Turn the data into batches\n",
    "        data_batch = data.batch(BATCH_SIZE)\n",
    "    return data_batch"
   ]
  },
  {
   "cell_type": "code",
   "execution_count": 428,
   "metadata": {},
   "outputs": [
    {
     "name": "stdout",
     "output_type": "stream",
     "text": [
      "Creating training data batches...\n",
      "Creating validation data batches...\n"
     ]
    }
   ],
   "source": [
    "# Create training and validation data batches\n",
    "train_data = create_data_batches(X_train, y_train)\n",
    "val_data = create_data_batches(X_val, y_val, valid_data=True)"
   ]
  },
  {
   "cell_type": "code",
   "execution_count": 429,
   "metadata": {},
   "outputs": [
    {
     "data": {
      "text/plain": [
       "((TensorSpec(shape=(None, 7, 1, 60), dtype=tf.float64, name=None),\n",
       "  TensorSpec(shape=(None, 4), dtype=tf.bool, name=None)),\n",
       " (TensorSpec(shape=(None, 7, 1, 60), dtype=tf.float64, name=None),\n",
       "  TensorSpec(shape=(None, 4), dtype=tf.bool, name=None)))"
      ]
     },
     "execution_count": 429,
     "metadata": {},
     "output_type": "execute_result"
    }
   ],
   "source": [
    "# Check out the different attributes of our data batches\n",
    "train_data.element_spec, val_data.element_spec"
   ]
  },
  {
   "cell_type": "code",
   "execution_count": 501,
   "metadata": {},
   "outputs": [],
   "source": [
    "# Setup input shape to the model\n",
    "INPUT_SHAPE = [None, 7, 1, 60] # batch, rows, columns, features\n",
    "\n",
    "# Setup output shape of the model\n",
    "OUTPUT_SHAPE = len(unique_devices) # number of unique labels\n",
    "\n"
   ]
  },
  {
   "cell_type": "markdown",
   "metadata": {},
   "source": [
    "# installing package in jupyter"
   ]
  },
  {
   "cell_type": "code",
   "execution_count": 502,
   "metadata": {},
   "outputs": [],
   "source": [
    "# import sys\n",
    "# !pip install --upgrade tensorflow_hub\n",
    "\n"
   ]
  },
  {
   "cell_type": "code",
   "execution_count": 516,
   "metadata": {},
   "outputs": [],
   "source": [
    "from sklearn.model_selection import RepeatedKFold\n",
    "from tensorflow.keras.models import Sequential\n",
    "from tensorflow.keras.layers import Dense\n",
    "from sklearn.metrics import accuracy_score\n",
    "from tensorflow import keras\n",
    "from tensorflow.keras import layers"
   ]
  },
  {
   "cell_type": "code",
   "execution_count": 722,
   "metadata": {},
   "outputs": [],
   "source": [
    "# Create a function which builds a Keras model\n",
    "def create_model(input_shape=INPUT_SHAPE, output_shape=OUTPUT_SHAPE):\n",
    "    print(\"Building model \")\n",
    "    \n",
    "    np.random.seed(42)\n",
    "  # Setup the model layers\n",
    "    model = keras.Sequential()\n",
    "    model.add(layers.Dense(60, activation=\"relu\", input_shape=(7,1,60), kernel_initializer='he_uniform'))\n",
    "#     model.add(layers.Dense(4, activation='sigmoid'))\n",
    "    model.add(tf.keras.layers.Flatten()) \n",
    "    model.add(Dense(64))\n",
    "    model.add(tf.keras.layers.Dropout(0.5))\n",
    "    model.add(Dense(4, activation='sigmoid'))\n",
    "\n",
    "  # Compile the model\n",
    "    model.compile(loss='binary_crossentropy', optimizer='adam')\n",
    "    \n",
    "    model.build(INPUT_SHAPE) # Let the model know what kind of inputs it'll be getting\n",
    "\n",
    "    return model"
   ]
  },
  {
   "cell_type": "code",
   "execution_count": 553,
   "metadata": {},
   "outputs": [
    {
     "name": "stdout",
     "output_type": "stream",
     "text": [
      "Building model with\n",
      "Model: \"sequential_26\"\n",
      "_________________________________________________________________\n",
      "Layer (type)                 Output Shape              Param #   \n",
      "=================================================================\n",
      "dense_46 (Dense)             (None, 7, 1, 60)          3660      \n",
      "_________________________________________________________________\n",
      "flatten_4 (Flatten)          (None, 420)               0         \n",
      "_________________________________________________________________\n",
      "dense_47 (Dense)             (None, 64)                26944     \n",
      "_________________________________________________________________\n",
      "dropout_3 (Dropout)          (None, 64)                0         \n",
      "_________________________________________________________________\n",
      "dense_48 (Dense)             (None, 4)                 260       \n",
      "=================================================================\n",
      "Total params: 30,864\n",
      "Trainable params: 30,864\n",
      "Non-trainable params: 0\n",
      "_________________________________________________________________\n"
     ]
    }
   ],
   "source": [
    "# Create a model and check its details\n",
    "model = create_model()\n",
    "model.summary()"
   ]
  },
  {
   "cell_type": "code",
   "execution_count": 635,
   "metadata": {},
   "outputs": [],
   "source": [
    "# Load the TensorBoard notebook extension\n",
    "%load_ext tensorboard"
   ]
  },
  {
   "cell_type": "code",
   "execution_count": 723,
   "metadata": {},
   "outputs": [],
   "source": [
    "import datetime\n",
    "\n",
    "# Create a function to build a TensorBoard callback\n",
    "def create_tensorboard_callback():\n",
    "    # Create a log directory for storing TensorBoard logs\n",
    "    logdir = os.path.join(\".\\logs\",\n",
    "                        # Make it so the logs get tracked whenever we run an experiment\n",
    "                        datetime.datetime.now().strftime(\"%Y%m%d-%H%M%S\"))\n",
    "    return tf.keras.callbacks.TensorBoard(logdir)"
   ]
  },
  {
   "cell_type": "code",
   "execution_count": 725,
   "metadata": {},
   "outputs": [],
   "source": [
    "# Create early stopping (once our model stops improving, stop training)\n",
    "early_stopping = tf.keras.callbacks.EarlyStopping(monitor=\"val_accuracy\",\n",
    "                                                  patience=5) # stops after 3 rounds of no improvements"
   ]
  },
  {
   "cell_type": "code",
   "execution_count": 726,
   "metadata": {},
   "outputs": [],
   "source": [
    "# How many rounds should we get the model to look through the data?\n",
    "NUM_EPOCHS = 100"
   ]
  },
  {
   "cell_type": "code",
   "execution_count": 727,
   "metadata": {},
   "outputs": [],
   "source": [
    "# Build a function to train and return a trained model\n",
    "def train_model():\n",
    "    \"\"\"\n",
    "  Trains a given model and returns the trained version.\n",
    "    \"\"\"\n",
    "  # Create a model\n",
    "    model = create_model()\n",
    "\n",
    "  # Create new TensorBoard session everytime we train a model\n",
    "    tensorboard = create_tensorboard_callback()\n",
    "\n",
    "  # Fit the model to the data passing it the callbacks we created\n",
    "    model.fit(x=train_data,\n",
    "            epochs=NUM_EPOCHS,\n",
    "            validation_data=val_data,\n",
    "            validation_freq=1, # check validation metrics every epoch\n",
    "            callbacks=[tensorboard, early_stopping])\n",
    "  \n",
    "    return model"
   ]
  },
  {
   "cell_type": "code",
   "execution_count": 728,
   "metadata": {},
   "outputs": [
    {
     "name": "stdout",
     "output_type": "stream",
     "text": [
      "Building model \n",
      "Epoch 1/100\n",
      " 2/10 [=====>........................] - ETA: 7s - loss: 436.1072WARNING:tensorflow:Callbacks method `on_train_batch_end` is slow compared to the batch time (batch time: 0.0000s vs `on_train_batch_end` time: 1.8107s). Check your callbacks.\n"
     ]
    },
    {
     "name": "stderr",
     "output_type": "stream",
     "text": [
      "WARNING:tensorflow:Callbacks method `on_train_batch_end` is slow compared to the batch time (batch time: 0.0000s vs `on_train_batch_end` time: 1.8107s). Check your callbacks.\n"
     ]
    },
    {
     "name": "stdout",
     "output_type": "stream",
     "text": [
      "WARNING:tensorflow:Early stopping conditioned on metric `val_accuracy` which is not available. Available metrics are: loss,val_loss\n"
     ]
    },
    {
     "name": "stderr",
     "output_type": "stream",
     "text": [
      "WARNING:tensorflow:Early stopping conditioned on metric `val_accuracy` which is not available. Available metrics are: loss,val_loss\n"
     ]
    },
    {
     "name": "stdout",
     "output_type": "stream",
     "text": [
      "10/10 [==============================] - 2s 214ms/step - loss: 172.6669 - val_loss: 34.8517\n",
      "Epoch 2/100\n",
      " 1/10 [==>...........................] - ETA: 0s - loss: 41.4840WARNING:tensorflow:Early stopping conditioned on metric `val_accuracy` which is not available. Available metrics are: loss,val_loss\n"
     ]
    },
    {
     "name": "stderr",
     "output_type": "stream",
     "text": [
      "WARNING:tensorflow:Early stopping conditioned on metric `val_accuracy` which is not available. Available metrics are: loss,val_loss\n"
     ]
    },
    {
     "name": "stdout",
     "output_type": "stream",
     "text": [
      "10/10 [==============================] - 0s 14ms/step - loss: 39.5374 - val_loss: 11.4591\n",
      "Epoch 3/100\n",
      " 1/10 [==>...........................] - ETA: 0s - loss: 19.9242WARNING:tensorflow:Early stopping conditioned on metric `val_accuracy` which is not available. Available metrics are: loss,val_loss\n"
     ]
    },
    {
     "name": "stderr",
     "output_type": "stream",
     "text": [
      "WARNING:tensorflow:Early stopping conditioned on metric `val_accuracy` which is not available. Available metrics are: loss,val_loss\n"
     ]
    },
    {
     "name": "stdout",
     "output_type": "stream",
     "text": [
      "10/10 [==============================] - 0s 13ms/step - loss: 20.1487 - val_loss: 9.6124\n",
      "Epoch 4/100\n",
      " 1/10 [==>...........................] - ETA: 0s - loss: 19.3112WARNING:tensorflow:Early stopping conditioned on metric `val_accuracy` which is not available. Available metrics are: loss,val_loss\n"
     ]
    },
    {
     "name": "stderr",
     "output_type": "stream",
     "text": [
      "WARNING:tensorflow:Early stopping conditioned on metric `val_accuracy` which is not available. Available metrics are: loss,val_loss\n"
     ]
    },
    {
     "name": "stdout",
     "output_type": "stream",
     "text": [
      "10/10 [==============================] - 0s 12ms/step - loss: 16.7614 - val_loss: 3.9368\n",
      "Epoch 5/100\n",
      " 1/10 [==>...........................] - ETA: 0s - loss: 11.4410WARNING:tensorflow:Early stopping conditioned on metric `val_accuracy` which is not available. Available metrics are: loss,val_loss\n"
     ]
    },
    {
     "name": "stderr",
     "output_type": "stream",
     "text": [
      "WARNING:tensorflow:Early stopping conditioned on metric `val_accuracy` which is not available. Available metrics are: loss,val_loss\n"
     ]
    },
    {
     "name": "stdout",
     "output_type": "stream",
     "text": [
      "10/10 [==============================] - 0s 13ms/step - loss: 9.4171 - val_loss: 1.5290\n",
      "Epoch 6/100\n",
      " 1/10 [==>...........................] - ETA: 0s - loss: 6.6370WARNING:tensorflow:Early stopping conditioned on metric `val_accuracy` which is not available. Available metrics are: loss,val_loss\n"
     ]
    },
    {
     "name": "stderr",
     "output_type": "stream",
     "text": [
      "WARNING:tensorflow:Early stopping conditioned on metric `val_accuracy` which is not available. Available metrics are: loss,val_loss\n"
     ]
    },
    {
     "name": "stdout",
     "output_type": "stream",
     "text": [
      "10/10 [==============================] - 0s 14ms/step - loss: 7.8458 - val_loss: 1.1362\n",
      "Epoch 7/100\n",
      " 1/10 [==>...........................] - ETA: 0s - loss: 6.5465WARNING:tensorflow:Early stopping conditioned on metric `val_accuracy` which is not available. Available metrics are: loss,val_loss\n"
     ]
    },
    {
     "name": "stderr",
     "output_type": "stream",
     "text": [
      "WARNING:tensorflow:Early stopping conditioned on metric `val_accuracy` which is not available. Available metrics are: loss,val_loss\n"
     ]
    },
    {
     "name": "stdout",
     "output_type": "stream",
     "text": [
      "10/10 [==============================] - 0s 11ms/step - loss: 5.4475 - val_loss: 1.1237\n",
      "Epoch 8/100\n",
      " 1/10 [==>...........................] - ETA: 0s - loss: 4.0537WARNING:tensorflow:Early stopping conditioned on metric `val_accuracy` which is not available. Available metrics are: loss,val_loss\n"
     ]
    },
    {
     "name": "stderr",
     "output_type": "stream",
     "text": [
      "WARNING:tensorflow:Early stopping conditioned on metric `val_accuracy` which is not available. Available metrics are: loss,val_loss\n"
     ]
    },
    {
     "name": "stdout",
     "output_type": "stream",
     "text": [
      "10/10 [==============================] - 0s 10ms/step - loss: 4.2103 - val_loss: 1.1142\n",
      "Epoch 9/100\n",
      " 1/10 [==>...........................] - ETA: 0s - loss: 3.5193WARNING:tensorflow:Early stopping conditioned on metric `val_accuracy` which is not available. Available metrics are: loss,val_loss\n"
     ]
    },
    {
     "name": "stderr",
     "output_type": "stream",
     "text": [
      "WARNING:tensorflow:Early stopping conditioned on metric `val_accuracy` which is not available. Available metrics are: loss,val_loss\n"
     ]
    },
    {
     "name": "stdout",
     "output_type": "stream",
     "text": [
      "10/10 [==============================] - 0s 10ms/step - loss: 3.7234 - val_loss: 0.9578\n",
      "Epoch 10/100\n",
      " 1/10 [==>...........................] - ETA: 0s - loss: 0.8105WARNING:tensorflow:Early stopping conditioned on metric `val_accuracy` which is not available. Available metrics are: loss,val_loss\n"
     ]
    },
    {
     "name": "stderr",
     "output_type": "stream",
     "text": [
      "WARNING:tensorflow:Early stopping conditioned on metric `val_accuracy` which is not available. Available metrics are: loss,val_loss\n"
     ]
    },
    {
     "name": "stdout",
     "output_type": "stream",
     "text": [
      "10/10 [==============================] - 0s 12ms/step - loss: 3.8768 - val_loss: 0.9915\n",
      "Epoch 11/100\n",
      " 1/10 [==>...........................] - ETA: 0s - loss: 2.4197WARNING:tensorflow:Early stopping conditioned on metric `val_accuracy` which is not available. Available metrics are: loss,val_loss\n"
     ]
    },
    {
     "name": "stderr",
     "output_type": "stream",
     "text": [
      "WARNING:tensorflow:Early stopping conditioned on metric `val_accuracy` which is not available. Available metrics are: loss,val_loss\n"
     ]
    },
    {
     "name": "stdout",
     "output_type": "stream",
     "text": [
      "10/10 [==============================] - 0s 11ms/step - loss: 2.4068 - val_loss: 0.9680\n",
      "Epoch 12/100\n",
      " 1/10 [==>...........................] - ETA: 0s - loss: 4.4131WARNING:tensorflow:Early stopping conditioned on metric `val_accuracy` which is not available. Available metrics are: loss,val_loss\n"
     ]
    },
    {
     "name": "stderr",
     "output_type": "stream",
     "text": [
      "WARNING:tensorflow:Early stopping conditioned on metric `val_accuracy` which is not available. Available metrics are: loss,val_loss\n"
     ]
    },
    {
     "name": "stdout",
     "output_type": "stream",
     "text": [
      "10/10 [==============================] - 0s 9ms/step - loss: 2.7821 - val_loss: 1.0882\n",
      "Epoch 13/100\n",
      " 1/10 [==>...........................] - ETA: 0s - loss: 4.1224WARNING:tensorflow:Early stopping conditioned on metric `val_accuracy` which is not available. Available metrics are: loss,val_loss\n"
     ]
    },
    {
     "name": "stderr",
     "output_type": "stream",
     "text": [
      "WARNING:tensorflow:Early stopping conditioned on metric `val_accuracy` which is not available. Available metrics are: loss,val_loss\n"
     ]
    },
    {
     "name": "stdout",
     "output_type": "stream",
     "text": [
      "10/10 [==============================] - 0s 9ms/step - loss: 2.9899 - val_loss: 0.9494\n",
      "Epoch 14/100\n",
      " 1/10 [==>...........................] - ETA: 0s - loss: 2.4589WARNING:tensorflow:Early stopping conditioned on metric `val_accuracy` which is not available. Available metrics are: loss,val_loss\n"
     ]
    },
    {
     "name": "stderr",
     "output_type": "stream",
     "text": [
      "WARNING:tensorflow:Early stopping conditioned on metric `val_accuracy` which is not available. Available metrics are: loss,val_loss\n"
     ]
    },
    {
     "name": "stdout",
     "output_type": "stream",
     "text": [
      "10/10 [==============================] - 0s 8ms/step - loss: 2.5260 - val_loss: 0.9114\n",
      "Epoch 15/100\n",
      " 1/10 [==>...........................] - ETA: 0s - loss: 0.9766WARNING:tensorflow:Early stopping conditioned on metric `val_accuracy` which is not available. Available metrics are: loss,val_loss\n"
     ]
    },
    {
     "name": "stderr",
     "output_type": "stream",
     "text": [
      "WARNING:tensorflow:Early stopping conditioned on metric `val_accuracy` which is not available. Available metrics are: loss,val_loss\n"
     ]
    },
    {
     "name": "stdout",
     "output_type": "stream",
     "text": [
      "10/10 [==============================] - 0s 8ms/step - loss: 1.4818 - val_loss: 1.0682\n",
      "Epoch 16/100\n",
      " 1/10 [==>...........................] - ETA: 0s - loss: 3.5568WARNING:tensorflow:Early stopping conditioned on metric `val_accuracy` which is not available. Available metrics are: loss,val_loss\n"
     ]
    },
    {
     "name": "stderr",
     "output_type": "stream",
     "text": [
      "WARNING:tensorflow:Early stopping conditioned on metric `val_accuracy` which is not available. Available metrics are: loss,val_loss\n"
     ]
    },
    {
     "name": "stdout",
     "output_type": "stream",
     "text": [
      "10/10 [==============================] - 0s 10ms/step - loss: 3.0155 - val_loss: 1.0588\n",
      "Epoch 17/100\n",
      " 1/10 [==>...........................] - ETA: 0s - loss: 1.3734WARNING:tensorflow:Early stopping conditioned on metric `val_accuracy` which is not available. Available metrics are: loss,val_loss\n"
     ]
    },
    {
     "name": "stderr",
     "output_type": "stream",
     "text": [
      "WARNING:tensorflow:Early stopping conditioned on metric `val_accuracy` which is not available. Available metrics are: loss,val_loss\n"
     ]
    },
    {
     "name": "stdout",
     "output_type": "stream",
     "text": [
      "10/10 [==============================] - 0s 10ms/step - loss: 2.2070 - val_loss: 1.0019\n",
      "Epoch 18/100\n",
      " 1/10 [==>...........................] - ETA: 0s - loss: 5.9074WARNING:tensorflow:Early stopping conditioned on metric `val_accuracy` which is not available. Available metrics are: loss,val_loss\n"
     ]
    },
    {
     "name": "stderr",
     "output_type": "stream",
     "text": [
      "WARNING:tensorflow:Early stopping conditioned on metric `val_accuracy` which is not available. Available metrics are: loss,val_loss\n"
     ]
    },
    {
     "name": "stdout",
     "output_type": "stream",
     "text": [
      "10/10 [==============================] - 0s 7ms/step - loss: 2.8435 - val_loss: 0.7946\n",
      "Epoch 19/100\n",
      " 1/10 [==>...........................] - ETA: 0s - loss: 4.6199WARNING:tensorflow:Early stopping conditioned on metric `val_accuracy` which is not available. Available metrics are: loss,val_loss\n"
     ]
    },
    {
     "name": "stderr",
     "output_type": "stream",
     "text": [
      "WARNING:tensorflow:Early stopping conditioned on metric `val_accuracy` which is not available. Available metrics are: loss,val_loss\n"
     ]
    },
    {
     "name": "stdout",
     "output_type": "stream",
     "text": [
      "10/10 [==============================] - 0s 16ms/step - loss: 1.7276 - val_loss: 0.8217\n",
      "Epoch 20/100\n",
      " 1/10 [==>...........................] - ETA: 0s - loss: 0.8886WARNING:tensorflow:Early stopping conditioned on metric `val_accuracy` which is not available. Available metrics are: loss,val_loss\n"
     ]
    },
    {
     "name": "stderr",
     "output_type": "stream",
     "text": [
      "WARNING:tensorflow:Early stopping conditioned on metric `val_accuracy` which is not available. Available metrics are: loss,val_loss\n"
     ]
    },
    {
     "name": "stdout",
     "output_type": "stream",
     "text": [
      "10/10 [==============================] - 0s 9ms/step - loss: 1.3547 - val_loss: 1.0028\n",
      "Epoch 21/100\n",
      " 1/10 [==>...........................] - ETA: 0s - loss: 0.2040WARNING:tensorflow:Early stopping conditioned on metric `val_accuracy` which is not available. Available metrics are: loss,val_loss\n"
     ]
    },
    {
     "name": "stderr",
     "output_type": "stream",
     "text": [
      "WARNING:tensorflow:Early stopping conditioned on metric `val_accuracy` which is not available. Available metrics are: loss,val_loss\n"
     ]
    },
    {
     "name": "stdout",
     "output_type": "stream",
     "text": [
      "10/10 [==============================] - 0s 10ms/step - loss: 1.0451 - val_loss: 0.8937\n",
      "Epoch 22/100\n",
      " 1/10 [==>...........................] - ETA: 0s - loss: 0.3587WARNING:tensorflow:Early stopping conditioned on metric `val_accuracy` which is not available. Available metrics are: loss,val_loss\n"
     ]
    },
    {
     "name": "stderr",
     "output_type": "stream",
     "text": [
      "WARNING:tensorflow:Early stopping conditioned on metric `val_accuracy` which is not available. Available metrics are: loss,val_loss\n"
     ]
    },
    {
     "name": "stdout",
     "output_type": "stream",
     "text": [
      "10/10 [==============================] - 0s 10ms/step - loss: 0.3680 - val_loss: 0.9068\n",
      "Epoch 23/100\n",
      " 1/10 [==>...........................] - ETA: 0s - loss: 0.1905WARNING:tensorflow:Early stopping conditioned on metric `val_accuracy` which is not available. Available metrics are: loss,val_loss\n"
     ]
    },
    {
     "name": "stderr",
     "output_type": "stream",
     "text": [
      "WARNING:tensorflow:Early stopping conditioned on metric `val_accuracy` which is not available. Available metrics are: loss,val_loss\n"
     ]
    },
    {
     "name": "stdout",
     "output_type": "stream",
     "text": [
      "10/10 [==============================] - 0s 33ms/step - loss: 1.2170 - val_loss: 0.9932\n",
      "Epoch 24/100\n",
      " 1/10 [==>...........................] - ETA: 0s - loss: 0.3447WARNING:tensorflow:Early stopping conditioned on metric `val_accuracy` which is not available. Available metrics are: loss,val_loss\n"
     ]
    },
    {
     "name": "stderr",
     "output_type": "stream",
     "text": [
      "WARNING:tensorflow:Early stopping conditioned on metric `val_accuracy` which is not available. Available metrics are: loss,val_loss\n"
     ]
    },
    {
     "name": "stdout",
     "output_type": "stream",
     "text": [
      "10/10 [==============================] - 0s 21ms/step - loss: 0.6939 - val_loss: 0.8660\n",
      "Epoch 25/100\n",
      " 1/10 [==>...........................] - ETA: 0s - loss: 0.1056WARNING:tensorflow:Early stopping conditioned on metric `val_accuracy` which is not available. Available metrics are: loss,val_loss\n"
     ]
    },
    {
     "name": "stderr",
     "output_type": "stream",
     "text": [
      "WARNING:tensorflow:Early stopping conditioned on metric `val_accuracy` which is not available. Available metrics are: loss,val_loss\n"
     ]
    },
    {
     "name": "stdout",
     "output_type": "stream",
     "text": [
      "10/10 [==============================] - 0s 22ms/step - loss: 0.4191 - val_loss: 0.9763\n",
      "Epoch 26/100\n",
      " 1/10 [==>...........................] - ETA: 0s - loss: 4.1738WARNING:tensorflow:Early stopping conditioned on metric `val_accuracy` which is not available. Available metrics are: loss,val_loss\n"
     ]
    },
    {
     "name": "stderr",
     "output_type": "stream",
     "text": [
      "WARNING:tensorflow:Early stopping conditioned on metric `val_accuracy` which is not available. Available metrics are: loss,val_loss\n"
     ]
    },
    {
     "name": "stdout",
     "output_type": "stream",
     "text": [
      "10/10 [==============================] - 0s 49ms/step - loss: 1.1767 - val_loss: 0.8400\n",
      "Epoch 27/100\n",
      " 1/10 [==>...........................] - ETA: 0s - loss: 0.7096WARNING:tensorflow:Early stopping conditioned on metric `val_accuracy` which is not available. Available metrics are: loss,val_loss\n"
     ]
    },
    {
     "name": "stderr",
     "output_type": "stream",
     "text": [
      "WARNING:tensorflow:Early stopping conditioned on metric `val_accuracy` which is not available. Available metrics are: loss,val_loss\n"
     ]
    },
    {
     "name": "stdout",
     "output_type": "stream",
     "text": [
      "10/10 [==============================] - 0s 16ms/step - loss: 0.8535 - val_loss: 0.8020\n",
      "Epoch 28/100\n",
      " 1/10 [==>...........................] - ETA: 0s - loss: 0.2368WARNING:tensorflow:Early stopping conditioned on metric `val_accuracy` which is not available. Available metrics are: loss,val_loss\n"
     ]
    },
    {
     "name": "stderr",
     "output_type": "stream",
     "text": [
      "WARNING:tensorflow:Early stopping conditioned on metric `val_accuracy` which is not available. Available metrics are: loss,val_loss\n"
     ]
    },
    {
     "name": "stdout",
     "output_type": "stream",
     "text": [
      "10/10 [==============================] - 0s 10ms/step - loss: 0.5888 - val_loss: 0.9279\n",
      "Epoch 29/100\n",
      " 1/10 [==>...........................] - ETA: 0s - loss: 0.2144WARNING:tensorflow:Early stopping conditioned on metric `val_accuracy` which is not available. Available metrics are: loss,val_loss\n"
     ]
    },
    {
     "name": "stderr",
     "output_type": "stream",
     "text": [
      "WARNING:tensorflow:Early stopping conditioned on metric `val_accuracy` which is not available. Available metrics are: loss,val_loss\n"
     ]
    },
    {
     "name": "stdout",
     "output_type": "stream",
     "text": [
      "10/10 [==============================] - 0s 19ms/step - loss: 0.6266 - val_loss: 0.9153\n",
      "Epoch 30/100\n",
      " 1/10 [==>...........................] - ETA: 0s - loss: 0.2183WARNING:tensorflow:Early stopping conditioned on metric `val_accuracy` which is not available. Available metrics are: loss,val_loss\n"
     ]
    },
    {
     "name": "stderr",
     "output_type": "stream",
     "text": [
      "WARNING:tensorflow:Early stopping conditioned on metric `val_accuracy` which is not available. Available metrics are: loss,val_loss\n"
     ]
    },
    {
     "name": "stdout",
     "output_type": "stream",
     "text": [
      "10/10 [==============================] - 0s 10ms/step - loss: 0.3213 - val_loss: 0.7574\n",
      "Epoch 31/100\n",
      " 1/10 [==>...........................] - ETA: 0s - loss: 0.0083WARNING:tensorflow:Early stopping conditioned on metric `val_accuracy` which is not available. Available metrics are: loss,val_loss\n"
     ]
    },
    {
     "name": "stderr",
     "output_type": "stream",
     "text": [
      "WARNING:tensorflow:Early stopping conditioned on metric `val_accuracy` which is not available. Available metrics are: loss,val_loss\n"
     ]
    },
    {
     "name": "stdout",
     "output_type": "stream",
     "text": [
      "10/10 [==============================] - 0s 8ms/step - loss: 0.4734 - val_loss: 0.8629\n",
      "Epoch 32/100\n",
      " 1/10 [==>...........................] - ETA: 0s - loss: 0.1104WARNING:tensorflow:Early stopping conditioned on metric `val_accuracy` which is not available. Available metrics are: loss,val_loss\n"
     ]
    },
    {
     "name": "stderr",
     "output_type": "stream",
     "text": [
      "WARNING:tensorflow:Early stopping conditioned on metric `val_accuracy` which is not available. Available metrics are: loss,val_loss\n"
     ]
    },
    {
     "name": "stdout",
     "output_type": "stream",
     "text": [
      "10/10 [==============================] - 0s 10ms/step - loss: 0.7550 - val_loss: 0.8796\n",
      "Epoch 33/100\n",
      " 1/10 [==>...........................] - ETA: 0s - loss: 1.3018WARNING:tensorflow:Early stopping conditioned on metric `val_accuracy` which is not available. Available metrics are: loss,val_loss\n"
     ]
    },
    {
     "name": "stderr",
     "output_type": "stream",
     "text": [
      "WARNING:tensorflow:Early stopping conditioned on metric `val_accuracy` which is not available. Available metrics are: loss,val_loss\n"
     ]
    },
    {
     "name": "stdout",
     "output_type": "stream",
     "text": [
      "10/10 [==============================] - 0s 10ms/step - loss: 0.4179 - val_loss: 0.8630\n",
      "Epoch 34/100\n",
      " 1/10 [==>...........................] - ETA: 0s - loss: 0.3283WARNING:tensorflow:Early stopping conditioned on metric `val_accuracy` which is not available. Available metrics are: loss,val_loss\n"
     ]
    },
    {
     "name": "stderr",
     "output_type": "stream",
     "text": [
      "WARNING:tensorflow:Early stopping conditioned on metric `val_accuracy` which is not available. Available metrics are: loss,val_loss\n"
     ]
    },
    {
     "name": "stdout",
     "output_type": "stream",
     "text": [
      "10/10 [==============================] - 0s 10ms/step - loss: 0.1831 - val_loss: 0.9040\n",
      "Epoch 35/100\n",
      " 1/10 [==>...........................] - ETA: 0s - loss: 0.3937WARNING:tensorflow:Early stopping conditioned on metric `val_accuracy` which is not available. Available metrics are: loss,val_loss\n"
     ]
    },
    {
     "name": "stderr",
     "output_type": "stream",
     "text": [
      "WARNING:tensorflow:Early stopping conditioned on metric `val_accuracy` which is not available. Available metrics are: loss,val_loss\n"
     ]
    },
    {
     "name": "stdout",
     "output_type": "stream",
     "text": [
      "10/10 [==============================] - 0s 8ms/step - loss: 0.2142 - val_loss: 0.8574\n",
      "Epoch 36/100\n",
      " 1/10 [==>...........................] - ETA: 0s - loss: 0.4521WARNING:tensorflow:Early stopping conditioned on metric `val_accuracy` which is not available. Available metrics are: loss,val_loss\n"
     ]
    },
    {
     "name": "stderr",
     "output_type": "stream",
     "text": [
      "WARNING:tensorflow:Early stopping conditioned on metric `val_accuracy` which is not available. Available metrics are: loss,val_loss\n"
     ]
    },
    {
     "name": "stdout",
     "output_type": "stream",
     "text": [
      "10/10 [==============================] - 0s 9ms/step - loss: 0.5347 - val_loss: 1.0114\n",
      "Epoch 37/100\n",
      " 1/10 [==>...........................] - ETA: 0s - loss: 0.1455WARNING:tensorflow:Early stopping conditioned on metric `val_accuracy` which is not available. Available metrics are: loss,val_loss\n"
     ]
    },
    {
     "name": "stderr",
     "output_type": "stream",
     "text": [
      "WARNING:tensorflow:Early stopping conditioned on metric `val_accuracy` which is not available. Available metrics are: loss,val_loss\n"
     ]
    },
    {
     "name": "stdout",
     "output_type": "stream",
     "text": [
      "10/10 [==============================] - 0s 11ms/step - loss: 0.1760 - val_loss: 1.0882\n",
      "Epoch 38/100\n",
      " 1/10 [==>...........................] - ETA: 0s - loss: 0.4321WARNING:tensorflow:Early stopping conditioned on metric `val_accuracy` which is not available. Available metrics are: loss,val_loss\n"
     ]
    },
    {
     "name": "stderr",
     "output_type": "stream",
     "text": [
      "WARNING:tensorflow:Early stopping conditioned on metric `val_accuracy` which is not available. Available metrics are: loss,val_loss\n"
     ]
    },
    {
     "name": "stdout",
     "output_type": "stream",
     "text": [
      "10/10 [==============================] - 0s 10ms/step - loss: 0.3237 - val_loss: 1.0593\n",
      "Epoch 39/100\n",
      " 1/10 [==>...........................] - ETA: 0s - loss: 2.7619e-12WARNING:tensorflow:Early stopping conditioned on metric `val_accuracy` which is not available. Available metrics are: loss,val_loss\n"
     ]
    },
    {
     "name": "stderr",
     "output_type": "stream",
     "text": [
      "WARNING:tensorflow:Early stopping conditioned on metric `val_accuracy` which is not available. Available metrics are: loss,val_loss\n"
     ]
    },
    {
     "name": "stdout",
     "output_type": "stream",
     "text": [
      "10/10 [==============================] - 0s 9ms/step - loss: 0.1982 - val_loss: 1.1285\n",
      "Epoch 40/100\n",
      " 1/10 [==>...........................] - ETA: 0s - loss: 0.0384WARNING:tensorflow:Early stopping conditioned on metric `val_accuracy` which is not available. Available metrics are: loss,val_loss\n"
     ]
    },
    {
     "name": "stderr",
     "output_type": "stream",
     "text": [
      "WARNING:tensorflow:Early stopping conditioned on metric `val_accuracy` which is not available. Available metrics are: loss,val_loss\n"
     ]
    },
    {
     "name": "stdout",
     "output_type": "stream",
     "text": [
      "10/10 [==============================] - 0s 7ms/step - loss: 0.3853 - val_loss: 1.0876\n",
      "Epoch 41/100\n",
      " 1/10 [==>...........................] - ETA: 0s - loss: 0.9052WARNING:tensorflow:Early stopping conditioned on metric `val_accuracy` which is not available. Available metrics are: loss,val_loss\n"
     ]
    },
    {
     "name": "stderr",
     "output_type": "stream",
     "text": [
      "WARNING:tensorflow:Early stopping conditioned on metric `val_accuracy` which is not available. Available metrics are: loss,val_loss\n"
     ]
    },
    {
     "name": "stdout",
     "output_type": "stream",
     "text": [
      "10/10 [==============================] - 0s 10ms/step - loss: 0.1426 - val_loss: 1.1526\n",
      "Epoch 42/100\n",
      " 1/10 [==>...........................] - ETA: 0s - loss: 0.1505WARNING:tensorflow:Early stopping conditioned on metric `val_accuracy` which is not available. Available metrics are: loss,val_loss\n"
     ]
    },
    {
     "name": "stderr",
     "output_type": "stream",
     "text": [
      "WARNING:tensorflow:Early stopping conditioned on metric `val_accuracy` which is not available. Available metrics are: loss,val_loss\n"
     ]
    },
    {
     "name": "stdout",
     "output_type": "stream",
     "text": [
      "10/10 [==============================] - 0s 10ms/step - loss: 0.3888 - val_loss: 1.1947\n",
      "Epoch 43/100\n",
      " 1/10 [==>...........................] - ETA: 0s - loss: 5.2267WARNING:tensorflow:Early stopping conditioned on metric `val_accuracy` which is not available. Available metrics are: loss,val_loss\n"
     ]
    },
    {
     "name": "stderr",
     "output_type": "stream",
     "text": [
      "WARNING:tensorflow:Early stopping conditioned on metric `val_accuracy` which is not available. Available metrics are: loss,val_loss\n"
     ]
    },
    {
     "name": "stdout",
     "output_type": "stream",
     "text": [
      "10/10 [==============================] - 0s 9ms/step - loss: 0.7128 - val_loss: 0.8757\n",
      "Epoch 44/100\n",
      " 1/10 [==>...........................] - ETA: 0s - loss: 0.1980WARNING:tensorflow:Early stopping conditioned on metric `val_accuracy` which is not available. Available metrics are: loss,val_loss\n"
     ]
    },
    {
     "name": "stderr",
     "output_type": "stream",
     "text": [
      "WARNING:tensorflow:Early stopping conditioned on metric `val_accuracy` which is not available. Available metrics are: loss,val_loss\n"
     ]
    },
    {
     "name": "stdout",
     "output_type": "stream",
     "text": [
      "10/10 [==============================] - 0s 9ms/step - loss: 0.8328 - val_loss: 0.9595\n",
      "Epoch 45/100\n",
      " 1/10 [==>...........................] - ETA: 0s - loss: 1.9866e-04WARNING:tensorflow:Early stopping conditioned on metric `val_accuracy` which is not available. Available metrics are: loss,val_loss\n"
     ]
    },
    {
     "name": "stderr",
     "output_type": "stream",
     "text": [
      "WARNING:tensorflow:Early stopping conditioned on metric `val_accuracy` which is not available. Available metrics are: loss,val_loss\n"
     ]
    },
    {
     "name": "stdout",
     "output_type": "stream",
     "text": [
      "10/10 [==============================] - 0s 9ms/step - loss: 1.0523 - val_loss: 0.8853\n",
      "Epoch 46/100\n",
      " 1/10 [==>...........................] - ETA: 0s - loss: 1.8654e-05WARNING:tensorflow:Early stopping conditioned on metric `val_accuracy` which is not available. Available metrics are: loss,val_loss\n"
     ]
    },
    {
     "name": "stderr",
     "output_type": "stream",
     "text": [
      "WARNING:tensorflow:Early stopping conditioned on metric `val_accuracy` which is not available. Available metrics are: loss,val_loss\n"
     ]
    },
    {
     "name": "stdout",
     "output_type": "stream",
     "text": [
      "10/10 [==============================] - 0s 7ms/step - loss: 0.1008 - val_loss: 0.9049\n",
      "Epoch 47/100\n",
      " 1/10 [==>...........................] - ETA: 0s - loss: 0.7103WARNING:tensorflow:Early stopping conditioned on metric `val_accuracy` which is not available. Available metrics are: loss,val_loss\n"
     ]
    },
    {
     "name": "stderr",
     "output_type": "stream",
     "text": [
      "WARNING:tensorflow:Early stopping conditioned on metric `val_accuracy` which is not available. Available metrics are: loss,val_loss\n"
     ]
    },
    {
     "name": "stdout",
     "output_type": "stream",
     "text": [
      "10/10 [==============================] - 0s 10ms/step - loss: 0.1755 - val_loss: 0.9908\n",
      "Epoch 48/100\n",
      " 1/10 [==>...........................] - ETA: 0s - loss: 8.8461e-06WARNING:tensorflow:Early stopping conditioned on metric `val_accuracy` which is not available. Available metrics are: loss,val_loss\n"
     ]
    },
    {
     "name": "stderr",
     "output_type": "stream",
     "text": [
      "WARNING:tensorflow:Early stopping conditioned on metric `val_accuracy` which is not available. Available metrics are: loss,val_loss\n"
     ]
    },
    {
     "name": "stdout",
     "output_type": "stream",
     "text": [
      "10/10 [==============================] - 0s 8ms/step - loss: 0.0930 - val_loss: 0.8967\n",
      "Epoch 49/100\n",
      " 1/10 [==>...........................] - ETA: 0s - loss: 0.3555WARNING:tensorflow:Early stopping conditioned on metric `val_accuracy` which is not available. Available metrics are: loss,val_loss\n"
     ]
    },
    {
     "name": "stderr",
     "output_type": "stream",
     "text": [
      "WARNING:tensorflow:Early stopping conditioned on metric `val_accuracy` which is not available. Available metrics are: loss,val_loss\n"
     ]
    },
    {
     "name": "stdout",
     "output_type": "stream",
     "text": [
      "10/10 [==============================] - 0s 10ms/step - loss: 0.1718 - val_loss: 0.7896\n",
      "Epoch 50/100\n",
      " 1/10 [==>...........................] - ETA: 0s - loss: 2.7506e-10WARNING:tensorflow:Early stopping conditioned on metric `val_accuracy` which is not available. Available metrics are: loss,val_loss\n"
     ]
    },
    {
     "name": "stderr",
     "output_type": "stream",
     "text": [
      "WARNING:tensorflow:Early stopping conditioned on metric `val_accuracy` which is not available. Available metrics are: loss,val_loss\n"
     ]
    },
    {
     "name": "stdout",
     "output_type": "stream",
     "text": [
      "10/10 [==============================] - 0s 10ms/step - loss: 0.2014 - val_loss: 0.8389\n",
      "Epoch 51/100\n",
      " 1/10 [==>...........................] - ETA: 0s - loss: 0.0100WARNING:tensorflow:Early stopping conditioned on metric `val_accuracy` which is not available. Available metrics are: loss,val_loss\n"
     ]
    },
    {
     "name": "stderr",
     "output_type": "stream",
     "text": [
      "WARNING:tensorflow:Early stopping conditioned on metric `val_accuracy` which is not available. Available metrics are: loss,val_loss\n"
     ]
    },
    {
     "name": "stdout",
     "output_type": "stream",
     "text": [
      "10/10 [==============================] - 0s 16ms/step - loss: 0.2008 - val_loss: 0.9065\n",
      "Epoch 52/100\n",
      " 1/10 [==>...........................] - ETA: 0s - loss: 0.3348WARNING:tensorflow:Early stopping conditioned on metric `val_accuracy` which is not available. Available metrics are: loss,val_loss\n"
     ]
    },
    {
     "name": "stderr",
     "output_type": "stream",
     "text": [
      "WARNING:tensorflow:Early stopping conditioned on metric `val_accuracy` which is not available. Available metrics are: loss,val_loss\n"
     ]
    },
    {
     "name": "stdout",
     "output_type": "stream",
     "text": [
      "10/10 [==============================] - 0s 11ms/step - loss: 0.1481 - val_loss: 1.1073\n",
      "Epoch 53/100\n",
      " 1/10 [==>...........................] - ETA: 0s - loss: 0.2797WARNING:tensorflow:Early stopping conditioned on metric `val_accuracy` which is not available. Available metrics are: loss,val_loss\n"
     ]
    },
    {
     "name": "stderr",
     "output_type": "stream",
     "text": [
      "WARNING:tensorflow:Early stopping conditioned on metric `val_accuracy` which is not available. Available metrics are: loss,val_loss\n"
     ]
    },
    {
     "name": "stdout",
     "output_type": "stream",
     "text": [
      "10/10 [==============================] - 0s 9ms/step - loss: 0.1395 - val_loss: 0.9317\n",
      "Epoch 54/100\n",
      " 1/10 [==>...........................] - ETA: 0s - loss: 1.1130WARNING:tensorflow:Early stopping conditioned on metric `val_accuracy` which is not available. Available metrics are: loss,val_loss\n"
     ]
    },
    {
     "name": "stderr",
     "output_type": "stream",
     "text": [
      "WARNING:tensorflow:Early stopping conditioned on metric `val_accuracy` which is not available. Available metrics are: loss,val_loss\n"
     ]
    },
    {
     "name": "stdout",
     "output_type": "stream",
     "text": [
      "10/10 [==============================] - 0s 10ms/step - loss: 0.3294 - val_loss: 0.8863\n",
      "Epoch 55/100\n",
      " 1/10 [==>...........................] - ETA: 0s - loss: 8.7039e-07WARNING:tensorflow:Early stopping conditioned on metric `val_accuracy` which is not available. Available metrics are: loss,val_loss\n"
     ]
    },
    {
     "name": "stderr",
     "output_type": "stream",
     "text": [
      "WARNING:tensorflow:Early stopping conditioned on metric `val_accuracy` which is not available. Available metrics are: loss,val_loss\n"
     ]
    },
    {
     "name": "stdout",
     "output_type": "stream",
     "text": [
      "10/10 [==============================] - 0s 10ms/step - loss: 0.1473 - val_loss: 0.9096\n",
      "Epoch 56/100\n",
      " 1/10 [==>...........................] - ETA: 0s - loss: 0.3872WARNING:tensorflow:Early stopping conditioned on metric `val_accuracy` which is not available. Available metrics are: loss,val_loss\n"
     ]
    },
    {
     "name": "stderr",
     "output_type": "stream",
     "text": [
      "WARNING:tensorflow:Early stopping conditioned on metric `val_accuracy` which is not available. Available metrics are: loss,val_loss\n"
     ]
    },
    {
     "name": "stdout",
     "output_type": "stream",
     "text": [
      "10/10 [==============================] - 0s 9ms/step - loss: 0.1334 - val_loss: 1.0345\n",
      "Epoch 57/100\n",
      " 1/10 [==>...........................] - ETA: 0s - loss: 0.0746WARNING:tensorflow:Early stopping conditioned on metric `val_accuracy` which is not available. Available metrics are: loss,val_loss\n"
     ]
    },
    {
     "name": "stderr",
     "output_type": "stream",
     "text": [
      "WARNING:tensorflow:Early stopping conditioned on metric `val_accuracy` which is not available. Available metrics are: loss,val_loss\n"
     ]
    },
    {
     "name": "stdout",
     "output_type": "stream",
     "text": [
      "10/10 [==============================] - 0s 11ms/step - loss: 0.0839 - val_loss: 1.0665\n",
      "Epoch 58/100\n",
      " 1/10 [==>...........................] - ETA: 0s - loss: 0.0358WARNING:tensorflow:Early stopping conditioned on metric `val_accuracy` which is not available. Available metrics are: loss,val_loss\n"
     ]
    },
    {
     "name": "stderr",
     "output_type": "stream",
     "text": [
      "WARNING:tensorflow:Early stopping conditioned on metric `val_accuracy` which is not available. Available metrics are: loss,val_loss\n"
     ]
    },
    {
     "name": "stdout",
     "output_type": "stream",
     "text": [
      "10/10 [==============================] - 0s 12ms/step - loss: 0.0943 - val_loss: 0.9767\n",
      "Epoch 59/100\n",
      " 1/10 [==>...........................] - ETA: 0s - loss: 3.5894e-09WARNING:tensorflow:Early stopping conditioned on metric `val_accuracy` which is not available. Available metrics are: loss,val_loss\n"
     ]
    },
    {
     "name": "stderr",
     "output_type": "stream",
     "text": [
      "WARNING:tensorflow:Early stopping conditioned on metric `val_accuracy` which is not available. Available metrics are: loss,val_loss\n"
     ]
    },
    {
     "name": "stdout",
     "output_type": "stream",
     "text": [
      "10/10 [==============================] - 0s 19ms/step - loss: 0.1323 - val_loss: 1.0283\n",
      "Epoch 60/100\n",
      " 1/10 [==>...........................] - ETA: 0s - loss: 7.1285e-12WARNING:tensorflow:Early stopping conditioned on metric `val_accuracy` which is not available. Available metrics are: loss,val_loss\n"
     ]
    },
    {
     "name": "stderr",
     "output_type": "stream",
     "text": [
      "WARNING:tensorflow:Early stopping conditioned on metric `val_accuracy` which is not available. Available metrics are: loss,val_loss\n"
     ]
    },
    {
     "name": "stdout",
     "output_type": "stream",
     "text": [
      "10/10 [==============================] - 0s 18ms/step - loss: 0.0861 - val_loss: 0.8638\n",
      "Epoch 61/100\n",
      " 1/10 [==>...........................] - ETA: 0s - loss: 0.0565WARNING:tensorflow:Early stopping conditioned on metric `val_accuracy` which is not available. Available metrics are: loss,val_loss\n"
     ]
    },
    {
     "name": "stderr",
     "output_type": "stream",
     "text": [
      "WARNING:tensorflow:Early stopping conditioned on metric `val_accuracy` which is not available. Available metrics are: loss,val_loss\n"
     ]
    },
    {
     "name": "stdout",
     "output_type": "stream",
     "text": [
      "10/10 [==============================] - 0s 7ms/step - loss: 0.1436 - val_loss: 0.7428\n",
      "Epoch 62/100\n",
      " 1/10 [==>...........................] - ETA: 0s - loss: 0.0338WARNING:tensorflow:Early stopping conditioned on metric `val_accuracy` which is not available. Available metrics are: loss,val_loss\n"
     ]
    },
    {
     "name": "stderr",
     "output_type": "stream",
     "text": [
      "WARNING:tensorflow:Early stopping conditioned on metric `val_accuracy` which is not available. Available metrics are: loss,val_loss\n"
     ]
    },
    {
     "name": "stdout",
     "output_type": "stream",
     "text": [
      "10/10 [==============================] - 0s 8ms/step - loss: 0.1971 - val_loss: 0.7915\n",
      "Epoch 63/100\n",
      " 1/10 [==>...........................] - ETA: 0s - loss: 0.3842WARNING:tensorflow:Early stopping conditioned on metric `val_accuracy` which is not available. Available metrics are: loss,val_loss\n"
     ]
    },
    {
     "name": "stderr",
     "output_type": "stream",
     "text": [
      "WARNING:tensorflow:Early stopping conditioned on metric `val_accuracy` which is not available. Available metrics are: loss,val_loss\n"
     ]
    },
    {
     "name": "stdout",
     "output_type": "stream",
     "text": [
      "10/10 [==============================] - 0s 10ms/step - loss: 0.3041 - val_loss: 0.8908\n",
      "Epoch 64/100\n",
      " 1/10 [==>...........................] - ETA: 0s - loss: 0.0567WARNING:tensorflow:Early stopping conditioned on metric `val_accuracy` which is not available. Available metrics are: loss,val_loss\n"
     ]
    },
    {
     "name": "stderr",
     "output_type": "stream",
     "text": [
      "WARNING:tensorflow:Early stopping conditioned on metric `val_accuracy` which is not available. Available metrics are: loss,val_loss\n"
     ]
    },
    {
     "name": "stdout",
     "output_type": "stream",
     "text": [
      "10/10 [==============================] - 0s 10ms/step - loss: 0.1414 - val_loss: 0.9960\n",
      "Epoch 65/100\n",
      " 1/10 [==>...........................] - ETA: 0s - loss: 0.2429WARNING:tensorflow:Early stopping conditioned on metric `val_accuracy` which is not available. Available metrics are: loss,val_loss\n"
     ]
    },
    {
     "name": "stderr",
     "output_type": "stream",
     "text": [
      "WARNING:tensorflow:Early stopping conditioned on metric `val_accuracy` which is not available. Available metrics are: loss,val_loss\n"
     ]
    },
    {
     "name": "stdout",
     "output_type": "stream",
     "text": [
      "10/10 [==============================] - 0s 9ms/step - loss: 0.2195 - val_loss: 0.8990\n",
      "Epoch 66/100\n",
      " 1/10 [==>...........................] - ETA: 0s - loss: 0.1549WARNING:tensorflow:Early stopping conditioned on metric `val_accuracy` which is not available. Available metrics are: loss,val_loss\n"
     ]
    },
    {
     "name": "stderr",
     "output_type": "stream",
     "text": [
      "WARNING:tensorflow:Early stopping conditioned on metric `val_accuracy` which is not available. Available metrics are: loss,val_loss\n"
     ]
    },
    {
     "name": "stdout",
     "output_type": "stream",
     "text": [
      "10/10 [==============================] - 0s 10ms/step - loss: 0.1869 - val_loss: 1.0586\n",
      "Epoch 67/100\n",
      " 1/10 [==>...........................] - ETA: 0s - loss: 0.1257WARNING:tensorflow:Early stopping conditioned on metric `val_accuracy` which is not available. Available metrics are: loss,val_loss\n"
     ]
    },
    {
     "name": "stderr",
     "output_type": "stream",
     "text": [
      "WARNING:tensorflow:Early stopping conditioned on metric `val_accuracy` which is not available. Available metrics are: loss,val_loss\n"
     ]
    },
    {
     "name": "stdout",
     "output_type": "stream",
     "text": [
      "10/10 [==============================] - 0s 10ms/step - loss: 0.2770 - val_loss: 1.0158\n",
      "Epoch 68/100\n",
      " 1/10 [==>...........................] - ETA: 0s - loss: 0.6541WARNING:tensorflow:Early stopping conditioned on metric `val_accuracy` which is not available. Available metrics are: loss,val_loss\n"
     ]
    },
    {
     "name": "stderr",
     "output_type": "stream",
     "text": [
      "WARNING:tensorflow:Early stopping conditioned on metric `val_accuracy` which is not available. Available metrics are: loss,val_loss\n"
     ]
    },
    {
     "name": "stdout",
     "output_type": "stream",
     "text": [
      "10/10 [==============================] - 0s 21ms/step - loss: 0.2736 - val_loss: 0.7118\n",
      "Epoch 69/100\n",
      " 1/10 [==>...........................] - ETA: 0s - loss: 3.2628e-05WARNING:tensorflow:Early stopping conditioned on metric `val_accuracy` which is not available. Available metrics are: loss,val_loss\n"
     ]
    },
    {
     "name": "stderr",
     "output_type": "stream",
     "text": [
      "WARNING:tensorflow:Early stopping conditioned on metric `val_accuracy` which is not available. Available metrics are: loss,val_loss\n"
     ]
    },
    {
     "name": "stdout",
     "output_type": "stream",
     "text": [
      "10/10 [==============================] - 0s 15ms/step - loss: 0.9733 - val_loss: 0.9510\n",
      "Epoch 70/100\n",
      " 1/10 [==>...........................] - ETA: 0s - loss: 0.0722WARNING:tensorflow:Early stopping conditioned on metric `val_accuracy` which is not available. Available metrics are: loss,val_loss\n"
     ]
    },
    {
     "name": "stderr",
     "output_type": "stream",
     "text": [
      "WARNING:tensorflow:Early stopping conditioned on metric `val_accuracy` which is not available. Available metrics are: loss,val_loss\n"
     ]
    },
    {
     "name": "stdout",
     "output_type": "stream",
     "text": [
      "10/10 [==============================] - 0s 9ms/step - loss: 0.9037 - val_loss: 1.1474\n",
      "Epoch 71/100\n",
      " 1/10 [==>...........................] - ETA: 0s - loss: 2.6629e-08WARNING:tensorflow:Early stopping conditioned on metric `val_accuracy` which is not available. Available metrics are: loss,val_loss\n"
     ]
    },
    {
     "name": "stderr",
     "output_type": "stream",
     "text": [
      "WARNING:tensorflow:Early stopping conditioned on metric `val_accuracy` which is not available. Available metrics are: loss,val_loss\n"
     ]
    },
    {
     "name": "stdout",
     "output_type": "stream",
     "text": [
      "10/10 [==============================] - 0s 6ms/step - loss: 0.2616 - val_loss: 1.1157\n",
      "Epoch 72/100\n",
      " 1/10 [==>...........................] - ETA: 0s - loss: 0.0010WARNING:tensorflow:Early stopping conditioned on metric `val_accuracy` which is not available. Available metrics are: loss,val_loss\n"
     ]
    },
    {
     "name": "stderr",
     "output_type": "stream",
     "text": [
      "WARNING:tensorflow:Early stopping conditioned on metric `val_accuracy` which is not available. Available metrics are: loss,val_loss\n"
     ]
    },
    {
     "name": "stdout",
     "output_type": "stream",
     "text": [
      "10/10 [==============================] - 0s 10ms/step - loss: 0.5131 - val_loss: 0.8120\n",
      "Epoch 73/100\n",
      " 1/10 [==>...........................] - ETA: 0s - loss: 1.0801WARNING:tensorflow:Early stopping conditioned on metric `val_accuracy` which is not available. Available metrics are: loss,val_loss\n"
     ]
    },
    {
     "name": "stderr",
     "output_type": "stream",
     "text": [
      "WARNING:tensorflow:Early stopping conditioned on metric `val_accuracy` which is not available. Available metrics are: loss,val_loss\n"
     ]
    },
    {
     "name": "stdout",
     "output_type": "stream",
     "text": [
      "10/10 [==============================] - 0s 8ms/step - loss: 0.5926 - val_loss: 1.1087\n",
      "Epoch 74/100\n",
      " 1/10 [==>...........................] - ETA: 0s - loss: 0.1670WARNING:tensorflow:Early stopping conditioned on metric `val_accuracy` which is not available. Available metrics are: loss,val_loss\n"
     ]
    },
    {
     "name": "stderr",
     "output_type": "stream",
     "text": [
      "WARNING:tensorflow:Early stopping conditioned on metric `val_accuracy` which is not available. Available metrics are: loss,val_loss\n"
     ]
    },
    {
     "name": "stdout",
     "output_type": "stream",
     "text": [
      "10/10 [==============================] - 0s 9ms/step - loss: 0.3856 - val_loss: 1.1146\n",
      "Epoch 75/100\n",
      " 1/10 [==>...........................] - ETA: 0s - loss: 0.4142WARNING:tensorflow:Early stopping conditioned on metric `val_accuracy` which is not available. Available metrics are: loss,val_loss\n"
     ]
    },
    {
     "name": "stderr",
     "output_type": "stream",
     "text": [
      "WARNING:tensorflow:Early stopping conditioned on metric `val_accuracy` which is not available. Available metrics are: loss,val_loss\n"
     ]
    },
    {
     "name": "stdout",
     "output_type": "stream",
     "text": [
      "10/10 [==============================] - 0s 8ms/step - loss: 0.4820 - val_loss: 1.2534\n",
      "Epoch 76/100\n",
      " 1/10 [==>...........................] - ETA: 0s - loss: 0.6930WARNING:tensorflow:Early stopping conditioned on metric `val_accuracy` which is not available. Available metrics are: loss,val_loss\n"
     ]
    },
    {
     "name": "stderr",
     "output_type": "stream",
     "text": [
      "WARNING:tensorflow:Early stopping conditioned on metric `val_accuracy` which is not available. Available metrics are: loss,val_loss\n"
     ]
    },
    {
     "name": "stdout",
     "output_type": "stream",
     "text": [
      "10/10 [==============================] - 0s 8ms/step - loss: 0.3948 - val_loss: 1.3587\n",
      "Epoch 77/100\n",
      " 1/10 [==>...........................] - ETA: 0s - loss: 0.3830WARNING:tensorflow:Early stopping conditioned on metric `val_accuracy` which is not available. Available metrics are: loss,val_loss\n"
     ]
    },
    {
     "name": "stderr",
     "output_type": "stream",
     "text": [
      "WARNING:tensorflow:Early stopping conditioned on metric `val_accuracy` which is not available. Available metrics are: loss,val_loss\n"
     ]
    },
    {
     "name": "stdout",
     "output_type": "stream",
     "text": [
      "10/10 [==============================] - 0s 9ms/step - loss: 0.3463 - val_loss: 1.4349\n",
      "Epoch 78/100\n",
      " 1/10 [==>...........................] - ETA: 0s - loss: 0.0646WARNING:tensorflow:Early stopping conditioned on metric `val_accuracy` which is not available. Available metrics are: loss,val_loss\n"
     ]
    },
    {
     "name": "stderr",
     "output_type": "stream",
     "text": [
      "WARNING:tensorflow:Early stopping conditioned on metric `val_accuracy` which is not available. Available metrics are: loss,val_loss\n"
     ]
    },
    {
     "name": "stdout",
     "output_type": "stream",
     "text": [
      "10/10 [==============================] - 0s 10ms/step - loss: 0.2248 - val_loss: 1.4403\n",
      "Epoch 79/100\n",
      " 1/10 [==>...........................] - ETA: 0s - loss: 9.9435e-07WARNING:tensorflow:Early stopping conditioned on metric `val_accuracy` which is not available. Available metrics are: loss,val_loss\n"
     ]
    },
    {
     "name": "stderr",
     "output_type": "stream",
     "text": [
      "WARNING:tensorflow:Early stopping conditioned on metric `val_accuracy` which is not available. Available metrics are: loss,val_loss\n"
     ]
    },
    {
     "name": "stdout",
     "output_type": "stream",
     "text": [
      "10/10 [==============================] - 0s 12ms/step - loss: 0.1268 - val_loss: 1.3740\n",
      "Epoch 80/100\n",
      " 1/10 [==>...........................] - ETA: 0s - loss: 0.0488WARNING:tensorflow:Early stopping conditioned on metric `val_accuracy` which is not available. Available metrics are: loss,val_loss\n"
     ]
    },
    {
     "name": "stderr",
     "output_type": "stream",
     "text": [
      "WARNING:tensorflow:Early stopping conditioned on metric `val_accuracy` which is not available. Available metrics are: loss,val_loss\n"
     ]
    },
    {
     "name": "stdout",
     "output_type": "stream",
     "text": [
      "10/10 [==============================] - 0s 8ms/step - loss: 0.0643 - val_loss: 1.3660\n",
      "Epoch 81/100\n",
      " 1/10 [==>...........................] - ETA: 0s - loss: 0.2330WARNING:tensorflow:Early stopping conditioned on metric `val_accuracy` which is not available. Available metrics are: loss,val_loss\n"
     ]
    },
    {
     "name": "stderr",
     "output_type": "stream",
     "text": [
      "WARNING:tensorflow:Early stopping conditioned on metric `val_accuracy` which is not available. Available metrics are: loss,val_loss\n"
     ]
    },
    {
     "name": "stdout",
     "output_type": "stream",
     "text": [
      "10/10 [==============================] - 0s 10ms/step - loss: 0.1378 - val_loss: 1.4471\n",
      "Epoch 82/100\n",
      " 1/10 [==>...........................] - ETA: 0s - loss: 0.1363WARNING:tensorflow:Early stopping conditioned on metric `val_accuracy` which is not available. Available metrics are: loss,val_loss\n"
     ]
    },
    {
     "name": "stderr",
     "output_type": "stream",
     "text": [
      "WARNING:tensorflow:Early stopping conditioned on metric `val_accuracy` which is not available. Available metrics are: loss,val_loss\n"
     ]
    },
    {
     "name": "stdout",
     "output_type": "stream",
     "text": [
      "10/10 [==============================] - 0s 8ms/step - loss: 0.3203 - val_loss: 1.4060\n",
      "Epoch 83/100\n",
      " 1/10 [==>...........................] - ETA: 0s - loss: 8.7241e-10WARNING:tensorflow:Early stopping conditioned on metric `val_accuracy` which is not available. Available metrics are: loss,val_loss\n"
     ]
    },
    {
     "name": "stderr",
     "output_type": "stream",
     "text": [
      "WARNING:tensorflow:Early stopping conditioned on metric `val_accuracy` which is not available. Available metrics are: loss,val_loss\n"
     ]
    },
    {
     "name": "stdout",
     "output_type": "stream",
     "text": [
      "10/10 [==============================] - 0s 8ms/step - loss: 0.1206 - val_loss: 1.4496\n",
      "Epoch 84/100\n",
      " 1/10 [==>...........................] - ETA: 0s - loss: 0.1010WARNING:tensorflow:Early stopping conditioned on metric `val_accuracy` which is not available. Available metrics are: loss,val_loss\n"
     ]
    },
    {
     "name": "stderr",
     "output_type": "stream",
     "text": [
      "WARNING:tensorflow:Early stopping conditioned on metric `val_accuracy` which is not available. Available metrics are: loss,val_loss\n"
     ]
    },
    {
     "name": "stdout",
     "output_type": "stream",
     "text": [
      "10/10 [==============================] - 0s 12ms/step - loss: 0.0875 - val_loss: 1.4026\n",
      "Epoch 85/100\n",
      " 1/10 [==>...........................] - ETA: 0s - loss: 0.0015WARNING:tensorflow:Early stopping conditioned on metric `val_accuracy` which is not available. Available metrics are: loss,val_loss\n"
     ]
    },
    {
     "name": "stderr",
     "output_type": "stream",
     "text": [
      "WARNING:tensorflow:Early stopping conditioned on metric `val_accuracy` which is not available. Available metrics are: loss,val_loss\n"
     ]
    },
    {
     "name": "stdout",
     "output_type": "stream",
     "text": [
      "10/10 [==============================] - 0s 9ms/step - loss: 0.0833 - val_loss: 1.3459\n",
      "Epoch 86/100\n",
      " 1/10 [==>...........................] - ETA: 0s - loss: 2.8316e-07WARNING:tensorflow:Early stopping conditioned on metric `val_accuracy` which is not available. Available metrics are: loss,val_loss\n"
     ]
    },
    {
     "name": "stderr",
     "output_type": "stream",
     "text": [
      "WARNING:tensorflow:Early stopping conditioned on metric `val_accuracy` which is not available. Available metrics are: loss,val_loss\n"
     ]
    },
    {
     "name": "stdout",
     "output_type": "stream",
     "text": [
      "10/10 [==============================] - 0s 9ms/step - loss: 0.0482 - val_loss: 1.3463\n",
      "Epoch 87/100\n",
      " 1/10 [==>...........................] - ETA: 0s - loss: 6.4673e-08WARNING:tensorflow:Early stopping conditioned on metric `val_accuracy` which is not available. Available metrics are: loss,val_loss\n"
     ]
    },
    {
     "name": "stderr",
     "output_type": "stream",
     "text": [
      "WARNING:tensorflow:Early stopping conditioned on metric `val_accuracy` which is not available. Available metrics are: loss,val_loss\n"
     ]
    },
    {
     "name": "stdout",
     "output_type": "stream",
     "text": [
      "10/10 [==============================] - 0s 11ms/step - loss: 0.2328 - val_loss: 1.3880\n",
      "Epoch 88/100\n",
      " 1/10 [==>...........................] - ETA: 0s - loss: 0.0083WARNING:tensorflow:Early stopping conditioned on metric `val_accuracy` which is not available. Available metrics are: loss,val_loss\n"
     ]
    },
    {
     "name": "stderr",
     "output_type": "stream",
     "text": [
      "WARNING:tensorflow:Early stopping conditioned on metric `val_accuracy` which is not available. Available metrics are: loss,val_loss\n"
     ]
    },
    {
     "name": "stdout",
     "output_type": "stream",
     "text": [
      "10/10 [==============================] - 0s 8ms/step - loss: 0.0812 - val_loss: 1.3130\n",
      "Epoch 89/100\n",
      " 1/10 [==>...........................] - ETA: 0s - loss: 0.1335WARNING:tensorflow:Early stopping conditioned on metric `val_accuracy` which is not available. Available metrics are: loss,val_loss\n"
     ]
    },
    {
     "name": "stderr",
     "output_type": "stream",
     "text": [
      "WARNING:tensorflow:Early stopping conditioned on metric `val_accuracy` which is not available. Available metrics are: loss,val_loss\n"
     ]
    },
    {
     "name": "stdout",
     "output_type": "stream",
     "text": [
      "10/10 [==============================] - 0s 16ms/step - loss: 0.0944 - val_loss: 1.3602\n",
      "Epoch 90/100\n",
      " 1/10 [==>...........................] - ETA: 0s - loss: 0.0217WARNING:tensorflow:Early stopping conditioned on metric `val_accuracy` which is not available. Available metrics are: loss,val_loss\n"
     ]
    },
    {
     "name": "stderr",
     "output_type": "stream",
     "text": [
      "WARNING:tensorflow:Early stopping conditioned on metric `val_accuracy` which is not available. Available metrics are: loss,val_loss\n"
     ]
    },
    {
     "name": "stdout",
     "output_type": "stream",
     "text": [
      "10/10 [==============================] - 0s 14ms/step - loss: 0.0998 - val_loss: 1.3721\n",
      "Epoch 91/100\n",
      " 1/10 [==>...........................] - ETA: 0s - loss: 0.2346WARNING:tensorflow:Early stopping conditioned on metric `val_accuracy` which is not available. Available metrics are: loss,val_loss\n"
     ]
    },
    {
     "name": "stderr",
     "output_type": "stream",
     "text": [
      "WARNING:tensorflow:Early stopping conditioned on metric `val_accuracy` which is not available. Available metrics are: loss,val_loss\n"
     ]
    },
    {
     "name": "stdout",
     "output_type": "stream",
     "text": [
      "10/10 [==============================] - 0s 29ms/step - loss: 0.1301 - val_loss: 1.3914\n",
      "Epoch 92/100\n",
      " 1/10 [==>...........................] - ETA: 0s - loss: 0.0015WARNING:tensorflow:Early stopping conditioned on metric `val_accuracy` which is not available. Available metrics are: loss,val_loss\n"
     ]
    },
    {
     "name": "stderr",
     "output_type": "stream",
     "text": [
      "WARNING:tensorflow:Early stopping conditioned on metric `val_accuracy` which is not available. Available metrics are: loss,val_loss\n"
     ]
    },
    {
     "name": "stdout",
     "output_type": "stream",
     "text": [
      "10/10 [==============================] - 0s 10ms/step - loss: 0.8438 - val_loss: 1.3344\n",
      "Epoch 93/100\n",
      " 1/10 [==>...........................] - ETA: 0s - loss: 9.5392e-11WARNING:tensorflow:Early stopping conditioned on metric `val_accuracy` which is not available. Available metrics are: loss,val_loss\n"
     ]
    },
    {
     "name": "stderr",
     "output_type": "stream",
     "text": [
      "WARNING:tensorflow:Early stopping conditioned on metric `val_accuracy` which is not available. Available metrics are: loss,val_loss\n"
     ]
    },
    {
     "name": "stdout",
     "output_type": "stream",
     "text": [
      "10/10 [==============================] - 0s 10ms/step - loss: 0.0659 - val_loss: 1.2858\n",
      "Epoch 94/100\n",
      " 1/10 [==>...........................] - ETA: 0s - loss: 6.9791e-18WARNING:tensorflow:Early stopping conditioned on metric `val_accuracy` which is not available. Available metrics are: loss,val_loss\n"
     ]
    },
    {
     "name": "stderr",
     "output_type": "stream",
     "text": [
      "WARNING:tensorflow:Early stopping conditioned on metric `val_accuracy` which is not available. Available metrics are: loss,val_loss\n"
     ]
    },
    {
     "name": "stdout",
     "output_type": "stream",
     "text": [
      "10/10 [==============================] - 0s 9ms/step - loss: 0.1746 - val_loss: 1.2625\n",
      "Epoch 95/100\n",
      " 1/10 [==>...........................] - ETA: 0s - loss: 0.0079WARNING:tensorflow:Early stopping conditioned on metric `val_accuracy` which is not available. Available metrics are: loss,val_loss\n"
     ]
    },
    {
     "name": "stderr",
     "output_type": "stream",
     "text": [
      "WARNING:tensorflow:Early stopping conditioned on metric `val_accuracy` which is not available. Available metrics are: loss,val_loss\n"
     ]
    },
    {
     "name": "stdout",
     "output_type": "stream",
     "text": [
      "10/10 [==============================] - 0s 21ms/step - loss: 0.0293 - val_loss: 1.4534\n",
      "Epoch 96/100\n",
      " 1/10 [==>...........................] - ETA: 0s - loss: 0.0751WARNING:tensorflow:Early stopping conditioned on metric `val_accuracy` which is not available. Available metrics are: loss,val_loss\n"
     ]
    },
    {
     "name": "stderr",
     "output_type": "stream",
     "text": [
      "WARNING:tensorflow:Early stopping conditioned on metric `val_accuracy` which is not available. Available metrics are: loss,val_loss\n"
     ]
    },
    {
     "name": "stdout",
     "output_type": "stream",
     "text": [
      "10/10 [==============================] - 0s 10ms/step - loss: 0.1368 - val_loss: 1.2171\n",
      "Epoch 97/100\n",
      " 1/10 [==>...........................] - ETA: 0s - loss: 1.0241e-09WARNING:tensorflow:Early stopping conditioned on metric `val_accuracy` which is not available. Available metrics are: loss,val_loss\n"
     ]
    },
    {
     "name": "stderr",
     "output_type": "stream",
     "text": [
      "WARNING:tensorflow:Early stopping conditioned on metric `val_accuracy` which is not available. Available metrics are: loss,val_loss\n"
     ]
    },
    {
     "name": "stdout",
     "output_type": "stream",
     "text": [
      "10/10 [==============================] - 0s 9ms/step - loss: 0.0305 - val_loss: 1.2492\n",
      "Epoch 98/100\n",
      " 1/10 [==>...........................] - ETA: 0s - loss: 8.6187e-13WARNING:tensorflow:Early stopping conditioned on metric `val_accuracy` which is not available. Available metrics are: loss,val_loss\n"
     ]
    },
    {
     "name": "stderr",
     "output_type": "stream",
     "text": [
      "WARNING:tensorflow:Early stopping conditioned on metric `val_accuracy` which is not available. Available metrics are: loss,val_loss\n"
     ]
    },
    {
     "name": "stdout",
     "output_type": "stream",
     "text": [
      "10/10 [==============================] - 0s 23ms/step - loss: 0.0594 - val_loss: 1.3312\n",
      "Epoch 99/100\n",
      " 1/10 [==>...........................] - ETA: 0s - loss: 3.8900e-07WARNING:tensorflow:Early stopping conditioned on metric `val_accuracy` which is not available. Available metrics are: loss,val_loss\n"
     ]
    },
    {
     "name": "stderr",
     "output_type": "stream",
     "text": [
      "WARNING:tensorflow:Early stopping conditioned on metric `val_accuracy` which is not available. Available metrics are: loss,val_loss\n"
     ]
    },
    {
     "name": "stdout",
     "output_type": "stream",
     "text": [
      "10/10 [==============================] - 0s 10ms/step - loss: 0.0269 - val_loss: 1.3532\n",
      "Epoch 100/100\n",
      " 1/10 [==>...........................] - ETA: 0s - loss: 0.0139WARNING:tensorflow:Early stopping conditioned on metric `val_accuracy` which is not available. Available metrics are: loss,val_loss\n"
     ]
    },
    {
     "name": "stderr",
     "output_type": "stream",
     "text": [
      "WARNING:tensorflow:Early stopping conditioned on metric `val_accuracy` which is not available. Available metrics are: loss,val_loss\n"
     ]
    },
    {
     "name": "stdout",
     "output_type": "stream",
     "text": [
      "\b\b\b\b\b\b\b\b\b\b\b\b\b\b\b\b\b\b\b\b\b\b\b\b\b\b\b\b\b\b\b\b\b\b\b\b\b\b\b\b\b\b\b\b\b\b\b\b\b\b\b\b\b\b\b\b\b\b\b\b\b\b\b\r",
      "10/10 [==============================] - 0s 10ms/step - loss: 0.0602 - val_loss: 1.3785\n"
     ]
    }
   ],
   "source": [
    "model = train_model()"
   ]
  },
  {
   "cell_type": "code",
   "execution_count": 697,
   "metadata": {},
   "outputs": [
    {
     "name": "stdout",
     "output_type": "stream",
     "text": [
      "3/3 [==============================] - 0s 2ms/step\n"
     ]
    }
   ],
   "source": [
    "# Make predictions on the validation data (not used to train on)\n",
    "predictions = model.predict(val_data, verbose=1) # verbose shows us how long there is to go"
   ]
  },
  {
   "cell_type": "code",
   "execution_count": 698,
   "metadata": {},
   "outputs": [
    {
     "name": "stdout",
     "output_type": "stream",
     "text": [
      "[0.000000e+00 0.000000e+00 5.538643e-16 1.000000e+00]\n",
      "Max value (probability of prediction): 1.0\n",
      "Sum: 1.0\n",
      "Max index: 3\n",
      "Predicted label: wallfan\n"
     ]
    }
   ],
   "source": [
    "# First prediction\n",
    "print(predictions[0])\n",
    "print(f\"Max value (probability of prediction): {np.max(predictions[0])}\") # the max probability value predicted by the model\n",
    "print(f\"Sum: {np.sum(predictions[0])}\") # because we used softmax activation in our model, this will be close to 1\n",
    "print(f\"Max index: {np.argmax(predictions[0])}\") # the index of where the max value in predictions[0] occurs\n",
    "print(f\"Predicted label: {unique_devices[np.argmax(predictions[0])]}\") # the predicted label"
   ]
  },
  {
   "cell_type": "code",
   "execution_count": 699,
   "metadata": {},
   "outputs": [
    {
     "data": {
      "text/plain": [
       "'wallfan'"
      ]
     },
     "execution_count": 699,
     "metadata": {},
     "output_type": "execute_result"
    }
   ],
   "source": [
    "# Turn prediction probabilities into their respective label (easier to understand)\n",
    "def get_pred_label(prediction_probabilities):\n",
    "  \"\"\"\n",
    "  Turns an array of prediction probabilities into a label.\n",
    "  \"\"\"\n",
    "  return unique_devices[np.argmax(prediction_probabilities)]\n",
    "\n",
    "# Get a predicted label based on an array of prediction probabilities\n",
    "pred_label = get_pred_label(predictions[0])\n",
    "pred_label"
   ]
  },
  {
   "cell_type": "code",
   "execution_count": 700,
   "metadata": {},
   "outputs": [
    {
     "data": {
      "text/plain": [
       "(array([[[2.9645e+02, 2.9578e+02, 2.9641e+02, 2.9578e+02, 2.9653e+02,\n",
       "          2.9589e+02, 2.9641e+02, 2.9608e+02, 2.9534e+02, 2.9625e+02,\n",
       "          2.9505e+02, 2.9659e+02, 2.9624e+02, 2.9671e+02, 2.9681e+02,\n",
       "          2.9687e+02, 2.9707e+02, 2.9627e+02, 2.9687e+02, 2.9614e+02,\n",
       "          2.9634e+02, 2.9651e+02, 2.9590e+02, 2.9648e+02, 2.9594e+02,\n",
       "          2.9676e+02, 2.9681e+02, 2.9618e+02, 2.9642e+02, 2.9601e+02,\n",
       "          2.9682e+02, 2.9617e+02, 2.9644e+02, 2.9602e+02, 2.9545e+02,\n",
       "          2.9639e+02, 2.9589e+02, 2.9655e+02, 2.9667e+02, 2.9669e+02,\n",
       "          2.9677e+02, 2.9678e+02, 2.9682e+02, 2.9623e+02, 2.9644e+02,\n",
       "          2.9629e+02, 2.9660e+02, 2.9616e+02, 2.9620e+02, 2.9604e+02,\n",
       "          2.9771e+02, 2.9833e+02, 2.9654e+02, 2.9643e+02, 2.9643e+02,\n",
       "          2.9688e+02, 2.9684e+02, 2.9576e+02, 2.9640e+02, 2.9590e+02]],\n",
       " \n",
       "        [[2.8000e-01, 2.8000e-01, 2.8000e-01, 2.8000e-01, 2.8000e-01,\n",
       "          2.8000e-01, 2.8000e-01, 2.8000e-01, 2.8000e-01, 2.8000e-01,\n",
       "          2.8000e-01, 2.8000e-01, 2.8000e-01, 2.8000e-01, 2.8000e-01,\n",
       "          2.8000e-01, 2.8000e-01, 2.8000e-01, 2.8000e-01, 2.8000e-01,\n",
       "          2.8000e-01, 2.8000e-01, 2.8000e-01, 2.8000e-01, 2.8000e-01,\n",
       "          2.8000e-01, 2.8000e-01, 2.8000e-01, 2.8000e-01, 2.8000e-01,\n",
       "          2.8000e-01, 2.8000e-01, 2.8000e-01, 2.8000e-01, 2.8000e-01,\n",
       "          2.8000e-01, 2.8000e-01, 2.8000e-01, 2.8000e-01, 2.8000e-01,\n",
       "          2.8000e-01, 2.8000e-01, 2.8000e-01, 2.8000e-01, 2.8000e-01,\n",
       "          2.8000e-01, 2.8000e-01, 2.8000e-01, 2.8000e-01, 2.8000e-01,\n",
       "          2.8000e-01, 2.8000e-01, 2.8000e-01, 2.8000e-01, 2.8000e-01,\n",
       "          2.8000e-01, 2.8000e-01, 2.8000e-01, 2.8000e-01, 2.8000e-01]],\n",
       " \n",
       "        [[8.1000e+01, 8.1000e+01, 8.1000e+01, 8.1000e+01, 8.1000e+01,\n",
       "          8.1000e+01, 8.1000e+01, 8.1000e+01, 8.1000e+01, 8.1000e+01,\n",
       "          8.1000e+01, 8.1000e+01, 8.1000e+01, 8.1000e+01, 8.1000e+01,\n",
       "          8.1000e+01, 8.1000e+01, 8.1000e+01, 8.1000e+01, 8.1000e+01,\n",
       "          8.1000e+01, 8.1000e+01, 8.1000e+01, 8.1000e+01, 8.1000e+01,\n",
       "          8.1000e+01, 8.1000e+01, 8.1000e+01, 8.1000e+01, 8.1000e+01,\n",
       "          8.1000e+01, 8.1000e+01, 8.1000e+01, 8.1000e+01, 8.1000e+01,\n",
       "          8.1000e+01, 8.1000e+01, 8.1000e+01, 8.1000e+01, 8.1000e+01,\n",
       "          8.1000e+01, 8.1000e+01, 8.1000e+01, 8.1000e+01, 8.1000e+01,\n",
       "          8.1000e+01, 8.1000e+01, 8.1000e+01, 8.1000e+01, 8.1000e+01,\n",
       "          8.2000e+01, 8.2000e+01, 8.1000e+01, 8.1000e+01, 8.1000e+01,\n",
       "          8.1000e+01, 8.1000e+01, 8.1000e+01, 8.1000e+01, 8.1000e+01]],\n",
       " \n",
       "        [[9.9000e-01, 9.9000e-01, 9.9000e-01, 9.9000e-01, 9.9000e-01,\n",
       "          9.9000e-01, 9.9000e-01, 9.9000e-01, 9.9000e-01, 9.9000e-01,\n",
       "          9.9000e-01, 9.9000e-01, 9.9000e-01, 9.9000e-01, 9.9000e-01,\n",
       "          9.9000e-01, 9.9000e-01, 9.9000e-01, 9.9000e-01, 9.9000e-01,\n",
       "          9.9000e-01, 9.9000e-01, 9.9000e-01, 9.9000e-01, 9.9000e-01,\n",
       "          9.9000e-01, 9.9000e-01, 9.9000e-01, 9.9000e-01, 9.9000e-01,\n",
       "          9.9000e-01, 9.9000e-01, 9.9000e-01, 9.9000e-01, 9.9000e-01,\n",
       "          9.9000e-01, 9.9000e-01, 9.9000e-01, 9.9000e-01, 9.9000e-01,\n",
       "          9.9000e-01, 9.9000e-01, 9.9000e-01, 9.9000e-01, 9.9000e-01,\n",
       "          9.9000e-01, 9.9000e-01, 9.9000e-01, 9.9000e-01, 9.9000e-01,\n",
       "          9.9000e-01, 9.9000e-01, 9.9000e-01, 9.9000e-01, 9.9000e-01,\n",
       "          9.9000e-01, 9.9000e-01, 9.9000e-01, 9.9000e-01, 9.9000e-01]],\n",
       " \n",
       "        [[8.1820e+01, 8.1820e+01, 8.1740e+01, 8.1900e+01, 8.1820e+01,\n",
       "          8.1820e+01, 8.1820e+01, 8.1740e+01, 8.1820e+01, 8.1820e+01,\n",
       "          8.1740e+01, 8.1820e+01, 8.1740e+01, 8.1740e+01, 8.1740e+01,\n",
       "          8.1740e+01, 8.1740e+01, 8.1820e+01, 8.1820e+01, 8.1820e+01,\n",
       "          8.1740e+01, 8.1740e+01, 8.1740e+01, 8.1820e+01, 8.1820e+01,\n",
       "          8.1820e+01, 8.1820e+01, 8.1740e+01, 8.1820e+01, 8.1740e+01,\n",
       "          8.1820e+01, 8.1900e+01, 8.1820e+01, 8.1740e+01, 8.1650e+01,\n",
       "          8.1740e+01, 8.1740e+01, 8.1820e+01, 8.1820e+01, 8.1820e+01,\n",
       "          8.1740e+01, 8.1820e+01, 8.1820e+01, 8.1740e+01, 8.1740e+01,\n",
       "          8.1820e+01, 8.1740e+01, 8.1740e+01, 8.1740e+01, 8.1740e+01,\n",
       "          8.2830e+01, 8.2830e+01, 8.1740e+01, 8.1820e+01, 8.1740e+01,\n",
       "          8.1820e+01, 8.1740e+01, 8.1820e+01, 8.1650e+01, 8.1820e+01]],\n",
       " \n",
       "        [[1.1540e+01, 1.1540e+01, 1.0940e+01, 1.2110e+01, 1.1540e+01,\n",
       "          1.1540e+01, 1.1540e+01, 1.0940e+01, 1.1540e+01, 1.1540e+01,\n",
       "          1.0940e+01, 1.1540e+01, 1.0940e+01, 1.0940e+01, 1.0940e+01,\n",
       "          1.0940e+01, 1.0940e+01, 1.1540e+01, 1.1540e+01, 1.1540e+01,\n",
       "          1.0940e+01, 1.0940e+01, 1.0940e+01, 1.1540e+01, 1.1540e+01,\n",
       "          1.1540e+01, 1.1540e+01, 1.0940e+01, 1.1540e+01, 1.0940e+01,\n",
       "          1.1540e+01, 1.2110e+01, 1.1540e+01, 1.0940e+01, 1.0310e+01,\n",
       "          1.0940e+01, 1.0940e+01, 1.1540e+01, 1.1540e+01, 1.1540e+01,\n",
       "          1.0940e+01, 1.1540e+01, 1.1540e+01, 1.0940e+01, 1.0940e+01,\n",
       "          1.1540e+01, 1.0940e+01, 1.0940e+01, 1.0940e+01, 1.0940e+01,\n",
       "          1.1680e+01, 1.1680e+01, 1.0940e+01, 1.1540e+01, 1.0940e+01,\n",
       "          1.1540e+01, 1.0940e+01, 1.1540e+01, 1.0310e+01, 1.1540e+01]],\n",
       " \n",
       "        [[4.9900e+01, 4.9900e+01, 4.9900e+01, 4.9900e+01, 4.9900e+01,\n",
       "          4.9900e+01, 4.9900e+01, 4.9900e+01, 4.9900e+01, 4.9900e+01,\n",
       "          4.9900e+01, 4.9900e+01, 4.9900e+01, 4.9900e+01, 4.9900e+01,\n",
       "          4.9900e+01, 4.9900e+01, 4.9900e+01, 5.0000e+01, 5.0000e+01,\n",
       "          5.0000e+01, 5.0000e+01, 4.9900e+01, 5.0000e+01, 5.0000e+01,\n",
       "          4.9900e+01, 4.9900e+01, 5.0000e+01, 5.0000e+01, 5.0000e+01,\n",
       "          4.9900e+01, 4.9900e+01, 5.0000e+01, 4.9900e+01, 4.9900e+01,\n",
       "          4.9900e+01, 4.9900e+01, 4.9900e+01, 4.9900e+01, 4.9900e+01,\n",
       "          4.9900e+01, 4.9900e+01, 4.9900e+01, 4.9900e+01, 4.9900e+01,\n",
       "          4.9900e+01, 4.9900e+01, 4.9900e+01, 4.9900e+01, 4.9900e+01,\n",
       "          4.9900e+01, 4.9900e+01, 4.9900e+01, 4.9900e+01, 4.9900e+01,\n",
       "          4.9900e+01, 4.9900e+01, 4.9900e+01, 4.9900e+01, 4.9900e+01]]]),\n",
       " 'wallfan')"
      ]
     },
     "execution_count": 700,
     "metadata": {},
     "output_type": "execute_result"
    }
   ],
   "source": [
    "# Create a function to unbatch a batched dataset\n",
    "def unbatchify(data):\n",
    "    \"\"\"\n",
    "  Takes a batched dataset of (file, label) Tensors and returns separate arrays\n",
    "  of images and labels.\n",
    "    \"\"\"\n",
    "    files = []\n",
    "    labels = []\n",
    "  # Loop through unbatched data\n",
    "    for file, label in data.unbatch().as_numpy_iterator():\n",
    "        files.append(file)\n",
    "        labels.append(unique_devices[np.argmax(label)])\n",
    "    return files, labels\n",
    "\n",
    "# Unbatchify the validation data\n",
    "val_files, val_labels = unbatchify(val_data)\n",
    "val_files[0], val_labels[0]"
   ]
  },
  {
   "cell_type": "code",
   "execution_count": 701,
   "metadata": {},
   "outputs": [],
   "source": [
    "def plot_pred(prediction_probabilities, labels, files, n=1):\n",
    "    \"\"\"\n",
    "  View the prediction, ground truth label for sample n.\n",
    "    \"\"\"\n",
    "    pred_prob, true_label, file = prediction_probabilities[n], labels[n], files[n]\n",
    "  \n",
    "  # Get the pred label\n",
    "    pred_label = get_pred_label(pred_prob)\n",
    "  \n",
    "\n",
    "\n",
    "  # Change the color of the title depending on if the prediction is right or wrong\n",
    "    if pred_label == true_label:\n",
    "        val = \"True\"\n",
    "    else:\n",
    "        val = \"False\"\n",
    "\n",
    "    df = pd.DataFrame({'Predicted':pred_label,'Actual': true_label,\n",
    "                    'Assumed':val},index = [n])\n",
    "    return df"
   ]
  },
  {
   "cell_type": "code",
   "execution_count": 702,
   "metadata": {},
   "outputs": [
    {
     "data": {
      "text/html": [
       "<div>\n",
       "<style scoped>\n",
       "    .dataframe tbody tr th:only-of-type {\n",
       "        vertical-align: middle;\n",
       "    }\n",
       "\n",
       "    .dataframe tbody tr th {\n",
       "        vertical-align: top;\n",
       "    }\n",
       "\n",
       "    .dataframe thead th {\n",
       "        text-align: right;\n",
       "    }\n",
       "</style>\n",
       "<table border=\"1\" class=\"dataframe\">\n",
       "  <thead>\n",
       "    <tr style=\"text-align: right;\">\n",
       "      <th></th>\n",
       "      <th>Predicted</th>\n",
       "      <th>Actual</th>\n",
       "      <th>Assumed</th>\n",
       "    </tr>\n",
       "  </thead>\n",
       "  <tbody>\n",
       "    <tr>\n",
       "      <th>1</th>\n",
       "      <td>fridge</td>\n",
       "      <td>fridge</td>\n",
       "      <td>True</td>\n",
       "    </tr>\n",
       "  </tbody>\n",
       "</table>\n",
       "</div>"
      ],
      "text/plain": [
       "  Predicted  Actual Assumed\n",
       "1    fridge  fridge    True"
      ]
     },
     "execution_count": 702,
     "metadata": {},
     "output_type": "execute_result"
    }
   ],
   "source": [
    "# View an example prediction, original image and truth label\n",
    "plot_pred(prediction_probabilities=predictions,\n",
    "          labels=val_labels,\n",
    "          files=val_files)"
   ]
  },
  {
   "cell_type": "code",
   "execution_count": 703,
   "metadata": {},
   "outputs": [],
   "source": [
    "pred_df = pd.DataFrame()\n",
    "\n",
    "for x in range(76):\n",
    "    data_frame = plot_pred(prediction_probabilities=predictions,\n",
    "        labels=val_labels,\n",
    "        files=val_files,n=x)\n",
    "    pred_df = pred_df.append(data_frame)"
   ]
  },
  {
   "cell_type": "code",
   "execution_count": 704,
   "metadata": {},
   "outputs": [
    {
     "data": {
      "text/html": [
       "<div>\n",
       "<style scoped>\n",
       "    .dataframe tbody tr th:only-of-type {\n",
       "        vertical-align: middle;\n",
       "    }\n",
       "\n",
       "    .dataframe tbody tr th {\n",
       "        vertical-align: top;\n",
       "    }\n",
       "\n",
       "    .dataframe thead th {\n",
       "        text-align: right;\n",
       "    }\n",
       "</style>\n",
       "<table border=\"1\" class=\"dataframe\">\n",
       "  <thead>\n",
       "    <tr style=\"text-align: right;\">\n",
       "      <th></th>\n",
       "      <th>Predicted</th>\n",
       "      <th>Actual</th>\n",
       "      <th>Assumed</th>\n",
       "    </tr>\n",
       "  </thead>\n",
       "  <tbody>\n",
       "    <tr>\n",
       "      <th>0</th>\n",
       "      <td>wallfan</td>\n",
       "      <td>wallfan</td>\n",
       "      <td>True</td>\n",
       "    </tr>\n",
       "    <tr>\n",
       "      <th>1</th>\n",
       "      <td>fridge</td>\n",
       "      <td>fridge</td>\n",
       "      <td>True</td>\n",
       "    </tr>\n",
       "    <tr>\n",
       "      <th>2</th>\n",
       "      <td>wallfan</td>\n",
       "      <td>wallfan</td>\n",
       "      <td>True</td>\n",
       "    </tr>\n",
       "    <tr>\n",
       "      <th>3</th>\n",
       "      <td>ac</td>\n",
       "      <td>ac</td>\n",
       "      <td>True</td>\n",
       "    </tr>\n",
       "    <tr>\n",
       "      <th>4</th>\n",
       "      <td>3dprinter</td>\n",
       "      <td>3dprinter</td>\n",
       "      <td>True</td>\n",
       "    </tr>\n",
       "    <tr>\n",
       "      <th>5</th>\n",
       "      <td>3dprinter</td>\n",
       "      <td>ac</td>\n",
       "      <td>False</td>\n",
       "    </tr>\n",
       "    <tr>\n",
       "      <th>6</th>\n",
       "      <td>wallfan</td>\n",
       "      <td>wallfan</td>\n",
       "      <td>True</td>\n",
       "    </tr>\n",
       "    <tr>\n",
       "      <th>7</th>\n",
       "      <td>3dprinter</td>\n",
       "      <td>3dprinter</td>\n",
       "      <td>True</td>\n",
       "    </tr>\n",
       "    <tr>\n",
       "      <th>8</th>\n",
       "      <td>wallfan</td>\n",
       "      <td>wallfan</td>\n",
       "      <td>True</td>\n",
       "    </tr>\n",
       "    <tr>\n",
       "      <th>9</th>\n",
       "      <td>ac</td>\n",
       "      <td>ac</td>\n",
       "      <td>True</td>\n",
       "    </tr>\n",
       "    <tr>\n",
       "      <th>10</th>\n",
       "      <td>wallfan</td>\n",
       "      <td>wallfan</td>\n",
       "      <td>True</td>\n",
       "    </tr>\n",
       "    <tr>\n",
       "      <th>11</th>\n",
       "      <td>fridge</td>\n",
       "      <td>fridge</td>\n",
       "      <td>True</td>\n",
       "    </tr>\n",
       "    <tr>\n",
       "      <th>12</th>\n",
       "      <td>3dprinter</td>\n",
       "      <td>3dprinter</td>\n",
       "      <td>True</td>\n",
       "    </tr>\n",
       "    <tr>\n",
       "      <th>13</th>\n",
       "      <td>3dprinter</td>\n",
       "      <td>3dprinter</td>\n",
       "      <td>True</td>\n",
       "    </tr>\n",
       "    <tr>\n",
       "      <th>14</th>\n",
       "      <td>wallfan</td>\n",
       "      <td>wallfan</td>\n",
       "      <td>True</td>\n",
       "    </tr>\n",
       "    <tr>\n",
       "      <th>15</th>\n",
       "      <td>wallfan</td>\n",
       "      <td>wallfan</td>\n",
       "      <td>True</td>\n",
       "    </tr>\n",
       "    <tr>\n",
       "      <th>16</th>\n",
       "      <td>wallfan</td>\n",
       "      <td>wallfan</td>\n",
       "      <td>True</td>\n",
       "    </tr>\n",
       "    <tr>\n",
       "      <th>17</th>\n",
       "      <td>ac</td>\n",
       "      <td>ac</td>\n",
       "      <td>True</td>\n",
       "    </tr>\n",
       "    <tr>\n",
       "      <th>18</th>\n",
       "      <td>wallfan</td>\n",
       "      <td>wallfan</td>\n",
       "      <td>True</td>\n",
       "    </tr>\n",
       "    <tr>\n",
       "      <th>19</th>\n",
       "      <td>ac</td>\n",
       "      <td>ac</td>\n",
       "      <td>True</td>\n",
       "    </tr>\n",
       "    <tr>\n",
       "      <th>20</th>\n",
       "      <td>3dprinter</td>\n",
       "      <td>3dprinter</td>\n",
       "      <td>True</td>\n",
       "    </tr>\n",
       "    <tr>\n",
       "      <th>21</th>\n",
       "      <td>ac</td>\n",
       "      <td>ac</td>\n",
       "      <td>True</td>\n",
       "    </tr>\n",
       "    <tr>\n",
       "      <th>22</th>\n",
       "      <td>ac</td>\n",
       "      <td>ac</td>\n",
       "      <td>True</td>\n",
       "    </tr>\n",
       "    <tr>\n",
       "      <th>23</th>\n",
       "      <td>3dprinter</td>\n",
       "      <td>3dprinter</td>\n",
       "      <td>True</td>\n",
       "    </tr>\n",
       "    <tr>\n",
       "      <th>24</th>\n",
       "      <td>3dprinter</td>\n",
       "      <td>3dprinter</td>\n",
       "      <td>True</td>\n",
       "    </tr>\n",
       "    <tr>\n",
       "      <th>25</th>\n",
       "      <td>3dprinter</td>\n",
       "      <td>fridge</td>\n",
       "      <td>False</td>\n",
       "    </tr>\n",
       "    <tr>\n",
       "      <th>26</th>\n",
       "      <td>3dprinter</td>\n",
       "      <td>3dprinter</td>\n",
       "      <td>True</td>\n",
       "    </tr>\n",
       "    <tr>\n",
       "      <th>27</th>\n",
       "      <td>wallfan</td>\n",
       "      <td>wallfan</td>\n",
       "      <td>True</td>\n",
       "    </tr>\n",
       "    <tr>\n",
       "      <th>28</th>\n",
       "      <td>3dprinter</td>\n",
       "      <td>3dprinter</td>\n",
       "      <td>True</td>\n",
       "    </tr>\n",
       "    <tr>\n",
       "      <th>29</th>\n",
       "      <td>ac</td>\n",
       "      <td>ac</td>\n",
       "      <td>True</td>\n",
       "    </tr>\n",
       "    <tr>\n",
       "      <th>30</th>\n",
       "      <td>fridge</td>\n",
       "      <td>fridge</td>\n",
       "      <td>True</td>\n",
       "    </tr>\n",
       "    <tr>\n",
       "      <th>31</th>\n",
       "      <td>ac</td>\n",
       "      <td>ac</td>\n",
       "      <td>True</td>\n",
       "    </tr>\n",
       "    <tr>\n",
       "      <th>32</th>\n",
       "      <td>wallfan</td>\n",
       "      <td>wallfan</td>\n",
       "      <td>True</td>\n",
       "    </tr>\n",
       "    <tr>\n",
       "      <th>33</th>\n",
       "      <td>3dprinter</td>\n",
       "      <td>3dprinter</td>\n",
       "      <td>True</td>\n",
       "    </tr>\n",
       "    <tr>\n",
       "      <th>34</th>\n",
       "      <td>3dprinter</td>\n",
       "      <td>3dprinter</td>\n",
       "      <td>True</td>\n",
       "    </tr>\n",
       "    <tr>\n",
       "      <th>35</th>\n",
       "      <td>3dprinter</td>\n",
       "      <td>3dprinter</td>\n",
       "      <td>True</td>\n",
       "    </tr>\n",
       "    <tr>\n",
       "      <th>36</th>\n",
       "      <td>3dprinter</td>\n",
       "      <td>3dprinter</td>\n",
       "      <td>True</td>\n",
       "    </tr>\n",
       "    <tr>\n",
       "      <th>37</th>\n",
       "      <td>wallfan</td>\n",
       "      <td>wallfan</td>\n",
       "      <td>True</td>\n",
       "    </tr>\n",
       "    <tr>\n",
       "      <th>38</th>\n",
       "      <td>ac</td>\n",
       "      <td>ac</td>\n",
       "      <td>True</td>\n",
       "    </tr>\n",
       "    <tr>\n",
       "      <th>39</th>\n",
       "      <td>ac</td>\n",
       "      <td>ac</td>\n",
       "      <td>True</td>\n",
       "    </tr>\n",
       "    <tr>\n",
       "      <th>40</th>\n",
       "      <td>fridge</td>\n",
       "      <td>fridge</td>\n",
       "      <td>True</td>\n",
       "    </tr>\n",
       "    <tr>\n",
       "      <th>41</th>\n",
       "      <td>3dprinter</td>\n",
       "      <td>3dprinter</td>\n",
       "      <td>True</td>\n",
       "    </tr>\n",
       "    <tr>\n",
       "      <th>42</th>\n",
       "      <td>3dprinter</td>\n",
       "      <td>3dprinter</td>\n",
       "      <td>True</td>\n",
       "    </tr>\n",
       "    <tr>\n",
       "      <th>43</th>\n",
       "      <td>3dprinter</td>\n",
       "      <td>3dprinter</td>\n",
       "      <td>True</td>\n",
       "    </tr>\n",
       "    <tr>\n",
       "      <th>44</th>\n",
       "      <td>fridge</td>\n",
       "      <td>fridge</td>\n",
       "      <td>True</td>\n",
       "    </tr>\n",
       "    <tr>\n",
       "      <th>45</th>\n",
       "      <td>3dprinter</td>\n",
       "      <td>3dprinter</td>\n",
       "      <td>True</td>\n",
       "    </tr>\n",
       "    <tr>\n",
       "      <th>46</th>\n",
       "      <td>3dprinter</td>\n",
       "      <td>3dprinter</td>\n",
       "      <td>True</td>\n",
       "    </tr>\n",
       "    <tr>\n",
       "      <th>47</th>\n",
       "      <td>3dprinter</td>\n",
       "      <td>3dprinter</td>\n",
       "      <td>True</td>\n",
       "    </tr>\n",
       "    <tr>\n",
       "      <th>48</th>\n",
       "      <td>wallfan</td>\n",
       "      <td>wallfan</td>\n",
       "      <td>True</td>\n",
       "    </tr>\n",
       "    <tr>\n",
       "      <th>49</th>\n",
       "      <td>3dprinter</td>\n",
       "      <td>3dprinter</td>\n",
       "      <td>True</td>\n",
       "    </tr>\n",
       "    <tr>\n",
       "      <th>50</th>\n",
       "      <td>ac</td>\n",
       "      <td>ac</td>\n",
       "      <td>True</td>\n",
       "    </tr>\n",
       "    <tr>\n",
       "      <th>51</th>\n",
       "      <td>wallfan</td>\n",
       "      <td>wallfan</td>\n",
       "      <td>True</td>\n",
       "    </tr>\n",
       "    <tr>\n",
       "      <th>52</th>\n",
       "      <td>wallfan</td>\n",
       "      <td>wallfan</td>\n",
       "      <td>True</td>\n",
       "    </tr>\n",
       "    <tr>\n",
       "      <th>53</th>\n",
       "      <td>wallfan</td>\n",
       "      <td>wallfan</td>\n",
       "      <td>True</td>\n",
       "    </tr>\n",
       "    <tr>\n",
       "      <th>54</th>\n",
       "      <td>3dprinter</td>\n",
       "      <td>3dprinter</td>\n",
       "      <td>True</td>\n",
       "    </tr>\n",
       "    <tr>\n",
       "      <th>55</th>\n",
       "      <td>ac</td>\n",
       "      <td>ac</td>\n",
       "      <td>True</td>\n",
       "    </tr>\n",
       "    <tr>\n",
       "      <th>56</th>\n",
       "      <td>3dprinter</td>\n",
       "      <td>3dprinter</td>\n",
       "      <td>True</td>\n",
       "    </tr>\n",
       "    <tr>\n",
       "      <th>57</th>\n",
       "      <td>wallfan</td>\n",
       "      <td>wallfan</td>\n",
       "      <td>True</td>\n",
       "    </tr>\n",
       "    <tr>\n",
       "      <th>58</th>\n",
       "      <td>3dprinter</td>\n",
       "      <td>3dprinter</td>\n",
       "      <td>True</td>\n",
       "    </tr>\n",
       "    <tr>\n",
       "      <th>59</th>\n",
       "      <td>ac</td>\n",
       "      <td>ac</td>\n",
       "      <td>True</td>\n",
       "    </tr>\n",
       "  </tbody>\n",
       "</table>\n",
       "</div>"
      ],
      "text/plain": [
       "    Predicted     Actual Assumed\n",
       "0     wallfan    wallfan    True\n",
       "1      fridge     fridge    True\n",
       "2     wallfan    wallfan    True\n",
       "3          ac         ac    True\n",
       "4   3dprinter  3dprinter    True\n",
       "5   3dprinter         ac   False\n",
       "6     wallfan    wallfan    True\n",
       "7   3dprinter  3dprinter    True\n",
       "8     wallfan    wallfan    True\n",
       "9          ac         ac    True\n",
       "10    wallfan    wallfan    True\n",
       "11     fridge     fridge    True\n",
       "12  3dprinter  3dprinter    True\n",
       "13  3dprinter  3dprinter    True\n",
       "14    wallfan    wallfan    True\n",
       "15    wallfan    wallfan    True\n",
       "16    wallfan    wallfan    True\n",
       "17         ac         ac    True\n",
       "18    wallfan    wallfan    True\n",
       "19         ac         ac    True\n",
       "20  3dprinter  3dprinter    True\n",
       "21         ac         ac    True\n",
       "22         ac         ac    True\n",
       "23  3dprinter  3dprinter    True\n",
       "24  3dprinter  3dprinter    True\n",
       "25  3dprinter     fridge   False\n",
       "26  3dprinter  3dprinter    True\n",
       "27    wallfan    wallfan    True\n",
       "28  3dprinter  3dprinter    True\n",
       "29         ac         ac    True\n",
       "30     fridge     fridge    True\n",
       "31         ac         ac    True\n",
       "32    wallfan    wallfan    True\n",
       "33  3dprinter  3dprinter    True\n",
       "34  3dprinter  3dprinter    True\n",
       "35  3dprinter  3dprinter    True\n",
       "36  3dprinter  3dprinter    True\n",
       "37    wallfan    wallfan    True\n",
       "38         ac         ac    True\n",
       "39         ac         ac    True\n",
       "40     fridge     fridge    True\n",
       "41  3dprinter  3dprinter    True\n",
       "42  3dprinter  3dprinter    True\n",
       "43  3dprinter  3dprinter    True\n",
       "44     fridge     fridge    True\n",
       "45  3dprinter  3dprinter    True\n",
       "46  3dprinter  3dprinter    True\n",
       "47  3dprinter  3dprinter    True\n",
       "48    wallfan    wallfan    True\n",
       "49  3dprinter  3dprinter    True\n",
       "50         ac         ac    True\n",
       "51    wallfan    wallfan    True\n",
       "52    wallfan    wallfan    True\n",
       "53    wallfan    wallfan    True\n",
       "54  3dprinter  3dprinter    True\n",
       "55         ac         ac    True\n",
       "56  3dprinter  3dprinter    True\n",
       "57    wallfan    wallfan    True\n",
       "58  3dprinter  3dprinter    True\n",
       "59         ac         ac    True"
      ]
     },
     "execution_count": 704,
     "metadata": {},
     "output_type": "execute_result"
    }
   ],
   "source": [
    "pred_df.head(60)"
   ]
  },
  {
   "cell_type": "code",
   "execution_count": 706,
   "metadata": {},
   "outputs": [
    {
     "data": {
      "text/html": [
       "<div>\n",
       "<style scoped>\n",
       "    .dataframe tbody tr th:only-of-type {\n",
       "        vertical-align: middle;\n",
       "    }\n",
       "\n",
       "    .dataframe tbody tr th {\n",
       "        vertical-align: top;\n",
       "    }\n",
       "\n",
       "    .dataframe thead th {\n",
       "        text-align: right;\n",
       "    }\n",
       "</style>\n",
       "<table border=\"1\" class=\"dataframe\">\n",
       "  <thead>\n",
       "    <tr style=\"text-align: right;\">\n",
       "      <th></th>\n",
       "      <th>Predicted</th>\n",
       "      <th>Actual</th>\n",
       "      <th>Assumed</th>\n",
       "    </tr>\n",
       "  </thead>\n",
       "  <tbody>\n",
       "    <tr>\n",
       "      <th>60</th>\n",
       "      <td>fridge</td>\n",
       "      <td>fridge</td>\n",
       "      <td>True</td>\n",
       "    </tr>\n",
       "    <tr>\n",
       "      <th>61</th>\n",
       "      <td>ac</td>\n",
       "      <td>ac</td>\n",
       "      <td>True</td>\n",
       "    </tr>\n",
       "    <tr>\n",
       "      <th>62</th>\n",
       "      <td>wallfan</td>\n",
       "      <td>wallfan</td>\n",
       "      <td>True</td>\n",
       "    </tr>\n",
       "    <tr>\n",
       "      <th>63</th>\n",
       "      <td>fridge</td>\n",
       "      <td>fridge</td>\n",
       "      <td>True</td>\n",
       "    </tr>\n",
       "    <tr>\n",
       "      <th>64</th>\n",
       "      <td>fridge</td>\n",
       "      <td>fridge</td>\n",
       "      <td>True</td>\n",
       "    </tr>\n",
       "    <tr>\n",
       "      <th>65</th>\n",
       "      <td>3dprinter</td>\n",
       "      <td>3dprinter</td>\n",
       "      <td>True</td>\n",
       "    </tr>\n",
       "    <tr>\n",
       "      <th>66</th>\n",
       "      <td>fridge</td>\n",
       "      <td>fridge</td>\n",
       "      <td>True</td>\n",
       "    </tr>\n",
       "    <tr>\n",
       "      <th>67</th>\n",
       "      <td>3dprinter</td>\n",
       "      <td>3dprinter</td>\n",
       "      <td>True</td>\n",
       "    </tr>\n",
       "    <tr>\n",
       "      <th>68</th>\n",
       "      <td>fridge</td>\n",
       "      <td>fridge</td>\n",
       "      <td>True</td>\n",
       "    </tr>\n",
       "    <tr>\n",
       "      <th>69</th>\n",
       "      <td>ac</td>\n",
       "      <td>ac</td>\n",
       "      <td>True</td>\n",
       "    </tr>\n",
       "    <tr>\n",
       "      <th>70</th>\n",
       "      <td>3dprinter</td>\n",
       "      <td>3dprinter</td>\n",
       "      <td>True</td>\n",
       "    </tr>\n",
       "    <tr>\n",
       "      <th>71</th>\n",
       "      <td>fridge</td>\n",
       "      <td>fridge</td>\n",
       "      <td>True</td>\n",
       "    </tr>\n",
       "    <tr>\n",
       "      <th>72</th>\n",
       "      <td>ac</td>\n",
       "      <td>ac</td>\n",
       "      <td>True</td>\n",
       "    </tr>\n",
       "    <tr>\n",
       "      <th>73</th>\n",
       "      <td>wallfan</td>\n",
       "      <td>wallfan</td>\n",
       "      <td>True</td>\n",
       "    </tr>\n",
       "    <tr>\n",
       "      <th>74</th>\n",
       "      <td>ac</td>\n",
       "      <td>ac</td>\n",
       "      <td>True</td>\n",
       "    </tr>\n",
       "    <tr>\n",
       "      <th>75</th>\n",
       "      <td>wallfan</td>\n",
       "      <td>wallfan</td>\n",
       "      <td>True</td>\n",
       "    </tr>\n",
       "  </tbody>\n",
       "</table>\n",
       "</div>"
      ],
      "text/plain": [
       "    Predicted     Actual Assumed\n",
       "60     fridge     fridge    True\n",
       "61         ac         ac    True\n",
       "62    wallfan    wallfan    True\n",
       "63     fridge     fridge    True\n",
       "64     fridge     fridge    True\n",
       "65  3dprinter  3dprinter    True\n",
       "66     fridge     fridge    True\n",
       "67  3dprinter  3dprinter    True\n",
       "68     fridge     fridge    True\n",
       "69         ac         ac    True\n",
       "70  3dprinter  3dprinter    True\n",
       "71     fridge     fridge    True\n",
       "72         ac         ac    True\n",
       "73    wallfan    wallfan    True\n",
       "74         ac         ac    True\n",
       "75    wallfan    wallfan    True"
      ]
     },
     "execution_count": 706,
     "metadata": {},
     "output_type": "execute_result"
    }
   ],
   "source": [
    "pred_df.tail(16)"
   ]
  },
  {
   "cell_type": "code",
   "execution_count": 707,
   "metadata": {},
   "outputs": [
    {
     "data": {
      "text/plain": [
       "True     74\n",
       "False     2\n",
       "Name: Assumed, dtype: int64"
      ]
     },
     "execution_count": 707,
     "metadata": {},
     "output_type": "execute_result"
    }
   ],
   "source": [
    "pred_df['Assumed'].value_counts()"
   ]
  },
  {
   "cell_type": "code",
   "execution_count": 708,
   "metadata": {},
   "outputs": [
    {
     "name": "stdout",
     "output_type": "stream",
     "text": [
      "3/3 [==============================] - 0s 2ms/step - loss: 3.3776\n",
      "Accuracy achieved: 337.76 %\n"
     ]
    }
   ],
   "source": [
    "print(f'Accuracy achieved: {model.evaluate(val_data)*100:.2f} %')"
   ]
  },
  {
   "cell_type": "code",
   "execution_count": 709,
   "metadata": {},
   "outputs": [],
   "source": [
    "import matplotlib.pyplot as plt"
   ]
  },
  {
   "cell_type": "code",
   "execution_count": 710,
   "metadata": {},
   "outputs": [],
   "source": [
    "def plot_pred_conf(prediction_probabilities, labels, n=1):\n",
    "    \"\"\"\n",
    "  Plots the top 10 highest prediction confidences along with\n",
    "  the truth label for sample n.\n",
    "    \"\"\"\n",
    "    pred_prob, true_label = prediction_probabilities[n], labels[n]\n",
    "\n",
    "  # Get the predicted label\n",
    "    pred_label = get_pred_label(pred_prob)\n",
    "\n",
    "    # Find the top 10 prediction confidence indexes\n",
    "    top_10_pred_indexes = pred_prob.argsort()[-10:][::-1]\n",
    "    # Find the top 10 prediction confidence values\n",
    "    top_10_pred_values = pred_prob[top_10_pred_indexes]\n",
    "    # Find the top 10 prediction labels\n",
    "    top_10_pred_labels = unique_devices[top_10_pred_indexes]\n",
    "\n",
    "    # Setup plot\n",
    "#     print(top_10_pred_labels)\n",
    "#     print(top_10_pred_labels)\n",
    "    top_plot = plt.bar(np.arange(len(top_10_pred_labels)), \n",
    "                     top_10_pred_values, \n",
    "                     color=\"grey\")\n",
    "    plt.xticks(np.arange(len(top_10_pred_labels)),\n",
    "             labels=top_10_pred_labels,\n",
    "             rotation=\"vertical\")\n",
    "\n",
    "    # Change color of true label\n",
    "    if np.isin(true_label, top_10_pred_labels):\n",
    "        top_plot[np.argmax(top_10_pred_labels == true_label)].set_color(\"green\")\n",
    "    else:\n",
    "        pass"
   ]
  },
  {
   "cell_type": "code",
   "execution_count": 711,
   "metadata": {},
   "outputs": [
    {
     "data": {
      "image/png": "[encoded data removed]",
      "text/plain": [
       "<Figure size 432x288 with 1 Axes>"
      ]
     },
     "metadata": {
      "needs_background": "light"
     },
     "output_type": "display_data"
    }
   ],
   "source": [
    "plot_pred_conf(prediction_probabilities=predictions,\n",
    "               labels=val_labels,\n",
    "               n=25)"
   ]
  },
  {
   "cell_type": "code",
   "execution_count": 721,
   "metadata": {},
   "outputs": [
    {
     "data": {
      "image/png": "[encoded data removed]",
      "text/plain": [
       "<Figure size 2016x4680 with 26 Axes>"
      ]
     },
     "metadata": {
      "needs_background": "light"
     },
     "output_type": "display_data"
    }
   ],
   "source": [
    "# Let's check a few predictions and their different values\n",
    "i_multiplier = 0\n",
    "num_rows = 13\n",
    "num_cols = 2\n",
    "num_files = num_rows*num_cols\n",
    "plt.figure(figsize=(7*2*num_cols, 5*num_rows))\n",
    "for i in range(num_files):\n",
    "    plt.subplot(num_rows, num_cols, i+1)\n",
    "    plot_pred_conf(prediction_probabilities=predictions,\n",
    "                labels=val_labels,\n",
    "                n=i+i_multiplier)\n",
    "plt.tight_layout(h_pad=1.0)\n",
    "plt.show()"
   ]
  },
  {
   "cell_type": "code",
   "execution_count": 713,
   "metadata": {},
   "outputs": [],
   "source": [
    "import os\n",
    "import datetime"
   ]
  },
  {
   "cell_type": "code",
   "execution_count": 714,
   "metadata": {},
   "outputs": [],
   "source": [
    "def save_model(model, suffix=None):\n",
    "    \"\"\"\n",
    "  Saves a given model in a models directory and appends a suffix (str)\n",
    "  for clarity and reuse.\n",
    "    \"\"\"\n",
    "  # Create model directory with current time\n",
    "    modeldir = os.path.join(\".\\models\",\n",
    "                          datetime.datetime.now().strftime(\"%m-%d-%Y\"))\n",
    "    model_path = modeldir + \"-\" + suffix + \".h5\" # save format of model\n",
    "    print(f\"Saving model to: {model_path}...\")\n",
    "    model.save(model_path)\n",
    "    return model_path"
   ]
  },
  {
   "cell_type": "code",
   "execution_count": 715,
   "metadata": {},
   "outputs": [
    {
     "name": "stdout",
     "output_type": "stream",
     "text": [
      "Saving model to: .\\models\\09-15-2020-400 files-Adam.h5...\n"
     ]
    },
    {
     "data": {
      "text/plain": [
       "'.\\\\models\\\\09-15-2020-400 files-Adam.h5'"
      ]
     },
     "execution_count": 715,
     "metadata": {},
     "output_type": "execute_result"
    }
   ],
   "source": [
    "# Save our model trained on 400 signatures\n",
    "save_model(model, suffix=\"400 files-Adam\")"
   ]
  },
  {
   "cell_type": "code",
   "execution_count": 716,
   "metadata": {},
   "outputs": [],
   "source": [
    "def load_model(model_path):\n",
    "    \"\"\"\n",
    "  Loads a saved model from a specified path.\n",
    "    \"\"\"\n",
    "    print(f\"Loading saved model from: {model_path}\")\n",
    "    model = tf.keras.models.load_model(model_path,\n",
    "                                     custom_objects={\"KerasLayer\":hub.KerasLayer})\n",
    "    return model"
   ]
  },
  {
   "cell_type": "code",
   "execution_count": 717,
   "metadata": {},
   "outputs": [
    {
     "name": "stdout",
     "output_type": "stream",
     "text": [
      "Loading saved model from: ./models/09-15-2020-400 files-Adam.h5\n"
     ]
    }
   ],
   "source": [
    "# Load our model trained \n",
    "model = load_model('./models/09-15-2020-400 files-Adam.h5')"
   ]
  },
  {
   "cell_type": "code",
   "execution_count": 718,
   "metadata": {},
   "outputs": [
    {
     "name": "stdout",
     "output_type": "stream",
     "text": [
      "3/3 [==============================] - 0s 6ms/step - loss: 3.3776\n"
     ]
    },
    {
     "data": {
      "text/plain": [
       "3.377636194229126"
      ]
     },
     "execution_count": 718,
     "metadata": {},
     "output_type": "execute_result"
    }
   ],
   "source": [
    "# Evaluate the pre-saved model\n",
    "model.evaluate(val_data)"
   ]
  },
  {
   "cell_type": "code",
   "execution_count": null,
   "metadata": {},
   "outputs": [],
   "source": []
  }
 ],
 "metadata": {
  "kernelspec": {
   "display_name": "Python 3",
   "language": "python",
   "name": "python3"
  },
  "language_info": {
   "codemirror_mode": {
    "name": "ipython",
    "version": 3
   },
   "file_extension": ".py",
   "mimetype": "text/x-python",
   "name": "python",
   "nbconvert_exporter": "python",
   "pygments_lexer": "ipython3",
   "version": "3.7.8"
  }
 },
 "nbformat": 4,
 "nbformat_minor": 4
}
