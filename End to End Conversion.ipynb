{
 "cells": [
  {
   "cell_type": "code",
   "execution_count": 1,
   "metadata": {},
   "outputs": [],
   "source": [
    "import numpy as np\n",
    "import pandas as pd\n",
    "import tensorflow as tf"
   ]
  },
  {
   "cell_type": "code",
   "execution_count": 2,
   "metadata": {},
   "outputs": [],
   "source": [
    "def sample_to_7dsignature(*args):\n",
    "    \"\"\"\n",
    "    Takes a CSV file name (without extension) having samples of device as input.\n",
    "    The column names must be as : V1,C1,A1,PF1,AP1,RP1,F1,T\n",
    "    Converts it to a dataset of signatures of duration 1 min.\n",
    "    Exports the modified CSV in seconds frequency, and signature format in separate files as: \n",
    "        1. (filename_seconds.csv) \n",
    "        2. (filename_7d.npy).\n",
    "        3. 7D numpy array\n",
    "        4. labels\n",
    "    Returns 1. the 7-D signature of device, and the 2. appropriate labels in a pandas series format. \n",
    "    \n",
    "    \"\"\"\n",
    "    import csv\n",
    "    import numpy as np\n",
    "    import pandas as pd\n",
    "    \n",
    "    devices = []\n",
    "    for x in args:\n",
    "        devices.append(x)\n",
    "    for fn in devices:\n",
    "        df = pd.read_csv(f'{fn}.csv')\n",
    "        df['T'] = pd.DatetimeIndex(df['T'],tz = 'Asia/Kolkata')\n",
    "        df = df.set_index('T')\n",
    "        df.resample('S').mean()\n",
    "        df.to_csv(f'{fn}_seconds.csv',index= False)\n",
    "\n",
    "    \n",
    "        with open(f'{fn}_seconds.csv', 'r') as fp:\n",
    "            next(fp) # ignore column names\n",
    "            np_v  =np.array([])\n",
    "            np_c  =np.array([])\n",
    "            np_a  =np.array([])\n",
    "            np_pf =np.array([])\n",
    "            np_ap =np.array([])\n",
    "            np_rp =np.array([])\n",
    "            np_f  =np.array([])\n",
    "            params = [np_v,np_c,np_a,np_pf,np_ap,np_rp,np_f]  \n",
    "\n",
    "            for i, line in enumerate(fp):\n",
    "                line  = line[:-2]  #remove \\n from end of string.\n",
    "                line = np.array(line.split(sep = ','))  # array of string values\n",
    "                line = line.astype(np.float)    # array of float values v,c,a,pf,ap,rp,f\n",
    "    #             print(line) \n",
    "    #             print(line.size)  7\n",
    "    #             print(line.shape) 7,\n",
    "                for idx, val in enumerate(line):\n",
    "                    #i will give us the parameter name ,  x will give us the parameter value\n",
    "                # not able to reduce code due to some issue with numpy array not being updated\n",
    "                    if idx == 0:\n",
    "                        np_v = np.append(np_v,val)\n",
    "                    elif idx==1:\n",
    "                        np_c = np.append(np_c,val)\n",
    "                    elif idx==2:\n",
    "                        np_a = np.append(np_a,val)\n",
    "                    elif idx==3:\n",
    "                        np_pf = np.append(np_pf,val)\n",
    "                    elif idx==4:\n",
    "                        np_ap = np.append(np_ap,val)\n",
    "                    elif idx==5:\n",
    "                        np_rp = np.append(np_rp,val)\n",
    "                    elif idx==6:\n",
    "                        np_f = np.append(np_f,val) # append values to corresponding arrays \n",
    "    #         print(np_v,np_c,np_a,np_pf,np_ap,np_rp,np_f)  #correct\n",
    "    #         print(np_v.size) #5559\n",
    "\n",
    "\n",
    "\n",
    "            extra_samples = (np_v.size)%60  # a signature is of length 60, thus delete extra samples\n",
    "    #         print(np_v.shape) (5559,)\n",
    "\n",
    "            if extra_samples !=0:\n",
    "                np_v = np.delete(np_v,np.s_[-extra_samples:])\n",
    "                np_c = np.delete(np_c,np.s_[-extra_samples:])\n",
    "                np_a = np.delete(np_a,np.s_[-extra_samples:])\n",
    "                np_pf = np.delete(np_pf,np.s_[-extra_samples:])\n",
    "                np_ap = np.delete(np_ap,np.s_[-extra_samples:])\n",
    "                np_rp = np.delete(np_rp,np.s_[-extra_samples:])\n",
    "                np_f = np.delete(np_f,np.s_[-extra_samples:])\n",
    "\n",
    "\n",
    "\n",
    "            samples = np_v.size\n",
    "            no_signatures = samples//60  # no of signatures per device collected\n",
    "\n",
    "            np_v = np_v.reshape((no_signatures),60)  #convert samples to a stream of 1 minute\n",
    "            np_c = np_c.reshape((no_signatures),60)\n",
    "            np_a = np_a.reshape((no_signatures),60)\n",
    "            np_pf = np_pf.reshape((no_signatures),60)\n",
    "            np_ap = np_ap.reshape((no_signatures),60)\n",
    "            np_rp = np_rp.reshape((no_signatures),60)\n",
    "            np_f = np_f.reshape((no_signatures),60)\n",
    "    #         print(np_v.shape)  (92, 60)\n",
    "\n",
    "\n",
    "            li = [] #this will hold all the signatures of a device \n",
    "    #         print(no_signatures)  #92\n",
    "            for x in range(no_signatures):\n",
    "                # signature_array will be 7 dimensional array with a length of 1 row x 60 columns\n",
    "                signature_array = np.array([\n",
    "                                            [np_v[x]],\n",
    "                                            [np_c[x]],\n",
    "                                            [np_a[x]],\n",
    "                                            [np_pf[x]],\n",
    "                                            [np_ap[x]],\n",
    "                                            [np_rp[x]],\n",
    "                                            [np_f[x]],\n",
    "                                          ])\n",
    "    #             print(signature_array.shape)  #(7, 1, 60)\n",
    "                li.append(signature_array)\n",
    "            li = np.array(li)\n",
    "    #         print(li.shape) #(92, 7, 1, 60)\n",
    "            no_rows = li.shape[0]\n",
    "    #         print(no_rows) #92\n",
    "            label_series = pd.Series([],dtype='string')\n",
    "            for x in range (no_rows):\n",
    "                label_series[x] = fn\n",
    "            np.save(f'{fn}',li)\n",
    "            label_series.to_csv(f'{fn}_labels.csv',index=False)\n",
    "    return "
   ]
  },
  {
   "cell_type": "code",
   "execution_count": 198,
   "metadata": {},
   "outputs": [],
   "source": [
    "zf = pd.read_csv('vf.csv')"
   ]
  },
  {
   "cell_type": "code",
   "execution_count": 199,
   "metadata": {},
   "outputs": [],
   "source": [
    "zf = zf.drop('ID',axis =1)"
   ]
  },
  {
   "cell_type": "code",
   "execution_count": 200,
   "metadata": {},
   "outputs": [
    {
     "data": {
      "text/html": [
       "<div>\n",
       "<style scoped>\n",
       "    .dataframe tbody tr th:only-of-type {\n",
       "        vertical-align: middle;\n",
       "    }\n",
       "\n",
       "    .dataframe tbody tr th {\n",
       "        vertical-align: top;\n",
       "    }\n",
       "\n",
       "    .dataframe thead th {\n",
       "        text-align: right;\n",
       "    }\n",
       "</style>\n",
       "<table border=\"1\" class=\"dataframe\">\n",
       "  <thead>\n",
       "    <tr style=\"text-align: right;\">\n",
       "      <th></th>\n",
       "      <th>V1</th>\n",
       "      <th>C1</th>\n",
       "      <th>A1</th>\n",
       "      <th>PF1</th>\n",
       "      <th>AP1</th>\n",
       "      <th>RP1</th>\n",
       "      <th>F1</th>\n",
       "      <th>T</th>\n",
       "    </tr>\n",
       "  </thead>\n",
       "  <tbody>\n",
       "    <tr>\n",
       "      <th>0</th>\n",
       "      <td>279.83</td>\n",
       "      <td>2.05</td>\n",
       "      <td>-359</td>\n",
       "      <td>-0.62</td>\n",
       "      <td>576.24</td>\n",
       "      <td>450.75</td>\n",
       "      <td>49.96</td>\n",
       "      <td>2020-9-15 23:50:56.208</td>\n",
       "    </tr>\n",
       "    <tr>\n",
       "      <th>1</th>\n",
       "      <td>280.09</td>\n",
       "      <td>2.05</td>\n",
       "      <td>-359</td>\n",
       "      <td>-0.62</td>\n",
       "      <td>575.32</td>\n",
       "      <td>449.57</td>\n",
       "      <td>49.96</td>\n",
       "      <td>2020-9-15 23:50:57.334</td>\n",
       "    </tr>\n",
       "    <tr>\n",
       "      <th>2</th>\n",
       "      <td>280.40</td>\n",
       "      <td>2.06</td>\n",
       "      <td>-359</td>\n",
       "      <td>-0.62</td>\n",
       "      <td>579.03</td>\n",
       "      <td>454.31</td>\n",
       "      <td>49.96</td>\n",
       "      <td>2020-9-15 23:50:58.465</td>\n",
       "    </tr>\n",
       "    <tr>\n",
       "      <th>3</th>\n",
       "      <td>282.61</td>\n",
       "      <td>0.58</td>\n",
       "      <td>-126</td>\n",
       "      <td>-0.77</td>\n",
       "      <td>164.06</td>\n",
       "      <td>105.07</td>\n",
       "      <td>49.96</td>\n",
       "      <td>2020-9-15 23:51:0.589</td>\n",
       "    </tr>\n",
       "    <tr>\n",
       "      <th>4</th>\n",
       "      <td>280.79</td>\n",
       "      <td>0.58</td>\n",
       "      <td>-126</td>\n",
       "      <td>-0.77</td>\n",
       "      <td>164.49</td>\n",
       "      <td>105.74</td>\n",
       "      <td>49.97</td>\n",
       "      <td>2020-9-15 23:51:1.722</td>\n",
       "    </tr>\n",
       "    <tr>\n",
       "      <th>...</th>\n",
       "      <td>...</td>\n",
       "      <td>...</td>\n",
       "      <td>...</td>\n",
       "      <td>...</td>\n",
       "      <td>...</td>\n",
       "      <td>...</td>\n",
       "      <td>...</td>\n",
       "      <td>...</td>\n",
       "    </tr>\n",
       "    <tr>\n",
       "      <th>12188</th>\n",
       "      <td>278.26</td>\n",
       "      <td>0.42</td>\n",
       "      <td>-57</td>\n",
       "      <td>-0.48</td>\n",
       "      <td>118.75</td>\n",
       "      <td>104.18</td>\n",
       "      <td>49.90</td>\n",
       "      <td>2020-9-16 4:7:44.14</td>\n",
       "    </tr>\n",
       "    <tr>\n",
       "      <th>12189</th>\n",
       "      <td>278.61</td>\n",
       "      <td>1.96</td>\n",
       "      <td>-294</td>\n",
       "      <td>-0.54</td>\n",
       "      <td>546.47</td>\n",
       "      <td>460.64</td>\n",
       "      <td>49.89</td>\n",
       "      <td>2020-9-16 4:7:45.140</td>\n",
       "    </tr>\n",
       "    <tr>\n",
       "      <th>12190</th>\n",
       "      <td>277.39</td>\n",
       "      <td>1.94</td>\n",
       "      <td>-290</td>\n",
       "      <td>-0.54</td>\n",
       "      <td>541.04</td>\n",
       "      <td>456.76</td>\n",
       "      <td>49.90</td>\n",
       "      <td>2020-9-16 4:7:46.263</td>\n",
       "    </tr>\n",
       "    <tr>\n",
       "      <th>12191</th>\n",
       "      <td>278.77</td>\n",
       "      <td>1.95</td>\n",
       "      <td>-291</td>\n",
       "      <td>-0.53</td>\n",
       "      <td>544.94</td>\n",
       "      <td>460.74</td>\n",
       "      <td>49.89</td>\n",
       "      <td>2020-9-16 4:7:48.393</td>\n",
       "    </tr>\n",
       "    <tr>\n",
       "      <th>12192</th>\n",
       "      <td>270.82</td>\n",
       "      <td>0.86</td>\n",
       "      <td>-74</td>\n",
       "      <td>-0.32</td>\n",
       "      <td>233.44</td>\n",
       "      <td>221.40</td>\n",
       "      <td>49.90</td>\n",
       "      <td>2020-9-16 4:7:49.515</td>\n",
       "    </tr>\n",
       "  </tbody>\n",
       "</table>\n",
       "<p>12193 rows × 8 columns</p>\n",
       "</div>"
      ],
      "text/plain": [
       "           V1    C1   A1   PF1     AP1     RP1     F1                       T\n",
       "0      279.83  2.05 -359 -0.62  576.24  450.75  49.96  2020-9-15 23:50:56.208\n",
       "1      280.09  2.05 -359 -0.62  575.32  449.57  49.96  2020-9-15 23:50:57.334\n",
       "2      280.40  2.06 -359 -0.62  579.03  454.31  49.96  2020-9-15 23:50:58.465\n",
       "3      282.61  0.58 -126 -0.77  164.06  105.07  49.96   2020-9-15 23:51:0.589\n",
       "4      280.79  0.58 -126 -0.77  164.49  105.74  49.97   2020-9-15 23:51:1.722\n",
       "...       ...   ...  ...   ...     ...     ...    ...                     ...\n",
       "12188  278.26  0.42  -57 -0.48  118.75  104.18  49.90     2020-9-16 4:7:44.14\n",
       "12189  278.61  1.96 -294 -0.54  546.47  460.64  49.89    2020-9-16 4:7:45.140\n",
       "12190  277.39  1.94 -290 -0.54  541.04  456.76  49.90    2020-9-16 4:7:46.263\n",
       "12191  278.77  1.95 -291 -0.53  544.94  460.74  49.89    2020-9-16 4:7:48.393\n",
       "12192  270.82  0.86  -74 -0.32  233.44  221.40  49.90    2020-9-16 4:7:49.515\n",
       "\n",
       "[12193 rows x 8 columns]"
      ]
     },
     "execution_count": 200,
     "metadata": {},
     "output_type": "execute_result"
    }
   ],
   "source": [
    "zf"
   ]
  },
  {
   "cell_type": "code",
   "execution_count": 201,
   "metadata": {},
   "outputs": [],
   "source": [
    "zf['T'] = pd.DatetimeIndex(zf['T'],tz = 'Asia/Kolkata')\n",
    "zf = zf.set_index('T')\n",
    "zf.resample('S').mean()\n",
    "fn = 'vf'\n",
    "zf.to_csv(f'{fn}_seconds.csv',index= False)\n",
    "\n",
    "    \n",
    "with open(f'{fn}_seconds.csv', 'r') as fp:\n",
    "    next(fp) # ignore column names\n",
    "    np_v  =np.array([])\n",
    "    np_c  =np.array([])\n",
    "    np_a  =np.array([])\n",
    "    np_pf =np.array([])\n",
    "    np_ap =np.array([])\n",
    "    np_rp =np.array([])\n",
    "    np_f  =np.array([])\n",
    "    params = [np_v,np_c,np_a,np_pf,np_ap,np_rp,np_f]  \n",
    "\n",
    "    for i, line in enumerate(fp):\n",
    "        line  = line[:-2]  #remove \\n from end of string.\n",
    "        line = np.array(line.split(sep = ','))  # array of string values\n",
    "        line = line.astype(np.float)    # array of float values v,c,a,pf,ap,rp,f\n",
    "#             print(line) \n",
    "#             print(line.size)  7\n",
    "#             print(line.shape) 7,\n",
    "        for idx, val in enumerate(line):\n",
    "                #i will give us the parameter name ,  x will give us the parameter value\n",
    "            # not able to reduce code due to some issue with numpy array not being updated\n",
    "            if idx == 0:\n",
    "                np_v = np.append(np_v,val)\n",
    "            elif idx==1:\n",
    "                np_c = np.append(np_c,val)\n",
    "            elif idx==2:\n",
    "                np_a = np.append(np_a,val)\n",
    "            elif idx==3:\n",
    "                np_pf = np.append(np_pf,val)\n",
    "            elif idx==4:\n",
    "                np_ap = np.append(np_ap,val)\n",
    "            elif idx==5:\n",
    "                np_rp = np.append(np_rp,val)\n",
    "            elif idx==6:\n",
    "                np_f = np.append(np_f,val) # append values to corresponding arrays \n",
    "#         print(np_v,np_c,np_a,np_pf,np_ap,np_rp,np_f)  #correct\n",
    "#         print(np_v.size) #5559\n",
    "\n",
    "\n",
    "\n",
    "    extra_samples = (np_v.size)%60  # a signature is of length 60, thus delete extra samples\n",
    "#         print(np_v.shape) (5559,)\n",
    "\n",
    "    if extra_samples !=0:\n",
    "        np_v = np.delete(np_v,np.s_[-extra_samples:])\n",
    "        np_c = np.delete(np_c,np.s_[-extra_samples:])\n",
    "        np_a = np.delete(np_a,np.s_[-extra_samples:])\n",
    "        np_pf = np.delete(np_pf,np.s_[-extra_samples:])\n",
    "        np_ap = np.delete(np_ap,np.s_[-extra_samples:])\n",
    "        np_rp = np.delete(np_rp,np.s_[-extra_samples:])\n",
    "        np_f = np.delete(np_f,np.s_[-extra_samples:])\n",
    "\n",
    "\n",
    "\n",
    "    samples = np_v.size\n",
    "    no_signatures = samples//60  # no of signatures per device collected\n",
    "\n",
    "    np_v = np_v.reshape((no_signatures),60)  #convert samples to a stream of 1 minute\n",
    "    np_c = np_c.reshape((no_signatures),60)\n",
    "    np_a = np_a.reshape((no_signatures),60)\n",
    "    np_pf = np_pf.reshape((no_signatures),60)\n",
    "    np_ap = np_ap.reshape((no_signatures),60)\n",
    "    np_rp = np_rp.reshape((no_signatures),60)\n",
    "    np_f = np_f.reshape((no_signatures),60)\n",
    "#         print(np_v.shape)  (92, 60)\n",
    "\n",
    "\n",
    "    li = [] #this will hold all the signatures of a device \n",
    "#         print(no_signatures)  #92\n",
    "    for x in range(no_signatures):\n",
    "        # signature_array will be 7 dimensional array with a length of 1 row x 60 columns\n",
    "        signature_array = np.array([\n",
    "                                    [np_v[x]],\n",
    "                                    [np_c[x]],\n",
    "                                    [np_a[x]],\n",
    "                                    [np_pf[x]],\n",
    "                                    [np_ap[x]],\n",
    "                                    [np_rp[x]],\n",
    "                                    [np_f[x]],\n",
    "                                  ])\n",
    "#             print(signature_array.shape)  #(7, 1, 60)\n",
    "        li.append(signature_array)\n",
    "    li = np.array(li)\n",
    "#         print(li.shape) #(92, 7, 1, 60)\n",
    "    no_rows = li.shape[0]\n",
    "#         print(no_rows) #92\n",
    "    label_series = pd.Series([],dtype='string')\n",
    "    for x in range (no_rows):\n",
    "        label_series[x] = fn\n",
    "    np.save(f'{fn}',li)\n",
    "    label_series.to_csv(f'{fn}_labels.csv',index=False)"
   ]
  },
  {
   "cell_type": "code",
   "execution_count": 203,
   "metadata": {},
   "outputs": [],
   "source": [
    "frr = np.load('vf.npy')"
   ]
  },
  {
   "cell_type": "code",
   "execution_count": 204,
   "metadata": {},
   "outputs": [
    {
     "name": "stdout",
     "output_type": "stream",
     "text": [
      "Creating test data batches...\n"
     ]
    }
   ],
   "source": [
    "# Create test data batch\n",
    "test_data = create_data_batches(frr, test_data=True)"
   ]
  },
  {
   "cell_type": "code",
   "execution_count": 205,
   "metadata": {},
   "outputs": [
    {
     "data": {
      "text/plain": [
       "TensorSpec(shape=(None, 7, 1, 60), dtype=tf.float64, name=None)"
      ]
     },
     "execution_count": 205,
     "metadata": {},
     "output_type": "execute_result"
    }
   ],
   "source": [
    "test_data.element_spec"
   ]
  },
  {
   "cell_type": "code",
   "execution_count": 206,
   "metadata": {},
   "outputs": [
    {
     "name": "stdout",
     "output_type": "stream",
     "text": [
      "Loading saved model from: ./models/09-15-2020-400 files-Adam.h5\n"
     ]
    }
   ],
   "source": [
    "# Load our model trained \n",
    "model = load_model('./models/09-15-2020-400 files-Adam.h5')"
   ]
  },
  {
   "cell_type": "code",
   "execution_count": 219,
   "metadata": {},
   "outputs": [
    {
     "name": "stdout",
     "output_type": "stream",
     "text": [
      "WARNING:tensorflow:From <ipython-input-219-80ce070f042a>:3: Sequential.predict_proba (from tensorflow.python.keras.engine.sequential) is deprecated and will be removed after 2021-01-01.\n",
      "Instructions for updating:\n",
      "Please use `model.predict()` instead.\n",
      "7/7 [==============================] - 0s 1ms/step\n"
     ]
    }
   ],
   "source": [
    "# Make predictions on test data batch using the loaded full model\n",
    "test_predictions = model.predict_proba(test_data,\n",
    "                                             verbose=1)"
   ]
  },
  {
   "cell_type": "code",
   "execution_count": 208,
   "metadata": {},
   "outputs": [
    {
     "name": "stdout",
     "output_type": "stream",
     "text": [
      "[0. 1. 0. 0.]\n",
      "Max value (probability of prediction): 1.0\n",
      "Sum: 1.0\n",
      "Max index: 1\n",
      "Predicted label: ac\n"
     ]
    }
   ],
   "source": [
    "# First prediction\n",
    "print(test_predictions[0])\n",
    "print(f\"Max value (probability of prediction): {np.max(test_predictions[0])}\") # the max probability value predicted by the model\n",
    "print(f\"Sum: {np.sum(test_predictions[0])}\") # because we used softmax activation in our model, this will be close to 1\n",
    "print(f\"Max index: {np.argmax(test_predictions[0])}\") # the index of where the max value in predictions[0] occurs\n",
    "print(f\"Predicted label: {unique_devices[np.argmax(test_predictions[0])]}\") # the predicted label"
   ]
  },
  {
   "cell_type": "markdown",
   "metadata": {},
   "source": [
    "should have been wallfan + 3d printer"
   ]
  },
  {
   "cell_type": "code",
   "execution_count": 214,
   "metadata": {},
   "outputs": [
    {
     "data": {
      "text/plain": [
       "'ac'"
      ]
     },
     "execution_count": 214,
     "metadata": {},
     "output_type": "execute_result"
    }
   ],
   "source": [
    "# Get a predicted label based on an array of prediction probabilities\n",
    "pred_label = get_pred_label(test_predictions[10])\n",
    "pred_label"
   ]
  },
  {
   "cell_type": "code",
   "execution_count": 221,
   "metadata": {},
   "outputs": [
    {
     "data": {
      "text/html": [
       "<div>\n",
       "<style scoped>\n",
       "    .dataframe tbody tr th:only-of-type {\n",
       "        vertical-align: middle;\n",
       "    }\n",
       "\n",
       "    .dataframe tbody tr th {\n",
       "        vertical-align: top;\n",
       "    }\n",
       "\n",
       "    .dataframe thead th {\n",
       "        text-align: right;\n",
       "    }\n",
       "</style>\n",
       "<table border=\"1\" class=\"dataframe\">\n",
       "  <thead>\n",
       "    <tr style=\"text-align: right;\">\n",
       "      <th></th>\n",
       "      <th>0</th>\n",
       "      <th>1</th>\n",
       "      <th>2</th>\n",
       "      <th>3</th>\n",
       "    </tr>\n",
       "  </thead>\n",
       "  <tbody>\n",
       "    <tr>\n",
       "      <th>0</th>\n",
       "      <td>0.0</td>\n",
       "      <td>1.0</td>\n",
       "      <td>0.0</td>\n",
       "      <td>0.0</td>\n",
       "    </tr>\n",
       "    <tr>\n",
       "      <th>1</th>\n",
       "      <td>0.0</td>\n",
       "      <td>1.0</td>\n",
       "      <td>0.0</td>\n",
       "      <td>0.0</td>\n",
       "    </tr>\n",
       "    <tr>\n",
       "      <th>2</th>\n",
       "      <td>0.0</td>\n",
       "      <td>1.0</td>\n",
       "      <td>0.0</td>\n",
       "      <td>0.0</td>\n",
       "    </tr>\n",
       "    <tr>\n",
       "      <th>3</th>\n",
       "      <td>0.0</td>\n",
       "      <td>1.0</td>\n",
       "      <td>0.0</td>\n",
       "      <td>0.0</td>\n",
       "    </tr>\n",
       "    <tr>\n",
       "      <th>4</th>\n",
       "      <td>0.0</td>\n",
       "      <td>1.0</td>\n",
       "      <td>0.0</td>\n",
       "      <td>0.0</td>\n",
       "    </tr>\n",
       "    <tr>\n",
       "      <th>...</th>\n",
       "      <td>...</td>\n",
       "      <td>...</td>\n",
       "      <td>...</td>\n",
       "      <td>...</td>\n",
       "    </tr>\n",
       "    <tr>\n",
       "      <th>198</th>\n",
       "      <td>0.0</td>\n",
       "      <td>1.0</td>\n",
       "      <td>0.0</td>\n",
       "      <td>0.0</td>\n",
       "    </tr>\n",
       "    <tr>\n",
       "      <th>199</th>\n",
       "      <td>0.0</td>\n",
       "      <td>1.0</td>\n",
       "      <td>0.0</td>\n",
       "      <td>0.0</td>\n",
       "    </tr>\n",
       "    <tr>\n",
       "      <th>200</th>\n",
       "      <td>0.0</td>\n",
       "      <td>1.0</td>\n",
       "      <td>0.0</td>\n",
       "      <td>0.0</td>\n",
       "    </tr>\n",
       "    <tr>\n",
       "      <th>201</th>\n",
       "      <td>0.0</td>\n",
       "      <td>1.0</td>\n",
       "      <td>0.0</td>\n",
       "      <td>0.0</td>\n",
       "    </tr>\n",
       "    <tr>\n",
       "      <th>202</th>\n",
       "      <td>0.0</td>\n",
       "      <td>1.0</td>\n",
       "      <td>0.0</td>\n",
       "      <td>0.0</td>\n",
       "    </tr>\n",
       "  </tbody>\n",
       "</table>\n",
       "<p>203 rows × 4 columns</p>\n",
       "</div>"
      ],
      "text/plain": [
       "       0    1    2    3\n",
       "0    0.0  1.0  0.0  0.0\n",
       "1    0.0  1.0  0.0  0.0\n",
       "2    0.0  1.0  0.0  0.0\n",
       "3    0.0  1.0  0.0  0.0\n",
       "4    0.0  1.0  0.0  0.0\n",
       "..   ...  ...  ...  ...\n",
       "198  0.0  1.0  0.0  0.0\n",
       "199  0.0  1.0  0.0  0.0\n",
       "200  0.0  1.0  0.0  0.0\n",
       "201  0.0  1.0  0.0  0.0\n",
       "202  0.0  1.0  0.0  0.0\n",
       "\n",
       "[203 rows x 4 columns]"
      ]
     },
     "execution_count": 221,
     "metadata": {},
     "output_type": "execute_result"
    }
   ],
   "source": [
    "pd.DataFrame(test_predictions)"
   ]
  },
  {
   "cell_type": "code",
   "execution_count": 217,
   "metadata": {},
   "outputs": [
    {
     "data": {
      "text/plain": [
       "array([0., 1., 0., 0.], dtype=float32)"
      ]
     },
     "execution_count": 217,
     "metadata": {},
     "output_type": "execute_result"
    }
   ],
   "source": [
    "test_predictions[0]"
   ]
  },
  {
   "cell_type": "code",
   "execution_count": 3,
   "metadata": {},
   "outputs": [],
   "source": [
    "sample_to_7dsignature('3dprinter','ac','fridge','wallfan')"
   ]
  },
  {
   "cell_type": "code",
   "execution_count": 355,
   "metadata": {},
   "outputs": [
    {
     "data": {
      "text/plain": [
       "(92, 7, 1, 60)"
      ]
     },
     "execution_count": 355,
     "metadata": {},
     "output_type": "execute_result"
    }
   ],
   "source": [
    "arr = np.load('3dprinter.npy')\n",
    "arr.shape\n",
    "        "
   ]
  },
  {
   "cell_type": "code",
   "execution_count": 356,
   "metadata": {},
   "outputs": [
    {
     "data": {
      "text/plain": [
       "(99, 7, 1, 60)"
      ]
     },
     "execution_count": 356,
     "metadata": {},
     "output_type": "execute_result"
    }
   ],
   "source": [
    "brr = np.load('ac.npy')\n",
    "brr.shape"
   ]
  },
  {
   "cell_type": "code",
   "execution_count": 344,
   "metadata": {},
   "outputs": [],
   "source": [
    "crr = np.append(arr,brr,axis = 0)"
   ]
  },
  {
   "cell_type": "code",
   "execution_count": 345,
   "metadata": {},
   "outputs": [
    {
     "data": {
      "text/plain": [
       "(191, 7, 1, 60)"
      ]
     },
     "execution_count": 345,
     "metadata": {},
     "output_type": "execute_result"
    }
   ],
   "source": [
    "crr.shape"
   ]
  },
  {
   "cell_type": "code",
   "execution_count": 353,
   "metadata": {},
   "outputs": [
    {
     "data": {
      "text/plain": [
       "0.41"
      ]
     },
     "execution_count": 353,
     "metadata": {},
     "output_type": "execute_result"
    }
   ],
   "source": [
    "crr[91][1][0][0]"
   ]
  },
  {
   "cell_type": "code",
   "execution_count": 370,
   "metadata": {},
   "outputs": [],
   "source": [
    "a = np.array([[1,2,3],[4,5,6],[13,14,15]])\n",
    "b = np.array([[7,8,9],[10,11,12]])"
   ]
  },
  {
   "cell_type": "code",
   "execution_count": 371,
   "metadata": {},
   "outputs": [
    {
     "data": {
      "text/plain": [
       "(3, 3)"
      ]
     },
     "execution_count": 371,
     "metadata": {},
     "output_type": "execute_result"
    }
   ],
   "source": [
    "a.shape"
   ]
  },
  {
   "cell_type": "code",
   "execution_count": 373,
   "metadata": {},
   "outputs": [
    {
     "data": {
      "text/plain": [
       "(2, 3)"
      ]
     },
     "execution_count": 373,
     "metadata": {},
     "output_type": "execute_result"
    }
   ],
   "source": [
    "b.shape"
   ]
  },
  {
   "cell_type": "code",
   "execution_count": 372,
   "metadata": {},
   "outputs": [
    {
     "data": {
      "text/plain": [
       "(15,)"
      ]
     },
     "execution_count": 372,
     "metadata": {},
     "output_type": "execute_result"
    }
   ],
   "source": [
    "c= np.array([])\n",
    "c = np.append(c,a)\n",
    "c= np.append(c,b)\n",
    "c.shape"
   ]
  },
  {
   "cell_type": "code",
   "execution_count": 374,
   "metadata": {},
   "outputs": [],
   "source": [
    "c = c.reshape((5,3))"
   ]
  },
  {
   "cell_type": "code",
   "execution_count": 375,
   "metadata": {},
   "outputs": [
    {
     "data": {
      "text/plain": [
       "array([[ 1.,  2.,  3.],\n",
       "       [ 4.,  5.,  6.],\n",
       "       [13., 14., 15.],\n",
       "       [ 7.,  8.,  9.],\n",
       "       [10., 11., 12.]])"
      ]
     },
     "execution_count": 375,
     "metadata": {},
     "output_type": "execute_result"
    }
   ],
   "source": [
    "c"
   ]
  },
  {
   "cell_type": "code",
   "execution_count": 4,
   "metadata": {},
   "outputs": [],
   "source": [
    "def get_xy(*args):\n",
    "    devices = []\n",
    "    for x in args:\n",
    "        devices.append(x)\n",
    "    size = 0\n",
    "    files = np.array([])\n",
    "    labels = np.array([])\n",
    "    for fn in devices:\n",
    "        frr = np.load(f'{fn}.npy')\n",
    "        files = np.append(files,frr)\n",
    "        lrr = pd.read_csv(f'{fn}_labels.csv').to_numpy()\n",
    "        labels = np.append(labels,lrr)\n",
    "        s = frr.shape[0]\n",
    "        size += s\n",
    "#     print(size) #379\n",
    "    files = files.reshape((size,7,1,60))\n",
    "#     print(files.shape,labels.shape) #(379, 7, 1, 60) (379,)\n",
    "    return files,labels        "
   ]
  },
  {
   "cell_type": "code",
   "execution_count": 5,
   "metadata": {},
   "outputs": [],
   "source": [
    "files,labels = get_xy('3dprinter','ac','fridge','wallfan')"
   ]
  },
  {
   "cell_type": "code",
   "execution_count": 6,
   "metadata": {},
   "outputs": [
    {
     "data": {
      "text/plain": [
       "array(['3dprinter', 'ac', 'fridge', 'wallfan'], dtype=object)"
      ]
     },
     "execution_count": 6,
     "metadata": {},
     "output_type": "execute_result"
    }
   ],
   "source": [
    "unique_devices = np.unique(labels)\n",
    "unique_devices"
   ]
  },
  {
   "cell_type": "code",
   "execution_count": 8,
   "metadata": {},
   "outputs": [
    {
     "data": {
      "text/plain": [
       "array([ True, False, False, False])"
      ]
     },
     "execution_count": 8,
     "metadata": {},
     "output_type": "execute_result"
    }
   ],
   "source": [
    "labels[0]==unique_devices"
   ]
  },
  {
   "cell_type": "code",
   "execution_count": 9,
   "metadata": {},
   "outputs": [
    {
     "data": {
      "text/plain": [
       "[array([ True, False, False, False]),\n",
       " array([ True, False, False, False]),\n",
       " array([ True, False, False, False]),\n",
       " array([ True, False, False, False]),\n",
       " array([ True, False, False, False]),\n",
       " array([ True, False, False, False]),\n",
       " array([ True, False, False, False]),\n",
       " array([ True, False, False, False]),\n",
       " array([ True, False, False, False]),\n",
       " array([ True, False, False, False]),\n",
       " array([ True, False, False, False]),\n",
       " array([ True, False, False, False]),\n",
       " array([ True, False, False, False]),\n",
       " array([ True, False, False, False]),\n",
       " array([ True, False, False, False]),\n",
       " array([ True, False, False, False]),\n",
       " array([ True, False, False, False]),\n",
       " array([ True, False, False, False]),\n",
       " array([ True, False, False, False]),\n",
       " array([ True, False, False, False]),\n",
       " array([ True, False, False, False]),\n",
       " array([ True, False, False, False]),\n",
       " array([ True, False, False, False]),\n",
       " array([ True, False, False, False]),\n",
       " array([ True, False, False, False]),\n",
       " array([ True, False, False, False]),\n",
       " array([ True, False, False, False]),\n",
       " array([ True, False, False, False]),\n",
       " array([ True, False, False, False]),\n",
       " array([ True, False, False, False]),\n",
       " array([ True, False, False, False]),\n",
       " array([ True, False, False, False]),\n",
       " array([ True, False, False, False]),\n",
       " array([ True, False, False, False]),\n",
       " array([ True, False, False, False]),\n",
       " array([ True, False, False, False]),\n",
       " array([ True, False, False, False]),\n",
       " array([ True, False, False, False]),\n",
       " array([ True, False, False, False]),\n",
       " array([ True, False, False, False]),\n",
       " array([ True, False, False, False]),\n",
       " array([ True, False, False, False]),\n",
       " array([ True, False, False, False]),\n",
       " array([ True, False, False, False]),\n",
       " array([ True, False, False, False]),\n",
       " array([ True, False, False, False]),\n",
       " array([ True, False, False, False]),\n",
       " array([ True, False, False, False]),\n",
       " array([ True, False, False, False]),\n",
       " array([ True, False, False, False]),\n",
       " array([ True, False, False, False]),\n",
       " array([ True, False, False, False]),\n",
       " array([ True, False, False, False]),\n",
       " array([ True, False, False, False]),\n",
       " array([ True, False, False, False]),\n",
       " array([ True, False, False, False]),\n",
       " array([ True, False, False, False]),\n",
       " array([ True, False, False, False]),\n",
       " array([ True, False, False, False]),\n",
       " array([ True, False, False, False]),\n",
       " array([ True, False, False, False]),\n",
       " array([ True, False, False, False]),\n",
       " array([ True, False, False, False]),\n",
       " array([ True, False, False, False]),\n",
       " array([ True, False, False, False]),\n",
       " array([ True, False, False, False]),\n",
       " array([ True, False, False, False]),\n",
       " array([ True, False, False, False]),\n",
       " array([ True, False, False, False]),\n",
       " array([ True, False, False, False]),\n",
       " array([ True, False, False, False]),\n",
       " array([ True, False, False, False]),\n",
       " array([ True, False, False, False]),\n",
       " array([ True, False, False, False]),\n",
       " array([ True, False, False, False]),\n",
       " array([ True, False, False, False]),\n",
       " array([ True, False, False, False]),\n",
       " array([ True, False, False, False]),\n",
       " array([ True, False, False, False]),\n",
       " array([ True, False, False, False]),\n",
       " array([ True, False, False, False]),\n",
       " array([ True, False, False, False]),\n",
       " array([ True, False, False, False]),\n",
       " array([ True, False, False, False]),\n",
       " array([ True, False, False, False]),\n",
       " array([ True, False, False, False]),\n",
       " array([ True, False, False, False]),\n",
       " array([ True, False, False, False]),\n",
       " array([ True, False, False, False]),\n",
       " array([ True, False, False, False]),\n",
       " array([ True, False, False, False]),\n",
       " array([ True, False, False, False]),\n",
       " array([False,  True, False, False]),\n",
       " array([False,  True, False, False]),\n",
       " array([False,  True, False, False]),\n",
       " array([False,  True, False, False]),\n",
       " array([False,  True, False, False]),\n",
       " array([False,  True, False, False]),\n",
       " array([False,  True, False, False]),\n",
       " array([False,  True, False, False]),\n",
       " array([False,  True, False, False]),\n",
       " array([False,  True, False, False]),\n",
       " array([False,  True, False, False]),\n",
       " array([False,  True, False, False]),\n",
       " array([False,  True, False, False]),\n",
       " array([False,  True, False, False]),\n",
       " array([False,  True, False, False]),\n",
       " array([False,  True, False, False]),\n",
       " array([False,  True, False, False]),\n",
       " array([False,  True, False, False]),\n",
       " array([False,  True, False, False]),\n",
       " array([False,  True, False, False]),\n",
       " array([False,  True, False, False]),\n",
       " array([False,  True, False, False]),\n",
       " array([False,  True, False, False]),\n",
       " array([False,  True, False, False]),\n",
       " array([False,  True, False, False]),\n",
       " array([False,  True, False, False]),\n",
       " array([False,  True, False, False]),\n",
       " array([False,  True, False, False]),\n",
       " array([False,  True, False, False]),\n",
       " array([False,  True, False, False]),\n",
       " array([False,  True, False, False]),\n",
       " array([False,  True, False, False]),\n",
       " array([False,  True, False, False]),\n",
       " array([False,  True, False, False]),\n",
       " array([False,  True, False, False]),\n",
       " array([False,  True, False, False]),\n",
       " array([False,  True, False, False]),\n",
       " array([False,  True, False, False]),\n",
       " array([False,  True, False, False]),\n",
       " array([False,  True, False, False]),\n",
       " array([False,  True, False, False]),\n",
       " array([False,  True, False, False]),\n",
       " array([False,  True, False, False]),\n",
       " array([False,  True, False, False]),\n",
       " array([False,  True, False, False]),\n",
       " array([False,  True, False, False]),\n",
       " array([False,  True, False, False]),\n",
       " array([False,  True, False, False]),\n",
       " array([False,  True, False, False]),\n",
       " array([False,  True, False, False]),\n",
       " array([False,  True, False, False]),\n",
       " array([False,  True, False, False]),\n",
       " array([False,  True, False, False]),\n",
       " array([False,  True, False, False]),\n",
       " array([False,  True, False, False]),\n",
       " array([False,  True, False, False]),\n",
       " array([False,  True, False, False]),\n",
       " array([False,  True, False, False]),\n",
       " array([False,  True, False, False]),\n",
       " array([False,  True, False, False]),\n",
       " array([False,  True, False, False]),\n",
       " array([False,  True, False, False]),\n",
       " array([False,  True, False, False]),\n",
       " array([False,  True, False, False]),\n",
       " array([False,  True, False, False]),\n",
       " array([False,  True, False, False]),\n",
       " array([False,  True, False, False]),\n",
       " array([False,  True, False, False]),\n",
       " array([False,  True, False, False]),\n",
       " array([False,  True, False, False]),\n",
       " array([False,  True, False, False]),\n",
       " array([False,  True, False, False]),\n",
       " array([False,  True, False, False]),\n",
       " array([False,  True, False, False]),\n",
       " array([False,  True, False, False]),\n",
       " array([False,  True, False, False]),\n",
       " array([False,  True, False, False]),\n",
       " array([False,  True, False, False]),\n",
       " array([False,  True, False, False]),\n",
       " array([False,  True, False, False]),\n",
       " array([False,  True, False, False]),\n",
       " array([False,  True, False, False]),\n",
       " array([False,  True, False, False]),\n",
       " array([False,  True, False, False]),\n",
       " array([False,  True, False, False]),\n",
       " array([False,  True, False, False]),\n",
       " array([False,  True, False, False]),\n",
       " array([False,  True, False, False]),\n",
       " array([False,  True, False, False]),\n",
       " array([False,  True, False, False]),\n",
       " array([False,  True, False, False]),\n",
       " array([False,  True, False, False]),\n",
       " array([False,  True, False, False]),\n",
       " array([False,  True, False, False]),\n",
       " array([False,  True, False, False]),\n",
       " array([False,  True, False, False]),\n",
       " array([False,  True, False, False]),\n",
       " array([False,  True, False, False]),\n",
       " array([False,  True, False, False]),\n",
       " array([False, False,  True, False]),\n",
       " array([False, False,  True, False]),\n",
       " array([False, False,  True, False]),\n",
       " array([False, False,  True, False]),\n",
       " array([False, False,  True, False]),\n",
       " array([False, False,  True, False]),\n",
       " array([False, False,  True, False]),\n",
       " array([False, False,  True, False]),\n",
       " array([False, False,  True, False]),\n",
       " array([False, False,  True, False]),\n",
       " array([False, False,  True, False]),\n",
       " array([False, False,  True, False]),\n",
       " array([False, False,  True, False]),\n",
       " array([False, False,  True, False]),\n",
       " array([False, False,  True, False]),\n",
       " array([False, False,  True, False]),\n",
       " array([False, False,  True, False]),\n",
       " array([False, False,  True, False]),\n",
       " array([False, False,  True, False]),\n",
       " array([False, False,  True, False]),\n",
       " array([False, False,  True, False]),\n",
       " array([False, False,  True, False]),\n",
       " array([False, False,  True, False]),\n",
       " array([False, False,  True, False]),\n",
       " array([False, False,  True, False]),\n",
       " array([False, False,  True, False]),\n",
       " array([False, False,  True, False]),\n",
       " array([False, False,  True, False]),\n",
       " array([False, False,  True, False]),\n",
       " array([False, False,  True, False]),\n",
       " array([False, False,  True, False]),\n",
       " array([False, False,  True, False]),\n",
       " array([False, False,  True, False]),\n",
       " array([False, False,  True, False]),\n",
       " array([False, False,  True, False]),\n",
       " array([False, False,  True, False]),\n",
       " array([False, False,  True, False]),\n",
       " array([False, False,  True, False]),\n",
       " array([False, False,  True, False]),\n",
       " array([False, False,  True, False]),\n",
       " array([False, False,  True, False]),\n",
       " array([False, False,  True, False]),\n",
       " array([False, False,  True, False]),\n",
       " array([False, False,  True, False]),\n",
       " array([False, False,  True, False]),\n",
       " array([False, False,  True, False]),\n",
       " array([False, False,  True, False]),\n",
       " array([False, False,  True, False]),\n",
       " array([False, False,  True, False]),\n",
       " array([False, False,  True, False]),\n",
       " array([False, False,  True, False]),\n",
       " array([False, False,  True, False]),\n",
       " array([False, False,  True, False]),\n",
       " array([False, False,  True, False]),\n",
       " array([False, False,  True, False]),\n",
       " array([False, False,  True, False]),\n",
       " array([False, False,  True, False]),\n",
       " array([False, False,  True, False]),\n",
       " array([False, False,  True, False]),\n",
       " array([False, False,  True, False]),\n",
       " array([False, False,  True, False]),\n",
       " array([False, False,  True, False]),\n",
       " array([False, False,  True, False]),\n",
       " array([False, False,  True, False]),\n",
       " array([False, False,  True, False]),\n",
       " array([False, False,  True, False]),\n",
       " array([False, False,  True, False]),\n",
       " array([False, False,  True, False]),\n",
       " array([False, False,  True, False]),\n",
       " array([False, False,  True, False]),\n",
       " array([False, False,  True, False]),\n",
       " array([False, False,  True, False]),\n",
       " array([False, False,  True, False]),\n",
       " array([False, False,  True, False]),\n",
       " array([False, False,  True, False]),\n",
       " array([False, False,  True, False]),\n",
       " array([False, False,  True, False]),\n",
       " array([False, False,  True, False]),\n",
       " array([False, False,  True, False]),\n",
       " array([False, False,  True, False]),\n",
       " array([False, False,  True, False]),\n",
       " array([False, False,  True, False]),\n",
       " array([False, False,  True, False]),\n",
       " array([False, False,  True, False]),\n",
       " array([False, False,  True, False]),\n",
       " array([False, False,  True, False]),\n",
       " array([False, False,  True, False]),\n",
       " array([False, False,  True, False]),\n",
       " array([False, False,  True, False]),\n",
       " array([False, False,  True, False]),\n",
       " array([False, False,  True, False]),\n",
       " array([False, False,  True, False]),\n",
       " array([False, False,  True, False]),\n",
       " array([False, False, False,  True]),\n",
       " array([False, False, False,  True]),\n",
       " array([False, False, False,  True]),\n",
       " array([False, False, False,  True]),\n",
       " array([False, False, False,  True]),\n",
       " array([False, False, False,  True]),\n",
       " array([False, False, False,  True]),\n",
       " array([False, False, False,  True]),\n",
       " array([False, False, False,  True]),\n",
       " array([False, False, False,  True]),\n",
       " array([False, False, False,  True]),\n",
       " array([False, False, False,  True]),\n",
       " array([False, False, False,  True]),\n",
       " array([False, False, False,  True]),\n",
       " array([False, False, False,  True]),\n",
       " array([False, False, False,  True]),\n",
       " array([False, False, False,  True]),\n",
       " array([False, False, False,  True]),\n",
       " array([False, False, False,  True]),\n",
       " array([False, False, False,  True]),\n",
       " array([False, False, False,  True]),\n",
       " array([False, False, False,  True]),\n",
       " array([False, False, False,  True]),\n",
       " array([False, False, False,  True]),\n",
       " array([False, False, False,  True]),\n",
       " array([False, False, False,  True]),\n",
       " array([False, False, False,  True]),\n",
       " array([False, False, False,  True]),\n",
       " array([False, False, False,  True]),\n",
       " array([False, False, False,  True]),\n",
       " array([False, False, False,  True]),\n",
       " array([False, False, False,  True]),\n",
       " array([False, False, False,  True]),\n",
       " array([False, False, False,  True]),\n",
       " array([False, False, False,  True]),\n",
       " array([False, False, False,  True]),\n",
       " array([False, False, False,  True]),\n",
       " array([False, False, False,  True]),\n",
       " array([False, False, False,  True]),\n",
       " array([False, False, False,  True]),\n",
       " array([False, False, False,  True]),\n",
       " array([False, False, False,  True]),\n",
       " array([False, False, False,  True]),\n",
       " array([False, False, False,  True]),\n",
       " array([False, False, False,  True]),\n",
       " array([False, False, False,  True]),\n",
       " array([False, False, False,  True]),\n",
       " array([False, False, False,  True]),\n",
       " array([False, False, False,  True]),\n",
       " array([False, False, False,  True]),\n",
       " array([False, False, False,  True]),\n",
       " array([False, False, False,  True]),\n",
       " array([False, False, False,  True]),\n",
       " array([False, False, False,  True]),\n",
       " array([False, False, False,  True]),\n",
       " array([False, False, False,  True]),\n",
       " array([False, False, False,  True]),\n",
       " array([False, False, False,  True]),\n",
       " array([False, False, False,  True]),\n",
       " array([False, False, False,  True]),\n",
       " array([False, False, False,  True]),\n",
       " array([False, False, False,  True]),\n",
       " array([False, False, False,  True]),\n",
       " array([False, False, False,  True]),\n",
       " array([False, False, False,  True]),\n",
       " array([False, False, False,  True]),\n",
       " array([False, False, False,  True]),\n",
       " array([False, False, False,  True]),\n",
       " array([False, False, False,  True]),\n",
       " array([False, False, False,  True]),\n",
       " array([False, False, False,  True]),\n",
       " array([False, False, False,  True]),\n",
       " array([False, False, False,  True]),\n",
       " array([False, False, False,  True]),\n",
       " array([False, False, False,  True]),\n",
       " array([False, False, False,  True]),\n",
       " array([False, False, False,  True]),\n",
       " array([False, False, False,  True]),\n",
       " array([False, False, False,  True]),\n",
       " array([False, False, False,  True]),\n",
       " array([False, False, False,  True]),\n",
       " array([False, False, False,  True]),\n",
       " array([False, False, False,  True]),\n",
       " array([False, False, False,  True]),\n",
       " array([False, False, False,  True]),\n",
       " array([False, False, False,  True]),\n",
       " array([False, False, False,  True]),\n",
       " array([False, False, False,  True]),\n",
       " array([False, False, False,  True]),\n",
       " array([False, False, False,  True]),\n",
       " array([False, False, False,  True]),\n",
       " array([False, False, False,  True]),\n",
       " array([False, False, False,  True]),\n",
       " array([False, False, False,  True]),\n",
       " array([False, False, False,  True])]"
      ]
     },
     "execution_count": 9,
     "metadata": {},
     "output_type": "execute_result"
    }
   ],
   "source": [
    "# Turn every label into a boolean array\n",
    "boolean_labels = [label == np.array(unique_devices) for label in labels]\n",
    "boolean_labels"
   ]
  },
  {
   "cell_type": "code",
   "execution_count": 10,
   "metadata": {},
   "outputs": [],
   "source": [
    "# Setup X & y variables\n",
    "X = files\n",
    "y = boolean_labels"
   ]
  },
  {
   "cell_type": "code",
   "execution_count": 11,
   "metadata": {},
   "outputs": [
    {
     "data": {
      "text/plain": [
       "(303, 303, 76, 76)"
      ]
     },
     "execution_count": 11,
     "metadata": {},
     "output_type": "execute_result"
    }
   ],
   "source": [
    "# Import train_test_split from Scikit-Learn\n",
    "from sklearn.model_selection import train_test_split\n",
    "\n",
    "# Split them into training and validation using NUM_IMAGES \n",
    "X_train, X_val, y_train, y_val = train_test_split(X,\n",
    "                                                  y, \n",
    "                                                  test_size=0.2,\n",
    "                                                  random_state=42)\n",
    "\n",
    "len(X_train), len(y_train), len(X_val), len(y_val)"
   ]
  },
  {
   "cell_type": "code",
   "execution_count": 12,
   "metadata": {},
   "outputs": [
    {
     "data": {
      "text/plain": [
       "(array([[[ 2.30540e+02,  2.30500e+02,  2.30490e+02,  2.30390e+02,\n",
       "           2.30180e+02,  2.30490e+02,  2.29980e+02,  2.29630e+02,\n",
       "           2.29910e+02,  2.30000e+02,  2.30030e+02,  2.30430e+02,\n",
       "           2.30070e+02,  2.30560e+02,  2.30310e+02,  2.29880e+02,\n",
       "           2.31380e+02,  2.31080e+02,  2.31390e+02,  2.31290e+02,\n",
       "           2.31460e+02,  2.31480e+02,  2.31430e+02,  2.31250e+02,\n",
       "           2.30760e+02,  2.31390e+02,  2.31470e+02,  2.31500e+02,\n",
       "           2.31490e+02,  2.31000e+02,  2.30780e+02,  2.31010e+02,\n",
       "           2.31090e+02,  2.30960e+02,  2.31520e+02,  2.31090e+02,\n",
       "           2.31500e+02,  2.31500e+02,  2.31540e+02,  2.30900e+02,\n",
       "           2.31540e+02,  2.31610e+02,  2.31320e+02,  2.31090e+02,\n",
       "           2.31160e+02,  2.31470e+02,  2.31490e+02,  2.31340e+02,\n",
       "           2.31550e+02,  2.31550e+02,  2.31530e+02,  2.30390e+02,\n",
       "           2.31100e+02,  2.31270e+02,  2.31260e+02,  2.31270e+02,\n",
       "           2.31290e+02,  2.31380e+02,  2.31730e+02,  2.31460e+02]],\n",
       " \n",
       "        [[ 1.02200e+01,  1.02300e+01,  1.02300e+01,  1.02100e+01,\n",
       "           1.01900e+01,  1.02400e+01,  1.02300e+01,  1.02300e+01,\n",
       "           1.02300e+01,  1.02300e+01,  1.02400e+01,  1.02300e+01,\n",
       "           1.02100e+01,  1.02300e+01,  1.02200e+01,  1.01900e+01,\n",
       "           1.02100e+01,  1.02000e+01,  1.02200e+01,  1.02100e+01,\n",
       "           1.02000e+01,  1.01900e+01,  1.01700e+01,  1.01300e+01,\n",
       "           1.01500e+01,  1.01400e+01,  1.01400e+01,  1.01400e+01,\n",
       "           1.01300e+01,  1.01400e+01,  1.01400e+01,  1.01500e+01,\n",
       "           1.01500e+01,  1.01300e+01,  1.01400e+01,  1.01300e+01,\n",
       "           1.01400e+01,  1.01400e+01,  1.01300e+01,  1.01200e+01,\n",
       "           1.01300e+01,  1.01300e+01,  1.01200e+01,  1.01100e+01,\n",
       "           1.01100e+01,  1.01200e+01,  1.01200e+01,  1.01200e+01,\n",
       "           1.01100e+01,  1.01100e+01,  1.01100e+01,  1.01000e+01,\n",
       "           1.01100e+01,  1.00500e+01,  1.00300e+01,  1.00400e+01,\n",
       "           9.98000e+00,  1.00100e+01,  1.00100e+01,  1.00100e+01]],\n",
       " \n",
       "        [[-1.56000e+02, -1.56000e+02, -1.56000e+02, -1.53000e+02,\n",
       "          -1.44000e+02, -1.55000e+02, -1.49000e+02, -1.44000e+02,\n",
       "          -1.46000e+02, -1.48000e+02, -1.51000e+02, -1.55000e+02,\n",
       "          -1.50000e+02, -1.57000e+02, -1.57000e+02, -1.48000e+02,\n",
       "          -1.70000e+02, -1.67000e+02, -1.75000e+02, -1.76000e+02,\n",
       "          -1.78000e+02, -1.81000e+02, -1.81000e+02, -1.78000e+02,\n",
       "          -1.82000e+02, -1.88000e+02, -1.90000e+02, -1.93000e+02,\n",
       "          -1.91000e+02, -1.87000e+02, -1.84000e+02, -1.86000e+02,\n",
       "          -1.86000e+02, -1.87000e+02, -1.94000e+02, -1.89000e+02,\n",
       "          -1.94000e+02, -1.95000e+02, -1.96000e+02, -1.90000e+02,\n",
       "          -1.94000e+02, -1.93000e+02, -1.91000e+02, -1.91000e+02,\n",
       "          -1.91000e+02, -1.93000e+02, -1.97000e+02, -1.94000e+02,\n",
       "          -1.94000e+02, -1.94000e+02, -1.94000e+02, -1.86000e+02,\n",
       "          -1.92000e+02, -1.82000e+02, -1.80000e+02, -1.80000e+02,\n",
       "          -1.74000e+02, -1.84000e+02, -1.89000e+02, -1.88000e+02]],\n",
       " \n",
       "        [[-7.00000e-02, -7.00000e-02, -7.00000e-02, -6.00000e-02,\n",
       "          -6.00000e-02, -6.00000e-02, -6.00000e-02, -6.00000e-02,\n",
       "          -6.00000e-02, -6.00000e-02, -6.00000e-02, -6.00000e-02,\n",
       "          -6.00000e-02, -7.00000e-02, -7.00000e-02, -6.00000e-02,\n",
       "          -7.00000e-02, -7.00000e-02, -7.00000e-02, -7.00000e-02,\n",
       "          -7.00000e-02, -8.00000e-02, -8.00000e-02, -8.00000e-02,\n",
       "          -8.00000e-02, -8.00000e-02, -8.00000e-02, -8.00000e-02,\n",
       "          -8.00000e-02, -8.00000e-02, -8.00000e-02, -8.00000e-02,\n",
       "          -8.00000e-02, -8.00000e-02, -8.00000e-02, -8.00000e-02,\n",
       "          -8.00000e-02, -8.00000e-02, -8.00000e-02, -8.00000e-02,\n",
       "          -8.00000e-02, -8.00000e-02, -8.00000e-02, -8.00000e-02,\n",
       "          -8.00000e-02, -8.00000e-02, -8.00000e-02, -8.00000e-02,\n",
       "          -8.00000e-02, -8.00000e-02, -8.00000e-02, -8.00000e-02,\n",
       "          -8.00000e-02, -8.00000e-02, -8.00000e-02, -8.00000e-02,\n",
       "          -8.00000e-02, -8.00000e-02, -8.00000e-02, -8.00000e-02]],\n",
       " \n",
       "        [[ 2.36364e+03,  2.36364e+03,  2.36364e+03,  2.39063e+03,\n",
       "           2.36066e+03,  2.38462e+03,  2.36508e+03,  2.36066e+03,\n",
       "           2.39344e+03,  2.38710e+03,  2.35938e+03,  2.38462e+03,\n",
       "           2.38095e+03,  2.37879e+03,  2.37879e+03,  2.34921e+03,\n",
       "           2.39437e+03,  2.38571e+03,  2.39726e+03,  2.37838e+03,\n",
       "           2.40541e+03,  2.38158e+03,  2.38158e+03,  2.37333e+03,\n",
       "           2.36364e+03,  2.37975e+03,  2.37500e+03,  2.38272e+03,\n",
       "           2.35802e+03,  2.36709e+03,  2.35897e+03,  2.35443e+03,\n",
       "           2.35443e+03,  2.36709e+03,  2.36585e+03,  2.36250e+03,\n",
       "           2.36585e+03,  2.37805e+03,  2.36145e+03,  2.37500e+03,\n",
       "           2.36585e+03,  2.35366e+03,  2.35802e+03,  2.35802e+03,\n",
       "           2.35802e+03,  2.35366e+03,  2.37349e+03,  2.36585e+03,\n",
       "           2.36585e+03,  2.36585e+03,  2.36585e+03,  2.35443e+03,\n",
       "           2.37037e+03,  2.33333e+03,  2.33766e+03,  2.33766e+03,\n",
       "           2.32000e+03,  2.32911e+03,  2.33333e+03,  2.35000e+03]],\n",
       " \n",
       "        [[ 2.35848e+03,  2.35848e+03,  2.35848e+03,  2.38572e+03,\n",
       "           2.35626e+03,  2.37957e+03,  2.36038e+03,  2.35626e+03,\n",
       "           2.38899e+03,  2.38250e+03,  2.35454e+03,  2.37957e+03,\n",
       "           2.37622e+03,  2.37360e+03,  2.37360e+03,  2.34454e+03,\n",
       "           2.38832e+03,  2.37986e+03,  2.39086e+03,  2.37186e+03,\n",
       "           2.39881e+03,  2.37469e+03,  2.37469e+03,  2.36665e+03,\n",
       "           2.35662e+03,  2.37231e+03,  2.36739e+03,  2.37489e+03,\n",
       "           2.35028e+03,  2.35969e+03,  2.35179e+03,  2.34707e+03,\n",
       "           2.34707e+03,  2.35969e+03,  2.35789e+03,  2.35493e+03,\n",
       "           2.35789e+03,  2.37004e+03,  2.35330e+03,  2.36739e+03,\n",
       "           2.35789e+03,  2.34573e+03,  2.35028e+03,  2.35028e+03,\n",
       "           2.35028e+03,  2.34573e+03,  2.36530e+03,  2.35789e+03,\n",
       "           2.35789e+03,  2.35789e+03,  2.35789e+03,  2.34707e+03,\n",
       "           2.36258e+03,  2.32622e+03,  2.33072e+03,  2.33072e+03,\n",
       "           2.31347e+03,  2.32183e+03,  2.32567e+03,  2.34247e+03]],\n",
       " \n",
       "        [[ 4.99000e+01,  4.99000e+01,  4.99000e+01,  4.99000e+01,\n",
       "           4.99000e+01,  4.99000e+01,  4.99000e+01,  4.99000e+01,\n",
       "           4.99000e+01,  4.99000e+01,  4.99000e+01,  4.99000e+01,\n",
       "           4.99000e+01,  4.99000e+01,  4.99000e+01,  4.99000e+01,\n",
       "           4.99000e+01,  4.99000e+01,  4.99000e+01,  4.99000e+01,\n",
       "           4.99000e+01,  4.99000e+01,  4.99000e+01,  4.99000e+01,\n",
       "           4.99000e+01,  4.99000e+01,  4.99000e+01,  4.99000e+01,\n",
       "           4.99000e+01,  4.99000e+01,  4.99000e+01,  4.99000e+01,\n",
       "           4.99000e+01,  4.99000e+01,  4.99000e+01,  4.99000e+01,\n",
       "           4.99000e+01,  4.99000e+01,  4.99000e+01,  4.99000e+01,\n",
       "           4.99000e+01,  4.99000e+01,  4.99000e+01,  4.99000e+01,\n",
       "           4.99000e+01,  4.99000e+01,  4.99000e+01,  4.99000e+01,\n",
       "           4.99000e+01,  4.99000e+01,  4.99000e+01,  4.99000e+01,\n",
       "           4.99000e+01,  4.99000e+01,  4.99000e+01,  4.99000e+01,\n",
       "           4.99000e+01,  4.99000e+01,  4.99000e+01,  4.99000e+01]]]),\n",
       " array([False,  True, False, False]))"
      ]
     },
     "execution_count": 12,
     "metadata": {},
     "output_type": "execute_result"
    }
   ],
   "source": [
    "# Check out the training data ( file  and labels)\n",
    "X_train[0], y_train[0]"
   ]
  },
  {
   "cell_type": "code",
   "execution_count": 13,
   "metadata": {},
   "outputs": [],
   "source": [
    "# Define the batch size, 32 is a good default\n",
    "BATCH_SIZE = 32\n",
    "\n",
    "# Create a function to turn data into batches\n",
    "def create_data_batches(x, y=None, batch_size=BATCH_SIZE, valid_data=False, test_data=False):\n",
    "    \"\"\"\n",
    "      Creates batches of data out of  (x) and label (y) pairs.\n",
    "      Shuffles the data if it's training data but doesn't shuffle it if it's validation data.\n",
    "      Also accepts test data as input (no labels).\n",
    "    \"\"\"\n",
    "  # If the data is a test dataset, we probably don't have labels\n",
    "    if test_data:\n",
    "        print(\"Creating test data batches...\")\n",
    "        data = tf.data.Dataset.from_tensor_slices((tf.constant(x))) # only files\n",
    "        data_batch = data.batch(BATCH_SIZE)\n",
    "        return data_batch\n",
    "  \n",
    "  # If the data if a valid dataset, we don't need to shuffle it\n",
    "    elif valid_data:\n",
    "        print(\"Creating validation data batches...\")\n",
    "        data = tf.data.Dataset.from_tensor_slices((tf.constant(x), # filepaths\n",
    "                                                   tf.constant(y))) # labels\n",
    "        data_batch = data.batch(BATCH_SIZE)\n",
    "        return data_batch\n",
    "\n",
    "    else:\n",
    "        # If the data is a training dataset, we shuffle it\n",
    "        print(\"Creating training data batches...\")\n",
    "        # Turn filepaths and labels into Tensors\n",
    "        data = tf.data.Dataset.from_tensor_slices((tf.constant(x), # filepaths\n",
    "                                                  tf.constant(y))) # labels\n",
    "    \n",
    "        # Shuffling pathnames and labels before mapping image processor function is faster than shuffling images\n",
    "        data = data.shuffle(buffer_size=len(x))\n",
    "\n",
    "        \n",
    "        # Turn the data into batches\n",
    "        data_batch = data.batch(BATCH_SIZE)\n",
    "    return data_batch"
   ]
  },
  {
   "cell_type": "code",
   "execution_count": 14,
   "metadata": {},
   "outputs": [
    {
     "name": "stdout",
     "output_type": "stream",
     "text": [
      "Creating training data batches...\n",
      "Creating validation data batches...\n"
     ]
    }
   ],
   "source": [
    "# Create training and validation data batches\n",
    "train_data = create_data_batches(X_train, y_train)\n",
    "val_data = create_data_batches(X_val, y_val, valid_data=True)"
   ]
  },
  {
   "cell_type": "code",
   "execution_count": 15,
   "metadata": {},
   "outputs": [
    {
     "data": {
      "text/plain": [
       "((TensorSpec(shape=(None, 7, 1, 60), dtype=tf.float64, name=None),\n",
       "  TensorSpec(shape=(None, 4), dtype=tf.bool, name=None)),\n",
       " (TensorSpec(shape=(None, 7, 1, 60), dtype=tf.float64, name=None),\n",
       "  TensorSpec(shape=(None, 4), dtype=tf.bool, name=None)))"
      ]
     },
     "execution_count": 15,
     "metadata": {},
     "output_type": "execute_result"
    }
   ],
   "source": [
    "# Check out the different attributes of our data batches\n",
    "train_data.element_spec, val_data.element_spec"
   ]
  },
  {
   "cell_type": "code",
   "execution_count": 16,
   "metadata": {},
   "outputs": [],
   "source": [
    "# Setup input shape to the model\n",
    "INPUT_SHAPE = [None, 7, 1, 60] # batch, rows, columns, features\n",
    "\n",
    "# Setup output shape of the model\n",
    "OUTPUT_SHAPE = len(unique_devices) # number of unique labels\n",
    "\n"
   ]
  },
  {
   "cell_type": "code",
   "execution_count": 17,
   "metadata": {},
   "outputs": [],
   "source": [
    "from sklearn.model_selection import RepeatedKFold\n",
    "from tensorflow.keras.models import Sequential\n",
    "from sklearn.metrics import accuracy_score"
   ]
  },
  {
   "cell_type": "code",
   "execution_count": 78,
   "metadata": {},
   "outputs": [],
   "source": [
    "# Create a function which builds a Keras model\n",
    "def create_model(input_shape=INPUT_SHAPE, output_shape=OUTPUT_SHAPE):\n",
    "    print(\"Building model \")\n",
    "    \n",
    "    np.random.seed(42)\n",
    "  # Setup the model layers\n",
    "    model = tf.keras.models.Sequential()\n",
    "    model.add(tf.keras.layers.Dense(60, activation=\"relu\", input_shape=(7,1,60), kernel_initializer='he_uniform'))\n",
    "#     model.add(layers.Dense(4, activation='sigmoid'))\n",
    "    model.add(tf.keras.layers.Flatten()) \n",
    "    model.add(tf.keras.layers.Dense(64))\n",
    "    model.add(tf.keras.layers.Dropout(0.5))\n",
    "    model.add(tf.keras.layers.Dense(4, activation='sigmoid'))\n",
    "\n",
    "  # Compile the model\n",
    "    model.compile(loss='binary_crossentropy', optimizer='adam',metrics=[\"accuracy\"])\n",
    "    \n",
    "    model.build(INPUT_SHAPE) # Let the model know what kind of inputs it'll be getting\n",
    "\n",
    "    return model"
   ]
  },
  {
   "cell_type": "code",
   "execution_count": 79,
   "metadata": {},
   "outputs": [
    {
     "name": "stdout",
     "output_type": "stream",
     "text": [
      "Building model \n",
      "Model: \"sequential_4\"\n",
      "_________________________________________________________________\n",
      "Layer (type)                 Output Shape              Param #   \n",
      "=================================================================\n",
      "dense_12 (Dense)             (None, 7, 1, 60)          3660      \n",
      "_________________________________________________________________\n",
      "flatten_4 (Flatten)          (None, 420)               0         \n",
      "_________________________________________________________________\n",
      "dense_13 (Dense)             (None, 64)                26944     \n",
      "_________________________________________________________________\n",
      "dropout_4 (Dropout)          (None, 64)                0         \n",
      "_________________________________________________________________\n",
      "dense_14 (Dense)             (None, 4)                 260       \n",
      "=================================================================\n",
      "Total params: 30,864\n",
      "Trainable params: 30,864\n",
      "Non-trainable params: 0\n",
      "_________________________________________________________________\n"
     ]
    }
   ],
   "source": [
    "# Create a model and check its details\n",
    "model = create_model()\n",
    "model.summary()"
   ]
  },
  {
   "cell_type": "code",
   "execution_count": 80,
   "metadata": {},
   "outputs": [
    {
     "name": "stdout",
     "output_type": "stream",
     "text": [
      "The tensorboard extension is already loaded. To reload it, use:\n",
      "  %reload_ext tensorboard\n"
     ]
    }
   ],
   "source": [
    "# Load the TensorBoard notebook extension\n",
    "%load_ext tensorboard"
   ]
  },
  {
   "cell_type": "code",
   "execution_count": 81,
   "metadata": {},
   "outputs": [],
   "source": [
    "import os"
   ]
  },
  {
   "cell_type": "code",
   "execution_count": 82,
   "metadata": {},
   "outputs": [],
   "source": [
    "import datetime\n",
    "\n",
    "# Create a function to build a TensorBoard callback\n",
    "def create_tensorboard_callback():\n",
    "    # Create a log directory for storing TensorBoard logs\n",
    "    logdir = os.path.join(\".\\logs\",\n",
    "                        # Make it so the logs get tracked whenever we run an experiment\n",
    "                        datetime.datetime.now().strftime(\"%Y%m%d-%H%M%S\"))\n",
    "    return tf.keras.callbacks.TensorBoard(logdir)"
   ]
  },
  {
   "cell_type": "code",
   "execution_count": 83,
   "metadata": {},
   "outputs": [],
   "source": [
    "# Create early stopping (once our model stops improving, stop training)\n",
    "early_stopping = tf.keras.callbacks.EarlyStopping(monitor=\"val_accuracy\",\n",
    "                                                  patience=5) # stops after 3 rounds of no improvements"
   ]
  },
  {
   "cell_type": "code",
   "execution_count": null,
   "metadata": {},
   "outputs": [],
   "source": [
    "%tensorboard --logdir \\logs"
   ]
  },
  {
   "cell_type": "code",
   "execution_count": 84,
   "metadata": {},
   "outputs": [],
   "source": [
    "# How many rounds should we get the model to look through the data?\n",
    "NUM_EPOCHS = 100"
   ]
  },
  {
   "cell_type": "code",
   "execution_count": 85,
   "metadata": {},
   "outputs": [],
   "source": [
    "# Build a function to train and return a trained model\n",
    "def train_model():\n",
    "    \"\"\"\n",
    "  Trains a given model and returns the trained version.\n",
    "    \"\"\"\n",
    "  # Create a model\n",
    "    model = create_model()\n",
    "\n",
    "  # Create new TensorBoard session everytime we train a model\n",
    "    tensorboard = create_tensorboard_callback()\n",
    "\n",
    "  # Fit the model to the data passing it the callbacks we created\n",
    "    model.fit(x=train_data,\n",
    "            epochs=NUM_EPOCHS,\n",
    "            validation_data=val_data,\n",
    "            validation_freq=1, # check validation metrics every epoch\n",
    "            callbacks=[tensorboard, early_stopping])\n",
    "  \n",
    "    return model"
   ]
  },
  {
   "cell_type": "code",
   "execution_count": 86,
   "metadata": {},
   "outputs": [
    {
     "name": "stdout",
     "output_type": "stream",
     "text": [
      "Building model \n",
      "Epoch 1/100\n",
      " 2/10 [=====>........................] - ETA: 7s - loss: 171.3100 - accuracy: 0.3594WARNING:tensorflow:Callbacks method `on_train_batch_begin` is slow compared to the batch time (batch time: 0.0030s vs `on_train_batch_begin` time: 0.0200s). Check your callbacks.\n",
      "WARNING:tensorflow:Callbacks method `on_train_batch_end` is slow compared to the batch time (batch time: 0.0030s vs `on_train_batch_end` time: 1.8630s). Check your callbacks.\n",
      "10/10 [==============================] - 2s 232ms/step - loss: 87.5607 - accuracy: 0.4323 - val_loss: 29.4910 - val_accuracy: 0.6842\n",
      "Epoch 2/100\n",
      "10/10 [==============================] - 0s 19ms/step - loss: 32.2673 - accuracy: 0.5710 - val_loss: 6.6128 - val_accuracy: 0.9737\n",
      "Epoch 3/100\n",
      "10/10 [==============================] - 0s 12ms/step - loss: 20.1777 - accuracy: 0.7063 - val_loss: 3.7050 - val_accuracy: 0.9737\n",
      "Epoch 4/100\n",
      "10/10 [==============================] - 0s 11ms/step - loss: 13.2438 - accuracy: 0.7558 - val_loss: 1.4224 - val_accuracy: 0.9737\n",
      "Epoch 5/100\n",
      "10/10 [==============================] - 0s 13ms/step - loss: 9.2392 - accuracy: 0.8086 - val_loss: 1.0716 - val_accuracy: 0.9737\n",
      "Epoch 6/100\n",
      "10/10 [==============================] - 0s 9ms/step - loss: 8.3042 - accuracy: 0.8779 - val_loss: 1.1603 - val_accuracy: 0.9737\n",
      "Epoch 7/100\n",
      "10/10 [==============================] - 0s 9ms/step - loss: 4.8203 - accuracy: 0.8647 - val_loss: 1.4763 - val_accuracy: 0.9737\n"
     ]
    }
   ],
   "source": [
    "model = train_model()"
   ]
  },
  {
   "cell_type": "code",
   "execution_count": 87,
   "metadata": {},
   "outputs": [
    {
     "name": "stdout",
     "output_type": "stream",
     "text": [
      "3/3 [==============================] - 0s 1ms/step\n"
     ]
    }
   ],
   "source": [
    "# Make predictions on the validation data (not used to train on)\n",
    "predictions = model.predict(val_data, verbose=1) # verbose shows us how long there is to go"
   ]
  },
  {
   "cell_type": "code",
   "execution_count": 88,
   "metadata": {},
   "outputs": [
    {
     "name": "stdout",
     "output_type": "stream",
     "text": [
      "[7.1603836e-29 0.0000000e+00 9.7713852e-01 1.0000000e+00]\n",
      "Max value (probability of prediction): 1.0\n",
      "Sum: 1.9771385192871094\n",
      "Max index: 3\n",
      "Predicted label: wallfan\n"
     ]
    }
   ],
   "source": [
    "# First prediction\n",
    "print(predictions[0])\n",
    "print(f\"Max value (probability of prediction): {np.max(predictions[0])}\") # the max probability value predicted by the model\n",
    "print(f\"Sum: {np.sum(predictions[0])}\") # because we used softmax activation in our model, this will be close to 1\n",
    "print(f\"Max index: {np.argmax(predictions[0])}\") # the index of where the max value in predictions[0] occurs\n",
    "print(f\"Predicted label: {unique_devices[np.argmax(predictions[0])]}\") # the predicted label"
   ]
  },
  {
   "cell_type": "code",
   "execution_count": 89,
   "metadata": {},
   "outputs": [
    {
     "data": {
      "text/plain": [
       "'wallfan'"
      ]
     },
     "execution_count": 89,
     "metadata": {},
     "output_type": "execute_result"
    }
   ],
   "source": [
    "# Turn prediction probabilities into their respective label (easier to understand)\n",
    "def get_pred_label(prediction_probabilities):\n",
    "  \"\"\"\n",
    "  Turns an array of prediction probabilities into a label.\n",
    "  \"\"\"\n",
    "  return unique_devices[np.argmax(prediction_probabilities)]\n",
    "\n",
    "# Get a predicted label based on an array of prediction probabilities\n",
    "pred_label = get_pred_label(predictions[0])\n",
    "pred_label"
   ]
  },
  {
   "cell_type": "code",
   "execution_count": 90,
   "metadata": {},
   "outputs": [
    {
     "data": {
      "text/plain": [
       "(array([[[2.9645e+02, 2.9578e+02, 2.9641e+02, 2.9578e+02, 2.9653e+02,\n",
       "          2.9589e+02, 2.9641e+02, 2.9608e+02, 2.9534e+02, 2.9625e+02,\n",
       "          2.9505e+02, 2.9659e+02, 2.9624e+02, 2.9671e+02, 2.9681e+02,\n",
       "          2.9687e+02, 2.9707e+02, 2.9627e+02, 2.9687e+02, 2.9614e+02,\n",
       "          2.9634e+02, 2.9651e+02, 2.9590e+02, 2.9648e+02, 2.9594e+02,\n",
       "          2.9676e+02, 2.9681e+02, 2.9618e+02, 2.9642e+02, 2.9601e+02,\n",
       "          2.9682e+02, 2.9617e+02, 2.9644e+02, 2.9602e+02, 2.9545e+02,\n",
       "          2.9639e+02, 2.9589e+02, 2.9655e+02, 2.9667e+02, 2.9669e+02,\n",
       "          2.9677e+02, 2.9678e+02, 2.9682e+02, 2.9623e+02, 2.9644e+02,\n",
       "          2.9629e+02, 2.9660e+02, 2.9616e+02, 2.9620e+02, 2.9604e+02,\n",
       "          2.9771e+02, 2.9833e+02, 2.9654e+02, 2.9643e+02, 2.9643e+02,\n",
       "          2.9688e+02, 2.9684e+02, 2.9576e+02, 2.9640e+02, 2.9590e+02]],\n",
       " \n",
       "        [[2.8000e-01, 2.8000e-01, 2.8000e-01, 2.8000e-01, 2.8000e-01,\n",
       "          2.8000e-01, 2.8000e-01, 2.8000e-01, 2.8000e-01, 2.8000e-01,\n",
       "          2.8000e-01, 2.8000e-01, 2.8000e-01, 2.8000e-01, 2.8000e-01,\n",
       "          2.8000e-01, 2.8000e-01, 2.8000e-01, 2.8000e-01, 2.8000e-01,\n",
       "          2.8000e-01, 2.8000e-01, 2.8000e-01, 2.8000e-01, 2.8000e-01,\n",
       "          2.8000e-01, 2.8000e-01, 2.8000e-01, 2.8000e-01, 2.8000e-01,\n",
       "          2.8000e-01, 2.8000e-01, 2.8000e-01, 2.8000e-01, 2.8000e-01,\n",
       "          2.8000e-01, 2.8000e-01, 2.8000e-01, 2.8000e-01, 2.8000e-01,\n",
       "          2.8000e-01, 2.8000e-01, 2.8000e-01, 2.8000e-01, 2.8000e-01,\n",
       "          2.8000e-01, 2.8000e-01, 2.8000e-01, 2.8000e-01, 2.8000e-01,\n",
       "          2.8000e-01, 2.8000e-01, 2.8000e-01, 2.8000e-01, 2.8000e-01,\n",
       "          2.8000e-01, 2.8000e-01, 2.8000e-01, 2.8000e-01, 2.8000e-01]],\n",
       " \n",
       "        [[8.1000e+01, 8.1000e+01, 8.1000e+01, 8.1000e+01, 8.1000e+01,\n",
       "          8.1000e+01, 8.1000e+01, 8.1000e+01, 8.1000e+01, 8.1000e+01,\n",
       "          8.1000e+01, 8.1000e+01, 8.1000e+01, 8.1000e+01, 8.1000e+01,\n",
       "          8.1000e+01, 8.1000e+01, 8.1000e+01, 8.1000e+01, 8.1000e+01,\n",
       "          8.1000e+01, 8.1000e+01, 8.1000e+01, 8.1000e+01, 8.1000e+01,\n",
       "          8.1000e+01, 8.1000e+01, 8.1000e+01, 8.1000e+01, 8.1000e+01,\n",
       "          8.1000e+01, 8.1000e+01, 8.1000e+01, 8.1000e+01, 8.1000e+01,\n",
       "          8.1000e+01, 8.1000e+01, 8.1000e+01, 8.1000e+01, 8.1000e+01,\n",
       "          8.1000e+01, 8.1000e+01, 8.1000e+01, 8.1000e+01, 8.1000e+01,\n",
       "          8.1000e+01, 8.1000e+01, 8.1000e+01, 8.1000e+01, 8.1000e+01,\n",
       "          8.2000e+01, 8.2000e+01, 8.1000e+01, 8.1000e+01, 8.1000e+01,\n",
       "          8.1000e+01, 8.1000e+01, 8.1000e+01, 8.1000e+01, 8.1000e+01]],\n",
       " \n",
       "        [[9.9000e-01, 9.9000e-01, 9.9000e-01, 9.9000e-01, 9.9000e-01,\n",
       "          9.9000e-01, 9.9000e-01, 9.9000e-01, 9.9000e-01, 9.9000e-01,\n",
       "          9.9000e-01, 9.9000e-01, 9.9000e-01, 9.9000e-01, 9.9000e-01,\n",
       "          9.9000e-01, 9.9000e-01, 9.9000e-01, 9.9000e-01, 9.9000e-01,\n",
       "          9.9000e-01, 9.9000e-01, 9.9000e-01, 9.9000e-01, 9.9000e-01,\n",
       "          9.9000e-01, 9.9000e-01, 9.9000e-01, 9.9000e-01, 9.9000e-01,\n",
       "          9.9000e-01, 9.9000e-01, 9.9000e-01, 9.9000e-01, 9.9000e-01,\n",
       "          9.9000e-01, 9.9000e-01, 9.9000e-01, 9.9000e-01, 9.9000e-01,\n",
       "          9.9000e-01, 9.9000e-01, 9.9000e-01, 9.9000e-01, 9.9000e-01,\n",
       "          9.9000e-01, 9.9000e-01, 9.9000e-01, 9.9000e-01, 9.9000e-01,\n",
       "          9.9000e-01, 9.9000e-01, 9.9000e-01, 9.9000e-01, 9.9000e-01,\n",
       "          9.9000e-01, 9.9000e-01, 9.9000e-01, 9.9000e-01, 9.9000e-01]],\n",
       " \n",
       "        [[8.1820e+01, 8.1820e+01, 8.1740e+01, 8.1900e+01, 8.1820e+01,\n",
       "          8.1820e+01, 8.1820e+01, 8.1740e+01, 8.1820e+01, 8.1820e+01,\n",
       "          8.1740e+01, 8.1820e+01, 8.1740e+01, 8.1740e+01, 8.1740e+01,\n",
       "          8.1740e+01, 8.1740e+01, 8.1820e+01, 8.1820e+01, 8.1820e+01,\n",
       "          8.1740e+01, 8.1740e+01, 8.1740e+01, 8.1820e+01, 8.1820e+01,\n",
       "          8.1820e+01, 8.1820e+01, 8.1740e+01, 8.1820e+01, 8.1740e+01,\n",
       "          8.1820e+01, 8.1900e+01, 8.1820e+01, 8.1740e+01, 8.1650e+01,\n",
       "          8.1740e+01, 8.1740e+01, 8.1820e+01, 8.1820e+01, 8.1820e+01,\n",
       "          8.1740e+01, 8.1820e+01, 8.1820e+01, 8.1740e+01, 8.1740e+01,\n",
       "          8.1820e+01, 8.1740e+01, 8.1740e+01, 8.1740e+01, 8.1740e+01,\n",
       "          8.2830e+01, 8.2830e+01, 8.1740e+01, 8.1820e+01, 8.1740e+01,\n",
       "          8.1820e+01, 8.1740e+01, 8.1820e+01, 8.1650e+01, 8.1820e+01]],\n",
       " \n",
       "        [[1.1540e+01, 1.1540e+01, 1.0940e+01, 1.2110e+01, 1.1540e+01,\n",
       "          1.1540e+01, 1.1540e+01, 1.0940e+01, 1.1540e+01, 1.1540e+01,\n",
       "          1.0940e+01, 1.1540e+01, 1.0940e+01, 1.0940e+01, 1.0940e+01,\n",
       "          1.0940e+01, 1.0940e+01, 1.1540e+01, 1.1540e+01, 1.1540e+01,\n",
       "          1.0940e+01, 1.0940e+01, 1.0940e+01, 1.1540e+01, 1.1540e+01,\n",
       "          1.1540e+01, 1.1540e+01, 1.0940e+01, 1.1540e+01, 1.0940e+01,\n",
       "          1.1540e+01, 1.2110e+01, 1.1540e+01, 1.0940e+01, 1.0310e+01,\n",
       "          1.0940e+01, 1.0940e+01, 1.1540e+01, 1.1540e+01, 1.1540e+01,\n",
       "          1.0940e+01, 1.1540e+01, 1.1540e+01, 1.0940e+01, 1.0940e+01,\n",
       "          1.1540e+01, 1.0940e+01, 1.0940e+01, 1.0940e+01, 1.0940e+01,\n",
       "          1.1680e+01, 1.1680e+01, 1.0940e+01, 1.1540e+01, 1.0940e+01,\n",
       "          1.1540e+01, 1.0940e+01, 1.1540e+01, 1.0310e+01, 1.1540e+01]],\n",
       " \n",
       "        [[4.9900e+01, 4.9900e+01, 4.9900e+01, 4.9900e+01, 4.9900e+01,\n",
       "          4.9900e+01, 4.9900e+01, 4.9900e+01, 4.9900e+01, 4.9900e+01,\n",
       "          4.9900e+01, 4.9900e+01, 4.9900e+01, 4.9900e+01, 4.9900e+01,\n",
       "          4.9900e+01, 4.9900e+01, 4.9900e+01, 5.0000e+01, 5.0000e+01,\n",
       "          5.0000e+01, 5.0000e+01, 4.9900e+01, 5.0000e+01, 5.0000e+01,\n",
       "          4.9900e+01, 4.9900e+01, 5.0000e+01, 5.0000e+01, 5.0000e+01,\n",
       "          4.9900e+01, 4.9900e+01, 5.0000e+01, 4.9900e+01, 4.9900e+01,\n",
       "          4.9900e+01, 4.9900e+01, 4.9900e+01, 4.9900e+01, 4.9900e+01,\n",
       "          4.9900e+01, 4.9900e+01, 4.9900e+01, 4.9900e+01, 4.9900e+01,\n",
       "          4.9900e+01, 4.9900e+01, 4.9900e+01, 4.9900e+01, 4.9900e+01,\n",
       "          4.9900e+01, 4.9900e+01, 4.9900e+01, 4.9900e+01, 4.9900e+01,\n",
       "          4.9900e+01, 4.9900e+01, 4.9900e+01, 4.9900e+01, 4.9900e+01]]]),\n",
       " 'wallfan')"
      ]
     },
     "execution_count": 90,
     "metadata": {},
     "output_type": "execute_result"
    }
   ],
   "source": [
    "# Create a function to unbatch a batched dataset\n",
    "def unbatchify(data):\n",
    "    \"\"\"\n",
    "  Takes a batched dataset of (file, label) Tensors and returns separate arrays\n",
    "  of images and labels.\n",
    "    \"\"\"\n",
    "    files = []\n",
    "    labels = []\n",
    "  # Loop through unbatched data\n",
    "    for file, label in data.unbatch().as_numpy_iterator():\n",
    "        files.append(file)\n",
    "        labels.append(unique_devices[np.argmax(label)])\n",
    "    return files, labels\n",
    "\n",
    "# Unbatchify the validation data\n",
    "val_files, val_labels = unbatchify(val_data)\n",
    "val_files[0], val_labels[0]"
   ]
  },
  {
   "cell_type": "code",
   "execution_count": 91,
   "metadata": {},
   "outputs": [],
   "source": [
    "def plot_pred(prediction_probabilities, labels, files, n=1):\n",
    "    \"\"\"\n",
    "  View the prediction, ground truth label for sample n.\n",
    "    \"\"\"\n",
    "    pred_prob, true_label, file = prediction_probabilities[n], labels[n], files[n]\n",
    "  \n",
    "  # Get the pred label\n",
    "    pred_label = get_pred_label(pred_prob)\n",
    "  \n",
    "\n",
    "\n",
    "  # Change the color of the title depending on if the prediction is right or wrong\n",
    "    if pred_label == true_label:\n",
    "        val = \"True\"\n",
    "    else:\n",
    "        val = \"False\"\n",
    "\n",
    "    df = pd.DataFrame({'Predicted':pred_label,'Actual': true_label,\n",
    "                    'Assumed':val},index = [n])\n",
    "    return df"
   ]
  },
  {
   "cell_type": "code",
   "execution_count": 92,
   "metadata": {},
   "outputs": [
    {
     "data": {
      "text/html": [
       "<div>\n",
       "<style scoped>\n",
       "    .dataframe tbody tr th:only-of-type {\n",
       "        vertical-align: middle;\n",
       "    }\n",
       "\n",
       "    .dataframe tbody tr th {\n",
       "        vertical-align: top;\n",
       "    }\n",
       "\n",
       "    .dataframe thead th {\n",
       "        text-align: right;\n",
       "    }\n",
       "</style>\n",
       "<table border=\"1\" class=\"dataframe\">\n",
       "  <thead>\n",
       "    <tr style=\"text-align: right;\">\n",
       "      <th></th>\n",
       "      <th>Predicted</th>\n",
       "      <th>Actual</th>\n",
       "      <th>Assumed</th>\n",
       "    </tr>\n",
       "  </thead>\n",
       "  <tbody>\n",
       "    <tr>\n",
       "      <th>1</th>\n",
       "      <td>fridge</td>\n",
       "      <td>fridge</td>\n",
       "      <td>True</td>\n",
       "    </tr>\n",
       "  </tbody>\n",
       "</table>\n",
       "</div>"
      ],
      "text/plain": [
       "  Predicted  Actual Assumed\n",
       "1    fridge  fridge    True"
      ]
     },
     "execution_count": 92,
     "metadata": {},
     "output_type": "execute_result"
    }
   ],
   "source": [
    "# View an example prediction, original image and truth label\n",
    "plot_pred(prediction_probabilities=predictions,\n",
    "          labels=val_labels,\n",
    "          files=val_files)"
   ]
  },
  {
   "cell_type": "code",
   "execution_count": 93,
   "metadata": {},
   "outputs": [],
   "source": [
    "pred_df = pd.DataFrame()\n",
    "\n",
    "for x in range(76):\n",
    "    data_frame = plot_pred(prediction_probabilities=predictions,\n",
    "        labels=val_labels,\n",
    "        files=val_files,n=x)\n",
    "    pred_df = pred_df.append(data_frame)"
   ]
  },
  {
   "cell_type": "code",
   "execution_count": 94,
   "metadata": {},
   "outputs": [
    {
     "data": {
      "text/html": [
       "<div>\n",
       "<style scoped>\n",
       "    .dataframe tbody tr th:only-of-type {\n",
       "        vertical-align: middle;\n",
       "    }\n",
       "\n",
       "    .dataframe tbody tr th {\n",
       "        vertical-align: top;\n",
       "    }\n",
       "\n",
       "    .dataframe thead th {\n",
       "        text-align: right;\n",
       "    }\n",
       "</style>\n",
       "<table border=\"1\" class=\"dataframe\">\n",
       "  <thead>\n",
       "    <tr style=\"text-align: right;\">\n",
       "      <th></th>\n",
       "      <th>Predicted</th>\n",
       "      <th>Actual</th>\n",
       "      <th>Assumed</th>\n",
       "    </tr>\n",
       "  </thead>\n",
       "  <tbody>\n",
       "    <tr>\n",
       "      <th>0</th>\n",
       "      <td>wallfan</td>\n",
       "      <td>wallfan</td>\n",
       "      <td>True</td>\n",
       "    </tr>\n",
       "    <tr>\n",
       "      <th>1</th>\n",
       "      <td>fridge</td>\n",
       "      <td>fridge</td>\n",
       "      <td>True</td>\n",
       "    </tr>\n",
       "    <tr>\n",
       "      <th>2</th>\n",
       "      <td>wallfan</td>\n",
       "      <td>wallfan</td>\n",
       "      <td>True</td>\n",
       "    </tr>\n",
       "    <tr>\n",
       "      <th>3</th>\n",
       "      <td>ac</td>\n",
       "      <td>ac</td>\n",
       "      <td>True</td>\n",
       "    </tr>\n",
       "    <tr>\n",
       "      <th>4</th>\n",
       "      <td>3dprinter</td>\n",
       "      <td>3dprinter</td>\n",
       "      <td>True</td>\n",
       "    </tr>\n",
       "    <tr>\n",
       "      <th>5</th>\n",
       "      <td>ac</td>\n",
       "      <td>ac</td>\n",
       "      <td>True</td>\n",
       "    </tr>\n",
       "    <tr>\n",
       "      <th>6</th>\n",
       "      <td>wallfan</td>\n",
       "      <td>wallfan</td>\n",
       "      <td>True</td>\n",
       "    </tr>\n",
       "    <tr>\n",
       "      <th>7</th>\n",
       "      <td>3dprinter</td>\n",
       "      <td>3dprinter</td>\n",
       "      <td>True</td>\n",
       "    </tr>\n",
       "    <tr>\n",
       "      <th>8</th>\n",
       "      <td>wallfan</td>\n",
       "      <td>wallfan</td>\n",
       "      <td>True</td>\n",
       "    </tr>\n",
       "    <tr>\n",
       "      <th>9</th>\n",
       "      <td>ac</td>\n",
       "      <td>ac</td>\n",
       "      <td>True</td>\n",
       "    </tr>\n",
       "    <tr>\n",
       "      <th>10</th>\n",
       "      <td>wallfan</td>\n",
       "      <td>wallfan</td>\n",
       "      <td>True</td>\n",
       "    </tr>\n",
       "    <tr>\n",
       "      <th>11</th>\n",
       "      <td>fridge</td>\n",
       "      <td>fridge</td>\n",
       "      <td>True</td>\n",
       "    </tr>\n",
       "    <tr>\n",
       "      <th>12</th>\n",
       "      <td>3dprinter</td>\n",
       "      <td>3dprinter</td>\n",
       "      <td>True</td>\n",
       "    </tr>\n",
       "    <tr>\n",
       "      <th>13</th>\n",
       "      <td>3dprinter</td>\n",
       "      <td>3dprinter</td>\n",
       "      <td>True</td>\n",
       "    </tr>\n",
       "    <tr>\n",
       "      <th>14</th>\n",
       "      <td>wallfan</td>\n",
       "      <td>wallfan</td>\n",
       "      <td>True</td>\n",
       "    </tr>\n",
       "    <tr>\n",
       "      <th>15</th>\n",
       "      <td>wallfan</td>\n",
       "      <td>wallfan</td>\n",
       "      <td>True</td>\n",
       "    </tr>\n",
       "    <tr>\n",
       "      <th>16</th>\n",
       "      <td>wallfan</td>\n",
       "      <td>wallfan</td>\n",
       "      <td>True</td>\n",
       "    </tr>\n",
       "    <tr>\n",
       "      <th>17</th>\n",
       "      <td>ac</td>\n",
       "      <td>ac</td>\n",
       "      <td>True</td>\n",
       "    </tr>\n",
       "    <tr>\n",
       "      <th>18</th>\n",
       "      <td>wallfan</td>\n",
       "      <td>wallfan</td>\n",
       "      <td>True</td>\n",
       "    </tr>\n",
       "    <tr>\n",
       "      <th>19</th>\n",
       "      <td>ac</td>\n",
       "      <td>ac</td>\n",
       "      <td>True</td>\n",
       "    </tr>\n",
       "    <tr>\n",
       "      <th>20</th>\n",
       "      <td>3dprinter</td>\n",
       "      <td>3dprinter</td>\n",
       "      <td>True</td>\n",
       "    </tr>\n",
       "    <tr>\n",
       "      <th>21</th>\n",
       "      <td>ac</td>\n",
       "      <td>ac</td>\n",
       "      <td>True</td>\n",
       "    </tr>\n",
       "    <tr>\n",
       "      <th>22</th>\n",
       "      <td>ac</td>\n",
       "      <td>ac</td>\n",
       "      <td>True</td>\n",
       "    </tr>\n",
       "    <tr>\n",
       "      <th>23</th>\n",
       "      <td>3dprinter</td>\n",
       "      <td>3dprinter</td>\n",
       "      <td>True</td>\n",
       "    </tr>\n",
       "    <tr>\n",
       "      <th>24</th>\n",
       "      <td>3dprinter</td>\n",
       "      <td>3dprinter</td>\n",
       "      <td>True</td>\n",
       "    </tr>\n",
       "    <tr>\n",
       "      <th>25</th>\n",
       "      <td>3dprinter</td>\n",
       "      <td>fridge</td>\n",
       "      <td>False</td>\n",
       "    </tr>\n",
       "    <tr>\n",
       "      <th>26</th>\n",
       "      <td>3dprinter</td>\n",
       "      <td>3dprinter</td>\n",
       "      <td>True</td>\n",
       "    </tr>\n",
       "    <tr>\n",
       "      <th>27</th>\n",
       "      <td>wallfan</td>\n",
       "      <td>wallfan</td>\n",
       "      <td>True</td>\n",
       "    </tr>\n",
       "    <tr>\n",
       "      <th>28</th>\n",
       "      <td>3dprinter</td>\n",
       "      <td>3dprinter</td>\n",
       "      <td>True</td>\n",
       "    </tr>\n",
       "    <tr>\n",
       "      <th>29</th>\n",
       "      <td>ac</td>\n",
       "      <td>ac</td>\n",
       "      <td>True</td>\n",
       "    </tr>\n",
       "    <tr>\n",
       "      <th>30</th>\n",
       "      <td>fridge</td>\n",
       "      <td>fridge</td>\n",
       "      <td>True</td>\n",
       "    </tr>\n",
       "    <tr>\n",
       "      <th>31</th>\n",
       "      <td>ac</td>\n",
       "      <td>ac</td>\n",
       "      <td>True</td>\n",
       "    </tr>\n",
       "    <tr>\n",
       "      <th>32</th>\n",
       "      <td>wallfan</td>\n",
       "      <td>wallfan</td>\n",
       "      <td>True</td>\n",
       "    </tr>\n",
       "    <tr>\n",
       "      <th>33</th>\n",
       "      <td>3dprinter</td>\n",
       "      <td>3dprinter</td>\n",
       "      <td>True</td>\n",
       "    </tr>\n",
       "    <tr>\n",
       "      <th>34</th>\n",
       "      <td>3dprinter</td>\n",
       "      <td>3dprinter</td>\n",
       "      <td>True</td>\n",
       "    </tr>\n",
       "    <tr>\n",
       "      <th>35</th>\n",
       "      <td>3dprinter</td>\n",
       "      <td>3dprinter</td>\n",
       "      <td>True</td>\n",
       "    </tr>\n",
       "    <tr>\n",
       "      <th>36</th>\n",
       "      <td>3dprinter</td>\n",
       "      <td>3dprinter</td>\n",
       "      <td>True</td>\n",
       "    </tr>\n",
       "    <tr>\n",
       "      <th>37</th>\n",
       "      <td>wallfan</td>\n",
       "      <td>wallfan</td>\n",
       "      <td>True</td>\n",
       "    </tr>\n",
       "    <tr>\n",
       "      <th>38</th>\n",
       "      <td>ac</td>\n",
       "      <td>ac</td>\n",
       "      <td>True</td>\n",
       "    </tr>\n",
       "    <tr>\n",
       "      <th>39</th>\n",
       "      <td>ac</td>\n",
       "      <td>ac</td>\n",
       "      <td>True</td>\n",
       "    </tr>\n",
       "    <tr>\n",
       "      <th>40</th>\n",
       "      <td>fridge</td>\n",
       "      <td>fridge</td>\n",
       "      <td>True</td>\n",
       "    </tr>\n",
       "    <tr>\n",
       "      <th>41</th>\n",
       "      <td>3dprinter</td>\n",
       "      <td>3dprinter</td>\n",
       "      <td>True</td>\n",
       "    </tr>\n",
       "    <tr>\n",
       "      <th>42</th>\n",
       "      <td>3dprinter</td>\n",
       "      <td>3dprinter</td>\n",
       "      <td>True</td>\n",
       "    </tr>\n",
       "    <tr>\n",
       "      <th>43</th>\n",
       "      <td>3dprinter</td>\n",
       "      <td>3dprinter</td>\n",
       "      <td>True</td>\n",
       "    </tr>\n",
       "    <tr>\n",
       "      <th>44</th>\n",
       "      <td>fridge</td>\n",
       "      <td>fridge</td>\n",
       "      <td>True</td>\n",
       "    </tr>\n",
       "    <tr>\n",
       "      <th>45</th>\n",
       "      <td>3dprinter</td>\n",
       "      <td>3dprinter</td>\n",
       "      <td>True</td>\n",
       "    </tr>\n",
       "    <tr>\n",
       "      <th>46</th>\n",
       "      <td>3dprinter</td>\n",
       "      <td>3dprinter</td>\n",
       "      <td>True</td>\n",
       "    </tr>\n",
       "    <tr>\n",
       "      <th>47</th>\n",
       "      <td>3dprinter</td>\n",
       "      <td>3dprinter</td>\n",
       "      <td>True</td>\n",
       "    </tr>\n",
       "    <tr>\n",
       "      <th>48</th>\n",
       "      <td>wallfan</td>\n",
       "      <td>wallfan</td>\n",
       "      <td>True</td>\n",
       "    </tr>\n",
       "    <tr>\n",
       "      <th>49</th>\n",
       "      <td>3dprinter</td>\n",
       "      <td>3dprinter</td>\n",
       "      <td>True</td>\n",
       "    </tr>\n",
       "    <tr>\n",
       "      <th>50</th>\n",
       "      <td>ac</td>\n",
       "      <td>ac</td>\n",
       "      <td>True</td>\n",
       "    </tr>\n",
       "    <tr>\n",
       "      <th>51</th>\n",
       "      <td>wallfan</td>\n",
       "      <td>wallfan</td>\n",
       "      <td>True</td>\n",
       "    </tr>\n",
       "    <tr>\n",
       "      <th>52</th>\n",
       "      <td>wallfan</td>\n",
       "      <td>wallfan</td>\n",
       "      <td>True</td>\n",
       "    </tr>\n",
       "    <tr>\n",
       "      <th>53</th>\n",
       "      <td>wallfan</td>\n",
       "      <td>wallfan</td>\n",
       "      <td>True</td>\n",
       "    </tr>\n",
       "    <tr>\n",
       "      <th>54</th>\n",
       "      <td>3dprinter</td>\n",
       "      <td>3dprinter</td>\n",
       "      <td>True</td>\n",
       "    </tr>\n",
       "    <tr>\n",
       "      <th>55</th>\n",
       "      <td>ac</td>\n",
       "      <td>ac</td>\n",
       "      <td>True</td>\n",
       "    </tr>\n",
       "    <tr>\n",
       "      <th>56</th>\n",
       "      <td>3dprinter</td>\n",
       "      <td>3dprinter</td>\n",
       "      <td>True</td>\n",
       "    </tr>\n",
       "    <tr>\n",
       "      <th>57</th>\n",
       "      <td>wallfan</td>\n",
       "      <td>wallfan</td>\n",
       "      <td>True</td>\n",
       "    </tr>\n",
       "    <tr>\n",
       "      <th>58</th>\n",
       "      <td>3dprinter</td>\n",
       "      <td>3dprinter</td>\n",
       "      <td>True</td>\n",
       "    </tr>\n",
       "    <tr>\n",
       "      <th>59</th>\n",
       "      <td>ac</td>\n",
       "      <td>ac</td>\n",
       "      <td>True</td>\n",
       "    </tr>\n",
       "  </tbody>\n",
       "</table>\n",
       "</div>"
      ],
      "text/plain": [
       "    Predicted     Actual Assumed\n",
       "0     wallfan    wallfan    True\n",
       "1      fridge     fridge    True\n",
       "2     wallfan    wallfan    True\n",
       "3          ac         ac    True\n",
       "4   3dprinter  3dprinter    True\n",
       "5          ac         ac    True\n",
       "6     wallfan    wallfan    True\n",
       "7   3dprinter  3dprinter    True\n",
       "8     wallfan    wallfan    True\n",
       "9          ac         ac    True\n",
       "10    wallfan    wallfan    True\n",
       "11     fridge     fridge    True\n",
       "12  3dprinter  3dprinter    True\n",
       "13  3dprinter  3dprinter    True\n",
       "14    wallfan    wallfan    True\n",
       "15    wallfan    wallfan    True\n",
       "16    wallfan    wallfan    True\n",
       "17         ac         ac    True\n",
       "18    wallfan    wallfan    True\n",
       "19         ac         ac    True\n",
       "20  3dprinter  3dprinter    True\n",
       "21         ac         ac    True\n",
       "22         ac         ac    True\n",
       "23  3dprinter  3dprinter    True\n",
       "24  3dprinter  3dprinter    True\n",
       "25  3dprinter     fridge   False\n",
       "26  3dprinter  3dprinter    True\n",
       "27    wallfan    wallfan    True\n",
       "28  3dprinter  3dprinter    True\n",
       "29         ac         ac    True\n",
       "30     fridge     fridge    True\n",
       "31         ac         ac    True\n",
       "32    wallfan    wallfan    True\n",
       "33  3dprinter  3dprinter    True\n",
       "34  3dprinter  3dprinter    True\n",
       "35  3dprinter  3dprinter    True\n",
       "36  3dprinter  3dprinter    True\n",
       "37    wallfan    wallfan    True\n",
       "38         ac         ac    True\n",
       "39         ac         ac    True\n",
       "40     fridge     fridge    True\n",
       "41  3dprinter  3dprinter    True\n",
       "42  3dprinter  3dprinter    True\n",
       "43  3dprinter  3dprinter    True\n",
       "44     fridge     fridge    True\n",
       "45  3dprinter  3dprinter    True\n",
       "46  3dprinter  3dprinter    True\n",
       "47  3dprinter  3dprinter    True\n",
       "48    wallfan    wallfan    True\n",
       "49  3dprinter  3dprinter    True\n",
       "50         ac         ac    True\n",
       "51    wallfan    wallfan    True\n",
       "52    wallfan    wallfan    True\n",
       "53    wallfan    wallfan    True\n",
       "54  3dprinter  3dprinter    True\n",
       "55         ac         ac    True\n",
       "56  3dprinter  3dprinter    True\n",
       "57    wallfan    wallfan    True\n",
       "58  3dprinter  3dprinter    True\n",
       "59         ac         ac    True"
      ]
     },
     "execution_count": 94,
     "metadata": {},
     "output_type": "execute_result"
    }
   ],
   "source": [
    "pred_df.head(60)"
   ]
  },
  {
   "cell_type": "code",
   "execution_count": 95,
   "metadata": {},
   "outputs": [
    {
     "data": {
      "text/html": [
       "<div>\n",
       "<style scoped>\n",
       "    .dataframe tbody tr th:only-of-type {\n",
       "        vertical-align: middle;\n",
       "    }\n",
       "\n",
       "    .dataframe tbody tr th {\n",
       "        vertical-align: top;\n",
       "    }\n",
       "\n",
       "    .dataframe thead th {\n",
       "        text-align: right;\n",
       "    }\n",
       "</style>\n",
       "<table border=\"1\" class=\"dataframe\">\n",
       "  <thead>\n",
       "    <tr style=\"text-align: right;\">\n",
       "      <th></th>\n",
       "      <th>Predicted</th>\n",
       "      <th>Actual</th>\n",
       "      <th>Assumed</th>\n",
       "    </tr>\n",
       "  </thead>\n",
       "  <tbody>\n",
       "    <tr>\n",
       "      <th>60</th>\n",
       "      <td>3dprinter</td>\n",
       "      <td>fridge</td>\n",
       "      <td>False</td>\n",
       "    </tr>\n",
       "    <tr>\n",
       "      <th>61</th>\n",
       "      <td>ac</td>\n",
       "      <td>ac</td>\n",
       "      <td>True</td>\n",
       "    </tr>\n",
       "    <tr>\n",
       "      <th>62</th>\n",
       "      <td>wallfan</td>\n",
       "      <td>wallfan</td>\n",
       "      <td>True</td>\n",
       "    </tr>\n",
       "    <tr>\n",
       "      <th>63</th>\n",
       "      <td>fridge</td>\n",
       "      <td>fridge</td>\n",
       "      <td>True</td>\n",
       "    </tr>\n",
       "    <tr>\n",
       "      <th>64</th>\n",
       "      <td>fridge</td>\n",
       "      <td>fridge</td>\n",
       "      <td>True</td>\n",
       "    </tr>\n",
       "    <tr>\n",
       "      <th>65</th>\n",
       "      <td>3dprinter</td>\n",
       "      <td>3dprinter</td>\n",
       "      <td>True</td>\n",
       "    </tr>\n",
       "    <tr>\n",
       "      <th>66</th>\n",
       "      <td>fridge</td>\n",
       "      <td>fridge</td>\n",
       "      <td>True</td>\n",
       "    </tr>\n",
       "    <tr>\n",
       "      <th>67</th>\n",
       "      <td>3dprinter</td>\n",
       "      <td>3dprinter</td>\n",
       "      <td>True</td>\n",
       "    </tr>\n",
       "    <tr>\n",
       "      <th>68</th>\n",
       "      <td>fridge</td>\n",
       "      <td>fridge</td>\n",
       "      <td>True</td>\n",
       "    </tr>\n",
       "    <tr>\n",
       "      <th>69</th>\n",
       "      <td>ac</td>\n",
       "      <td>ac</td>\n",
       "      <td>True</td>\n",
       "    </tr>\n",
       "    <tr>\n",
       "      <th>70</th>\n",
       "      <td>3dprinter</td>\n",
       "      <td>3dprinter</td>\n",
       "      <td>True</td>\n",
       "    </tr>\n",
       "    <tr>\n",
       "      <th>71</th>\n",
       "      <td>fridge</td>\n",
       "      <td>fridge</td>\n",
       "      <td>True</td>\n",
       "    </tr>\n",
       "    <tr>\n",
       "      <th>72</th>\n",
       "      <td>ac</td>\n",
       "      <td>ac</td>\n",
       "      <td>True</td>\n",
       "    </tr>\n",
       "    <tr>\n",
       "      <th>73</th>\n",
       "      <td>wallfan</td>\n",
       "      <td>wallfan</td>\n",
       "      <td>True</td>\n",
       "    </tr>\n",
       "    <tr>\n",
       "      <th>74</th>\n",
       "      <td>ac</td>\n",
       "      <td>ac</td>\n",
       "      <td>True</td>\n",
       "    </tr>\n",
       "    <tr>\n",
       "      <th>75</th>\n",
       "      <td>wallfan</td>\n",
       "      <td>wallfan</td>\n",
       "      <td>True</td>\n",
       "    </tr>\n",
       "  </tbody>\n",
       "</table>\n",
       "</div>"
      ],
      "text/plain": [
       "    Predicted     Actual Assumed\n",
       "60  3dprinter     fridge   False\n",
       "61         ac         ac    True\n",
       "62    wallfan    wallfan    True\n",
       "63     fridge     fridge    True\n",
       "64     fridge     fridge    True\n",
       "65  3dprinter  3dprinter    True\n",
       "66     fridge     fridge    True\n",
       "67  3dprinter  3dprinter    True\n",
       "68     fridge     fridge    True\n",
       "69         ac         ac    True\n",
       "70  3dprinter  3dprinter    True\n",
       "71     fridge     fridge    True\n",
       "72         ac         ac    True\n",
       "73    wallfan    wallfan    True\n",
       "74         ac         ac    True\n",
       "75    wallfan    wallfan    True"
      ]
     },
     "execution_count": 95,
     "metadata": {},
     "output_type": "execute_result"
    }
   ],
   "source": [
    "pred_df.tail(16)"
   ]
  },
  {
   "cell_type": "code",
   "execution_count": 96,
   "metadata": {},
   "outputs": [
    {
     "data": {
      "text/plain": [
       "True     74\n",
       "False     2\n",
       "Name: Assumed, dtype: int64"
      ]
     },
     "execution_count": 96,
     "metadata": {},
     "output_type": "execute_result"
    }
   ],
   "source": [
    "pred_df['Assumed'].value_counts()"
   ]
  },
  {
   "cell_type": "code",
   "execution_count": 97,
   "metadata": {},
   "outputs": [
    {
     "name": "stdout",
     "output_type": "stream",
     "text": [
      "3/3 [==============================] - 0s 2ms/step - loss: 1.4763 - accuracy: 0.9737\n"
     ]
    },
    {
     "data": {
      "text/plain": [
       "[1.4763256311416626, 0.9736841917037964]"
      ]
     },
     "execution_count": 97,
     "metadata": {},
     "output_type": "execute_result"
    }
   ],
   "source": [
    "model.evaluate(val_data)"
   ]
  },
  {
   "cell_type": "code",
   "execution_count": 98,
   "metadata": {},
   "outputs": [],
   "source": [
    "import matplotlib.pyplot as plt"
   ]
  },
  {
   "cell_type": "code",
   "execution_count": 99,
   "metadata": {},
   "outputs": [],
   "source": [
    "def plot_pred_conf(prediction_probabilities, labels, n=1):\n",
    "    \"\"\"\n",
    "  Plots the top 10 highest prediction confidences along with\n",
    "  the truth label for sample n.\n",
    "    \"\"\"\n",
    "    pred_prob, true_label = prediction_probabilities[n], labels[n]\n",
    "\n",
    "  # Get the predicted label\n",
    "    pred_label = get_pred_label(pred_prob)\n",
    "\n",
    "    # Find the top 10 prediction confidence indexes\n",
    "    top_10_pred_indexes = pred_prob.argsort()[-10:][::-1]\n",
    "    # Find the top 10 prediction confidence values\n",
    "    top_10_pred_values = pred_prob[top_10_pred_indexes]\n",
    "    # Find the top 10 prediction labels\n",
    "    top_10_pred_labels = unique_devices[top_10_pred_indexes]\n",
    "\n",
    "    # Setup plot\n",
    "#     print(top_10_pred_labels)\n",
    "#     print(top_10_pred_labels)\n",
    "    top_plot = plt.bar(np.arange(len(top_10_pred_labels)), \n",
    "                     top_10_pred_values, \n",
    "                     color=\"grey\")\n",
    "    plt.xticks(np.arange(len(top_10_pred_labels)),\n",
    "             labels=top_10_pred_labels,\n",
    "             rotation=\"vertical\")\n",
    "\n",
    "    # Change color of true label\n",
    "    if np.isin(true_label, top_10_pred_labels):\n",
    "        top_plot[np.argmax(top_10_pred_labels == true_label)].set_color(\"green\")\n",
    "    else:\n",
    "        pass"
   ]
  },
  {
   "cell_type": "code",
   "execution_count": 100,
   "metadata": {},
   "outputs": [
    {
     "data": {
      "image/png": "[encoded data removed]",
      "text/plain": [
       "<Figure size 432x288 with 1 Axes>"
      ]
     },
     "metadata": {
      "needs_background": "light"
     },
     "output_type": "display_data"
    }
   ],
   "source": [
    "plot_pred_conf(prediction_probabilities=predictions,\n",
    "               labels=val_labels,\n",
    "               n=25)"
   ]
  },
  {
   "cell_type": "code",
   "execution_count": 102,
   "metadata": {},
   "outputs": [
    {
     "data": {
      "image/png": "[encoded data removed]",
      "text/plain": [
       "<Figure size 2016x13680 with 76 Axes>"
      ]
     },
     "metadata": {
      "needs_background": "light"
     },
     "output_type": "display_data"
    }
   ],
   "source": [
    "# Let's check a few predictions and their different values\n",
    "i_multiplier = 0\n",
    "num_rows = 38\n",
    "num_cols = 2\n",
    "num_files = num_rows*num_cols\n",
    "plt.figure(figsize=(7*2*num_cols, 5*num_rows))\n",
    "for i in range(num_files):\n",
    "    plt.subplot(num_rows, num_cols, i+1)\n",
    "    plot_pred_conf(prediction_probabilities=predictions,\n",
    "                labels=val_labels,\n",
    "                n=i+i_multiplier)\n",
    "plt.tight_layout(h_pad=1.0)\n",
    "plt.show()"
   ]
  },
  {
   "cell_type": "code",
   "execution_count": 103,
   "metadata": {},
   "outputs": [],
   "source": [
    "import datetime"
   ]
  },
  {
   "cell_type": "code",
   "execution_count": 104,
   "metadata": {},
   "outputs": [],
   "source": [
    "def save_model(model, suffix=None):\n",
    "    \"\"\"\n",
    "  Saves a given model in a models directory and appends a suffix (str)\n",
    "  for clarity and reuse.\n",
    "    \"\"\"\n",
    "  # Create model directory with current time\n",
    "    modeldir = os.path.join(\".\\models\",\n",
    "                          datetime.datetime.now().strftime(\"%m-%d-%Y\"))\n",
    "    model_path = modeldir + \"-\" + suffix + \".h5\" # save format of model\n",
    "    print(f\"Saving model to: {model_path}...\")\n",
    "    model.save(model_path)\n",
    "    return model_path"
   ]
  },
  {
   "cell_type": "code",
   "execution_count": 105,
   "metadata": {},
   "outputs": [
    {
     "name": "stdout",
     "output_type": "stream",
     "text": [
      "Saving model to: .\\models\\09-15-2020-400 files-Adam.h5...\n"
     ]
    },
    {
     "data": {
      "text/plain": [
       "'.\\\\models\\\\09-15-2020-400 files-Adam.h5'"
      ]
     },
     "execution_count": 105,
     "metadata": {},
     "output_type": "execute_result"
    }
   ],
   "source": [
    "# Save our model trained on 400 signatures\n",
    "save_model(model, suffix=\"400 files-Adam\")"
   ]
  },
  {
   "cell_type": "code",
   "execution_count": 106,
   "metadata": {},
   "outputs": [],
   "source": [
    "def load_model(model_path):\n",
    "    \"\"\"\n",
    "  Loads a saved model from a specified path.\n",
    "    \"\"\"\n",
    "    print(f\"Loading saved model from: {model_path}\")\n",
    "    model = tf.keras.models.load_model(model_path)\n",
    "    return model"
   ]
  },
  {
   "cell_type": "code",
   "execution_count": 107,
   "metadata": {},
   "outputs": [
    {
     "name": "stdout",
     "output_type": "stream",
     "text": [
      "Loading saved model from: ./models/09-15-2020-400 files-Adam.h5\n"
     ]
    }
   ],
   "source": [
    "# Load our model trained \n",
    "model = load_model('./models/09-15-2020-400 files-Adam.h5')"
   ]
  },
  {
   "cell_type": "code",
   "execution_count": 109,
   "metadata": {},
   "outputs": [
    {
     "name": "stdout",
     "output_type": "stream",
     "text": [
      "3/3 [==============================] - 0s 2ms/step - loss: 1.4763 - accuracy: 0.9737\n"
     ]
    }
   ],
   "source": [
    "# Evaluate the pre-saved model\n",
    "acc = model.evaluate(val_data)"
   ]
  },
  {
   "cell_type": "code",
   "execution_count": 110,
   "metadata": {},
   "outputs": [
    {
     "data": {
      "text/plain": [
       "0.9736841917037964"
      ]
     },
     "execution_count": 110,
     "metadata": {},
     "output_type": "execute_result"
    }
   ],
   "source": [
    "acc[1]"
   ]
  },
  {
   "cell_type": "code",
   "execution_count": 113,
   "metadata": {},
   "outputs": [
    {
     "name": "stdout",
     "output_type": "stream",
     "text": [
      "Accuracy: 97.37%\n"
     ]
    }
   ],
   "source": [
    "print(f'Accuracy: {acc[1]*100:.2f}%')"
   ]
  },
  {
   "cell_type": "code",
   "execution_count": null,
   "metadata": {},
   "outputs": [],
   "source": []
  }
 ],
 "metadata": {
  "kernelspec": {
   "display_name": "Python 3",
   "language": "python",
   "name": "python3"
  },
  "language_info": {
   "codemirror_mode": {
    "name": "ipython",
    "version": 3
   },
   "file_extension": ".py",
   "mimetype": "text/x-python",
   "name": "python",
   "nbconvert_exporter": "python",
   "pygments_lexer": "ipython3",
   "version": "3.7.8"
  }
 },
 "nbformat": 4,
 "nbformat_minor": 4
}
