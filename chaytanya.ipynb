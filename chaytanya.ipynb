{
 "cells": [
  {
   "cell_type": "code",
   "execution_count": 1,
   "metadata": {},
   "outputs": [],
   "source": [
    "import boto3, os\n",
    "\n",
    "s3 = boto3.resource('s3')"
   ]
  },
  {
   "cell_type": "code",
   "execution_count": 2,
   "metadata": {},
   "outputs": [
    {
     "name": "stdout",
     "output_type": "stream",
     "text": [
      "caxebucketid4\n",
      "hello-world-python-dev-serverlessdeploymentbucket-bc8tdbf3855u\n",
      "kishoredkjul18\n",
      "shafeeks3\n",
      "store-aws-test\n"
     ]
    }
   ],
   "source": [
    "for bucket in s3.buckets.all():\n",
    "    print(bucket.name)"
   ]
  },
  {
   "cell_type": "code",
   "execution_count": 3,
   "metadata": {},
   "outputs": [
    {
     "name": "stdout",
     "output_type": "stream",
     "text": [
      "kishoredkjul18\\Id6\n"
     ]
    }
   ],
   "source": [
    "for obj in s3.Bucket(name='kishoredkjul18').objects.all():\n",
    "    print(os.path.join(obj.bucket_name, obj.key))\n",
    "    "
   ]
  },
  {
   "cell_type": "code",
   "execution_count": 4,
   "metadata": {
    "scrolled": true
   },
   "outputs": [],
   "source": [
    "import boto3\n",
    "\n",
    "bucket_name = 'kishoredkjul18'\n",
    "s3_client = boto3.client('s3')\n",
    "\n",
    "f = open(\"data.txt\", \"a\")\n",
    "\n",
    "versions_response = s3_client.list_object_versions(Bucket=bucket_name)\n",
    "\n",
    "for startversion in range(1):\n",
    "\n",
    "    for i in range(len(versions_response['Versions'])):#len(versions_response['Versions'])\n",
    "        version_id = versions_response['Versions'][i]['VersionId']\n",
    "        file_key = versions_response['Versions'][i]['Key']\n",
    "\n",
    "        response = s3_client.get_object(Bucket=bucket_name,Key=file_key,VersionId=version_id)\n",
    "        data = response['Body'].read()\n",
    "        if i != 999:\n",
    "            f.write(data[21:-3].decode('utf-8')+\"\\n\")\n",
    "        \n",
    "    versions_response = s3_client.list_object_versions(Bucket=bucket_name,KeyMarker='Id4',VersionIdMarker=version_id)\n",
    "\n",
    "f.close()"
   ]
  },
  {
   "cell_type": "code",
   "execution_count": 9,
   "metadata": {},
   "outputs": [],
   "source": [
    "import csv\n",
    "import json\n",
    "\n",
    "test_data = open('test.csv', 'w',newline='')\n",
    "csvwriter = csv.writer(test_data)\n",
    "with open('test.json') as fp:\n",
    "    for cnt, line in enumerate(fp):\n",
    "        parsed_data=json.loads(line)\n",
    "        if cnt == 0:\n",
    "            header = parsed_data.keys()\n",
    "            csvwriter.writerow(header)\n",
    "        csvwriter.writerow(parsed_data.values())\n",
    "test_data.close()"
   ]
  },
  {
   "cell_type": "code",
   "execution_count": null,
   "metadata": {},
   "outputs": [],
   "source": []
  }
 ],
 "metadata": {
  "kernelspec": {
   "display_name": "Python 3",
   "language": "python",
   "name": "python3"
  },
  "language_info": {
   "codemirror_mode": {
    "name": "ipython",
    "version": 3
   },
   "file_extension": ".py",
   "mimetype": "text/x-python",
   "name": "python",
   "nbconvert_exporter": "python",
   "pygments_lexer": "ipython3",
   "version": "3.8.5"
  }
 },
 "nbformat": 4,
 "nbformat_minor": 2
}
