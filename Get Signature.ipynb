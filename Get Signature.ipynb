{
 "cells": [
  {
   "cell_type": "code",
   "execution_count": 1,
   "metadata": {},
   "outputs": [],
   "source": [
    "import pandas as pd\n",
    "import numpy as np\n",
    "import boto3\n",
    "import json\n",
    "import datetime\n",
    "import pytz"
   ]
  },
  {
   "cell_type": "code",
   "execution_count": null,
   "metadata": {},
   "outputs": [],
   "source": [
    "bucket_name = 'kishoredkjul18'\n",
    "s3_client = boto3.client('s3')\n",
    "sig = pd.DataFrame()\n",
    "val_dict = {}\n",
    "time_modified = datetime.datetime(2020,1,1)\n",
    "time_modified = time_modified.astimezone(pytz.timezone(\"Asia/Kolkata\"))\n",
    "#take 100 minutes data\n",
    "for i in range(100):\n",
    "    x=0\n",
    "    # 1 minute signature\n",
    "    while (x<60): \n",
    "            latest_ver = s3_client.get_object(Bucket = 'kishoredkjul18', Key='Id6')\n",
    "            last_modified = latest_ver['LastModified']\n",
    "            last_modified = last_modified.astimezone(pytz.timezone(\"Asia/Kolkata\")) \n",
    "            if last_modified>time_modified:\n",
    "                json_body = json.loads(latest_ver['Body'].read()[0:-1].decode('utf8'))\n",
    "                val_dict[f'V{x+1}'] = json_body['V1']\n",
    "                val_dict[f'C{x+1}'] = json_body['C1']\n",
    "                val_dict[f'A{x+1}'] = json_body['A1']\n",
    "                val_dict[f'PF{x+1}'] = json_body['PF1']\n",
    "                val_dict[f'AP{x+1}'] = json_body['AP1']\n",
    "                val_dict[f'RP{x+1}'] = json_body['RP1']\n",
    "                val_dict[f'F{x+1}'] = json_body['F1']\n",
    "                time_modified = last_modified\n",
    "                x+=1\n",
    "    df2 = pd.DataFrame(val_dict,index=[i])\n",
    "    sig = sig.append(df2)"
   ]
  },
  {
   "cell_type": "code",
   "execution_count": 4,
   "metadata": {},
   "outputs": [
    {
     "data": {
      "text/html": [
       "<div>\n",
       "<style scoped>\n",
       "    .dataframe tbody tr th:only-of-type {\n",
       "        vertical-align: middle;\n",
       "    }\n",
       "\n",
       "    .dataframe tbody tr th {\n",
       "        vertical-align: top;\n",
       "    }\n",
       "\n",
       "    .dataframe thead th {\n",
       "        text-align: right;\n",
       "    }\n",
       "</style>\n",
       "<table border=\"1\" class=\"dataframe\">\n",
       "  <thead>\n",
       "    <tr style=\"text-align: right;\">\n",
       "      <th></th>\n",
       "      <th>V1</th>\n",
       "      <th>C1</th>\n",
       "      <th>A1</th>\n",
       "      <th>PF1</th>\n",
       "      <th>AP1</th>\n",
       "      <th>RP1</th>\n",
       "      <th>F1</th>\n",
       "      <th>V2</th>\n",
       "      <th>C2</th>\n",
       "      <th>A2</th>\n",
       "      <th>PF2</th>\n",
       "      <th>AP2</th>\n",
       "      <th>RP2</th>\n",
       "      <th>F2</th>\n",
       "    </tr>\n",
       "  </thead>\n",
       "  <tbody>\n",
       "    <tr>\n",
       "      <th>0</th>\n",
       "      <td>225.93</td>\n",
       "      <td>0.01</td>\n",
       "      <td>-1.0</td>\n",
       "      <td>-0.01</td>\n",
       "      <td>111.11</td>\n",
       "      <td>111.11</td>\n",
       "      <td>50</td>\n",
       "      <td>225.92</td>\n",
       "      <td>0.01</td>\n",
       "      <td>-1.0</td>\n",
       "      <td>-0.02</td>\n",
       "      <td>55.56</td>\n",
       "      <td>55.55</td>\n",
       "      <td>50</td>\n",
       "    </tr>\n",
       "  </tbody>\n",
       "</table>\n",
       "</div>"
      ],
      "text/plain": [
       "       V1    C1   A1   PF1     AP1     RP1  F1      V2    C2   A2   PF2  \\\n",
       "0  225.93  0.01 -1.0 -0.01  111.11  111.11  50  225.92  0.01 -1.0 -0.02   \n",
       "\n",
       "     AP2    RP2  F2  \n",
       "0  55.56  55.55  50  "
      ]
     },
     "execution_count": 4,
     "metadata": {},
     "output_type": "execute_result"
    }
   ],
   "source": [
    "sig"
   ]
  },
  {
   "cell_type": "code",
   "execution_count": null,
   "metadata": {},
   "outputs": [],
   "source": [
    "sig.to_csv('washing machine.csv',index= False)"
   ]
  }
 ],
 "metadata": {
  "kernelspec": {
   "display_name": "Python 3",
   "language": "python",
   "name": "python3"
  },
  "language_info": {
   "codemirror_mode": {
    "name": "ipython",
    "version": 3
   },
   "file_extension": ".py",
   "mimetype": "text/x-python",
   "name": "python",
   "nbconvert_exporter": "python",
   "pygments_lexer": "ipython3",
   "version": "3.7.8"
  }
 },
 "nbformat": 4,
 "nbformat_minor": 4
}
