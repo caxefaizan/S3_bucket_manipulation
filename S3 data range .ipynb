{
 "cells": [
  {
   "cell_type": "code",
   "execution_count": 227,
   "metadata": {},
   "outputs": [],
   "source": [
    "import boto3\n",
    "import pandas as pd\n",
    "bucket_name = 'caxebucketid4'\n",
    "s3_client = boto3.client('s3')\n",
    "versions_response = s3_client.list_object_versions(Bucket = bucket_name)\n",
    "itr = len(versions_response['Versions']) \n",
    "ver_list_dict = versions_response['Versions']\n",
    "ver_list=[]\n",
    "ver_time_list=[]"
   ]
  },
  {
   "cell_type": "code",
   "execution_count": 228,
   "metadata": {},
   "outputs": [],
   "source": [
    "for x in range(itr):\n",
    "    ver_list.append(ver_list_dict[x]['VersionId'])\n",
    "    ver_time_list.append(ver_list_dict[x]['LastModified'])\n",
    "x = pd.Series(ver_list).tolist()\n",
    "y = pd.Series(ver_time_list)"
   ]
  },
  {
   "cell_type": "code",
   "execution_count": 229,
   "metadata": {},
   "outputs": [
    {
     "data": {
      "text/plain": [
       "0     2020-08-06 11:41:51+00:00\n",
       "1     2020-08-06 11:41:50+00:00\n",
       "2     2020-08-06 11:41:49+00:00\n",
       "3     2020-08-06 11:41:48+00:00\n",
       "4     2020-08-06 11:41:46+00:00\n",
       "                 ...           \n",
       "995   2020-08-06 11:19:05+00:00\n",
       "996   2020-08-06 11:19:03+00:00\n",
       "997   2020-08-06 11:19:02+00:00\n",
       "998   2020-08-06 11:19:01+00:00\n",
       "999   2020-08-06 11:18:59+00:00\n",
       "Length: 1000, dtype: datetime64[ns, tzutc()]"
      ]
     },
     "execution_count": 229,
     "metadata": {},
     "output_type": "execute_result"
    }
   ],
   "source": [
    "y"
   ]
  },
  {
   "cell_type": "code",
   "execution_count": 230,
   "metadata": {},
   "outputs": [
    {
     "data": {
      "text/plain": [
       "0     2020-08-06 17:11:51+05:30\n",
       "1     2020-08-06 17:11:50+05:30\n",
       "2     2020-08-06 17:11:49+05:30\n",
       "3     2020-08-06 17:11:48+05:30\n",
       "4     2020-08-06 17:11:46+05:30\n",
       "                 ...           \n",
       "995   2020-08-06 16:49:05+05:30\n",
       "996   2020-08-06 16:49:03+05:30\n",
       "997   2020-08-06 16:49:02+05:30\n",
       "998   2020-08-06 16:49:01+05:30\n",
       "999   2020-08-06 16:48:59+05:30\n",
       "Length: 1000, dtype: datetime64[ns, Asia/Kolkata]"
      ]
     },
     "execution_count": 230,
     "metadata": {},
     "output_type": "execute_result"
    }
   ],
   "source": [
    "y = y.dt.tz_convert('Asia/Kolkata')\n",
    "y"
   ]
  },
  {
   "cell_type": "code",
   "execution_count": 231,
   "metadata": {},
   "outputs": [
    {
     "data": {
      "text/html": [
       "<div>\n",
       "<style scoped>\n",
       "    .dataframe tbody tr th:only-of-type {\n",
       "        vertical-align: middle;\n",
       "    }\n",
       "\n",
       "    .dataframe tbody tr th {\n",
       "        vertical-align: top;\n",
       "    }\n",
       "\n",
       "    .dataframe thead th {\n",
       "        text-align: right;\n",
       "    }\n",
       "</style>\n",
       "<table border=\"1\" class=\"dataframe\">\n",
       "  <thead>\n",
       "    <tr style=\"text-align: right;\">\n",
       "      <th></th>\n",
       "      <th>VersionId</th>\n",
       "    </tr>\n",
       "  </thead>\n",
       "  <tbody>\n",
       "    <tr>\n",
       "      <th>2020-08-06 17:11:51+05:30</th>\n",
       "      <td>RnVN1rjYbDrBGESqPs4nnGsUo.qls7XU</td>\n",
       "    </tr>\n",
       "    <tr>\n",
       "      <th>2020-08-06 17:11:50+05:30</th>\n",
       "      <td>VBu5Y65bN7tdeZlmWRHtcJH3JbeS2Lc2</td>\n",
       "    </tr>\n",
       "    <tr>\n",
       "      <th>2020-08-06 17:11:49+05:30</th>\n",
       "      <td>4XfdIX5rrgiec9MXQX0cYCKz4Qa.2iJD</td>\n",
       "    </tr>\n",
       "    <tr>\n",
       "      <th>2020-08-06 17:11:48+05:30</th>\n",
       "      <td>8DDv_y6ODR3hfIgPqZl3clO3HlTfgG.c</td>\n",
       "    </tr>\n",
       "    <tr>\n",
       "      <th>2020-08-06 17:11:46+05:30</th>\n",
       "      <td>vC1ViwU.dYI22smPSlACoSFXy5IqvOY9</td>\n",
       "    </tr>\n",
       "    <tr>\n",
       "      <th>...</th>\n",
       "      <td>...</td>\n",
       "    </tr>\n",
       "    <tr>\n",
       "      <th>2020-08-06 16:49:05+05:30</th>\n",
       "      <td>9ypypLNG4sMvDHXFGU.O7UhMBSExLzLg</td>\n",
       "    </tr>\n",
       "    <tr>\n",
       "      <th>2020-08-06 16:49:03+05:30</th>\n",
       "      <td>q4vQjczJxj8DhxU44xdnIhYPHXjdAyVE</td>\n",
       "    </tr>\n",
       "    <tr>\n",
       "      <th>2020-08-06 16:49:02+05:30</th>\n",
       "      <td>qDJRJzqCZqw1z5HifmooXjFtimbU2hkZ</td>\n",
       "    </tr>\n",
       "    <tr>\n",
       "      <th>2020-08-06 16:49:01+05:30</th>\n",
       "      <td>QEbVjx86LiPw5lDr7EcuZeRLavJqI6DD</td>\n",
       "    </tr>\n",
       "    <tr>\n",
       "      <th>2020-08-06 16:48:59+05:30</th>\n",
       "      <td>YNC5H_3VNgK8nTpTpALF91JRC3bWihBz</td>\n",
       "    </tr>\n",
       "  </tbody>\n",
       "</table>\n",
       "<p>1000 rows × 1 columns</p>\n",
       "</div>"
      ],
      "text/plain": [
       "                                                  VersionId\n",
       "2020-08-06 17:11:51+05:30  RnVN1rjYbDrBGESqPs4nnGsUo.qls7XU\n",
       "2020-08-06 17:11:50+05:30  VBu5Y65bN7tdeZlmWRHtcJH3JbeS2Lc2\n",
       "2020-08-06 17:11:49+05:30  4XfdIX5rrgiec9MXQX0cYCKz4Qa.2iJD\n",
       "2020-08-06 17:11:48+05:30  8DDv_y6ODR3hfIgPqZl3clO3HlTfgG.c\n",
       "2020-08-06 17:11:46+05:30  vC1ViwU.dYI22smPSlACoSFXy5IqvOY9\n",
       "...                                                     ...\n",
       "2020-08-06 16:49:05+05:30  9ypypLNG4sMvDHXFGU.O7UhMBSExLzLg\n",
       "2020-08-06 16:49:03+05:30  q4vQjczJxj8DhxU44xdnIhYPHXjdAyVE\n",
       "2020-08-06 16:49:02+05:30  qDJRJzqCZqw1z5HifmooXjFtimbU2hkZ\n",
       "2020-08-06 16:49:01+05:30  QEbVjx86LiPw5lDr7EcuZeRLavJqI6DD\n",
       "2020-08-06 16:48:59+05:30  YNC5H_3VNgK8nTpTpALF91JRC3bWihBz\n",
       "\n",
       "[1000 rows x 1 columns]"
      ]
     },
     "execution_count": 231,
     "metadata": {},
     "output_type": "execute_result"
    }
   ],
   "source": [
    "df = pd.DataFrame({'VersionId':x},index=y)\n",
    "df"
   ]
  },
  {
   "cell_type": "code",
   "execution_count": 232,
   "metadata": {},
   "outputs": [
    {
     "data": {
      "text/plain": [
       "numpy.datetime64('2020-08-06T11:41:51.000000000')"
      ]
     },
     "execution_count": 232,
     "metadata": {},
     "output_type": "execute_result"
    }
   ],
   "source": [
    "start = df.index.values[0]\n",
    "start"
   ]
  },
  {
   "cell_type": "code",
   "execution_count": 233,
   "metadata": {},
   "outputs": [],
   "source": [
    "start = pd.Timestamp(start,tz='Asia/Kolkata')"
   ]
  },
  {
   "cell_type": "code",
   "execution_count": 234,
   "metadata": {},
   "outputs": [
    {
     "data": {
      "text/plain": [
       "Timestamp('2020-08-06 17:11:51+0530', tz='Asia/Kolkata')"
      ]
     },
     "execution_count": 234,
     "metadata": {},
     "output_type": "execute_result"
    }
   ],
   "source": [
    "start"
   ]
  },
  {
   "cell_type": "code",
   "execution_count": 235,
   "metadata": {},
   "outputs": [
    {
     "data": {
      "text/plain": [
       "Timestamp('2020-08-06 17:01:51+0530', tz='Asia/Kolkata')"
      ]
     },
     "execution_count": 235,
     "metadata": {},
     "output_type": "execute_result"
    }
   ],
   "source": [
    "end = start - pd.Timedelta('0 days 00:10:00')\n",
    "end"
   ]
  },
  {
   "cell_type": "code",
   "execution_count": 236,
   "metadata": {},
   "outputs": [],
   "source": [
    "df2 = df[start:end]"
   ]
  },
  {
   "cell_type": "code",
   "execution_count": 237,
   "metadata": {},
   "outputs": [
    {
     "data": {
      "text/html": [
       "<div>\n",
       "<style scoped>\n",
       "    .dataframe tbody tr th:only-of-type {\n",
       "        vertical-align: middle;\n",
       "    }\n",
       "\n",
       "    .dataframe tbody tr th {\n",
       "        vertical-align: top;\n",
       "    }\n",
       "\n",
       "    .dataframe thead th {\n",
       "        text-align: right;\n",
       "    }\n",
       "</style>\n",
       "<table border=\"1\" class=\"dataframe\">\n",
       "  <thead>\n",
       "    <tr style=\"text-align: right;\">\n",
       "      <th></th>\n",
       "      <th>VersionId</th>\n",
       "    </tr>\n",
       "  </thead>\n",
       "  <tbody>\n",
       "    <tr>\n",
       "      <th>2020-08-06 17:11:51+05:30</th>\n",
       "      <td>RnVN1rjYbDrBGESqPs4nnGsUo.qls7XU</td>\n",
       "    </tr>\n",
       "    <tr>\n",
       "      <th>2020-08-06 17:11:50+05:30</th>\n",
       "      <td>VBu5Y65bN7tdeZlmWRHtcJH3JbeS2Lc2</td>\n",
       "    </tr>\n",
       "    <tr>\n",
       "      <th>2020-08-06 17:11:49+05:30</th>\n",
       "      <td>4XfdIX5rrgiec9MXQX0cYCKz4Qa.2iJD</td>\n",
       "    </tr>\n",
       "    <tr>\n",
       "      <th>2020-08-06 17:11:48+05:30</th>\n",
       "      <td>8DDv_y6ODR3hfIgPqZl3clO3HlTfgG.c</td>\n",
       "    </tr>\n",
       "    <tr>\n",
       "      <th>2020-08-06 17:11:46+05:30</th>\n",
       "      <td>vC1ViwU.dYI22smPSlACoSFXy5IqvOY9</td>\n",
       "    </tr>\n",
       "    <tr>\n",
       "      <th>...</th>\n",
       "      <td>...</td>\n",
       "    </tr>\n",
       "    <tr>\n",
       "      <th>2020-08-06 17:01:57+05:30</th>\n",
       "      <td>8A5bWU.qkXLXo4WaXHJtryNRfce8P.Xb</td>\n",
       "    </tr>\n",
       "    <tr>\n",
       "      <th>2020-08-06 17:01:55+05:30</th>\n",
       "      <td>ae3sLdW6Nle3EVKcGVokDqkaK5EvaEbB</td>\n",
       "    </tr>\n",
       "    <tr>\n",
       "      <th>2020-08-06 17:01:54+05:30</th>\n",
       "      <td>5PNzeVOoLqBcwGfk4n8HSm2m.lz1LpgH</td>\n",
       "    </tr>\n",
       "    <tr>\n",
       "      <th>2020-08-06 17:01:53+05:30</th>\n",
       "      <td>tyyBMj3l0MC2sNuEsYUqfeEs59vLU58w</td>\n",
       "    </tr>\n",
       "    <tr>\n",
       "      <th>2020-08-06 17:01:51+05:30</th>\n",
       "      <td>xFgfvkNXsqcQ_KRHy5FIgvAl5qL7iuNU</td>\n",
       "    </tr>\n",
       "  </tbody>\n",
       "</table>\n",
       "<p>432 rows × 1 columns</p>\n",
       "</div>"
      ],
      "text/plain": [
       "                                                  VersionId\n",
       "2020-08-06 17:11:51+05:30  RnVN1rjYbDrBGESqPs4nnGsUo.qls7XU\n",
       "2020-08-06 17:11:50+05:30  VBu5Y65bN7tdeZlmWRHtcJH3JbeS2Lc2\n",
       "2020-08-06 17:11:49+05:30  4XfdIX5rrgiec9MXQX0cYCKz4Qa.2iJD\n",
       "2020-08-06 17:11:48+05:30  8DDv_y6ODR3hfIgPqZl3clO3HlTfgG.c\n",
       "2020-08-06 17:11:46+05:30  vC1ViwU.dYI22smPSlACoSFXy5IqvOY9\n",
       "...                                                     ...\n",
       "2020-08-06 17:01:57+05:30  8A5bWU.qkXLXo4WaXHJtryNRfce8P.Xb\n",
       "2020-08-06 17:01:55+05:30  ae3sLdW6Nle3EVKcGVokDqkaK5EvaEbB\n",
       "2020-08-06 17:01:54+05:30  5PNzeVOoLqBcwGfk4n8HSm2m.lz1LpgH\n",
       "2020-08-06 17:01:53+05:30  tyyBMj3l0MC2sNuEsYUqfeEs59vLU58w\n",
       "2020-08-06 17:01:51+05:30  xFgfvkNXsqcQ_KRHy5FIgvAl5qL7iuNU\n",
       "\n",
       "[432 rows x 1 columns]"
      ]
     },
     "execution_count": 237,
     "metadata": {},
     "output_type": "execute_result"
    }
   ],
   "source": [
    "df2"
   ]
  },
  {
   "cell_type": "code",
   "execution_count": 238,
   "metadata": {},
   "outputs": [
    {
     "data": {
      "text/plain": [
       "True"
      ]
     },
     "execution_count": 238,
     "metadata": {},
     "output_type": "execute_result"
    }
   ],
   "source": [
    "start>end"
   ]
  },
  {
   "cell_type": "code",
   "execution_count": null,
   "metadata": {},
   "outputs": [],
   "source": []
  }
 ],
 "metadata": {
  "kernelspec": {
   "display_name": "Python 3",
   "language": "python",
   "name": "python3"
  },
  "language_info": {
   "codemirror_mode": {
    "name": "ipython",
    "version": 3
   },
   "file_extension": ".py",
   "mimetype": "text/x-python",
   "name": "python",
   "nbconvert_exporter": "python",
   "pygments_lexer": "ipython3",
   "version": "3.8.5"
  }
 },
 "nbformat": 4,
 "nbformat_minor": 2
}
