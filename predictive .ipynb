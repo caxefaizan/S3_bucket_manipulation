{
 "cells": [
  {
   "cell_type": "code",
   "execution_count": 15,
   "metadata": {},
   "outputs": [],
   "source": [
    "import numpy as np\n",
    "import random\n",
    "import pandas as pd\n",
    "np.random.seed(196)"
   ]
  },
  {
   "cell_type": "code",
   "execution_count": 16,
   "metadata": {},
   "outputs": [],
   "source": [
    "from sklearn.model_selection import train_test_split"
   ]
  },
  {
   "cell_type": "code",
   "execution_count": 17,
   "metadata": {},
   "outputs": [],
   "source": [
    "V1 = np.random.uniform(220.08,240.53,86400)\n",
    "C1 = np.random.uniform(0.59,4.08,86400)\n",
    "F1 = np.random.uniform(49.98,50.10,86400)\n",
    "PF1 = np.random.uniform(0.691161,0.8,86400)\n",
    "A1 = (V1*C1)/1.41421356237\n",
    "AP1 = A1/PF1\n",
    "RP1 = ((AP1**2)-(A1**2))**(1/2)\n",
    "\n",
    "df = pd.DataFrame({'V1':V1,'C1':C1,'PF1':PF1,'AP1':AP1,'RP1':RP1,'F1':F1,'A1':A1})"
   ]
  },
  {
   "cell_type": "code",
   "execution_count": 18,
   "metadata": {},
   "outputs": [],
   "source": [
    "from sklearn.ensemble import RandomForestRegressor\n",
    "np.random.seed(42)"
   ]
  },
  {
   "cell_type": "code",
   "execution_count": 19,
   "metadata": {},
   "outputs": [
    {
     "data": {
      "text/html": [
       "<div>\n",
       "<style scoped>\n",
       "    .dataframe tbody tr th:only-of-type {\n",
       "        vertical-align: middle;\n",
       "    }\n",
       "\n",
       "    .dataframe tbody tr th {\n",
       "        vertical-align: top;\n",
       "    }\n",
       "\n",
       "    .dataframe thead th {\n",
       "        text-align: right;\n",
       "    }\n",
       "</style>\n",
       "<table border=\"1\" class=\"dataframe\">\n",
       "  <thead>\n",
       "    <tr style=\"text-align: right;\">\n",
       "      <th></th>\n",
       "      <th>V1</th>\n",
       "      <th>C1</th>\n",
       "      <th>PF1</th>\n",
       "      <th>AP1</th>\n",
       "      <th>RP1</th>\n",
       "      <th>F1</th>\n",
       "      <th>A1</th>\n",
       "    </tr>\n",
       "  </thead>\n",
       "  <tbody>\n",
       "    <tr>\n",
       "      <th>0</th>\n",
       "      <td>234.180465</td>\n",
       "      <td>2.956399</td>\n",
       "      <td>0.779041</td>\n",
       "      <td>628.402893</td>\n",
       "      <td>393.991280</td>\n",
       "      <td>50.048006</td>\n",
       "      <td>489.551905</td>\n",
       "    </tr>\n",
       "    <tr>\n",
       "      <th>1</th>\n",
       "      <td>231.899597</td>\n",
       "      <td>2.710027</td>\n",
       "      <td>0.759813</td>\n",
       "      <td>584.859973</td>\n",
       "      <td>380.241780</td>\n",
       "      <td>50.040194</td>\n",
       "      <td>444.384267</td>\n",
       "    </tr>\n",
       "    <tr>\n",
       "      <th>2</th>\n",
       "      <td>221.096090</td>\n",
       "      <td>1.298912</td>\n",
       "      <td>0.752028</td>\n",
       "      <td>270.029929</td>\n",
       "      <td>177.985267</td>\n",
       "      <td>50.082703</td>\n",
       "      <td>203.069957</td>\n",
       "    </tr>\n",
       "    <tr>\n",
       "      <th>3</th>\n",
       "      <td>223.742515</td>\n",
       "      <td>1.816916</td>\n",
       "      <td>0.719971</td>\n",
       "      <td>399.257646</td>\n",
       "      <td>277.086339</td>\n",
       "      <td>49.980744</td>\n",
       "      <td>287.454046</td>\n",
       "    </tr>\n",
       "    <tr>\n",
       "      <th>4</th>\n",
       "      <td>230.451922</td>\n",
       "      <td>1.276928</td>\n",
       "      <td>0.733568</td>\n",
       "      <td>283.655666</td>\n",
       "      <td>192.776928</td>\n",
       "      <td>50.099020</td>\n",
       "      <td>208.080736</td>\n",
       "    </tr>\n",
       "  </tbody>\n",
       "</table>\n",
       "</div>"
      ],
      "text/plain": [
       "           V1        C1       PF1         AP1         RP1         F1  \\\n",
       "0  234.180465  2.956399  0.779041  628.402893  393.991280  50.048006   \n",
       "1  231.899597  2.710027  0.759813  584.859973  380.241780  50.040194   \n",
       "2  221.096090  1.298912  0.752028  270.029929  177.985267  50.082703   \n",
       "3  223.742515  1.816916  0.719971  399.257646  277.086339  49.980744   \n",
       "4  230.451922  1.276928  0.733568  283.655666  192.776928  50.099020   \n",
       "\n",
       "           A1  \n",
       "0  489.551905  \n",
       "1  444.384267  \n",
       "2  203.069957  \n",
       "3  287.454046  \n",
       "4  208.080736  "
      ]
     },
     "execution_count": 19,
     "metadata": {},
     "output_type": "execute_result"
    }
   ],
   "source": [
    "df.head()"
   ]
  },
  {
   "cell_type": "code",
   "execution_count": 20,
   "metadata": {},
   "outputs": [
    {
     "data": {
      "text/plain": [
       "RandomForestRegressor()"
      ]
     },
     "execution_count": 20,
     "metadata": {},
     "output_type": "execute_result"
    }
   ],
   "source": [
    "X = df.drop('A1',axis = 1)\n",
    "Y = df['A1']\n",
    "\n",
    "X_train,X_test,Y_train,Y_test = train_test_split(X,Y,test_size=0.2)\n",
    "\n",
    "model = RandomForestRegressor()\n",
    "model.fit(X_train,Y_train)"
   ]
  },
  {
   "cell_type": "code",
   "execution_count": 21,
   "metadata": {},
   "outputs": [
    {
     "data": {
      "text/plain": [
       "0.999997883914399"
      ]
     },
     "execution_count": 21,
     "metadata": {},
     "output_type": "execute_result"
    }
   ],
   "source": [
    "model.score(X_test,Y_test)"
   ]
  },
  {
   "cell_type": "code",
   "execution_count": 31,
   "metadata": {},
   "outputs": [],
   "source": [
    "df2 =pd.DataFrame({'V1': 280.08,'C1':0.64,'PF1':0.70,'AP1':180,'RP1':128.61,'F1':50.00},index=[0])"
   ]
  },
  {
   "cell_type": "code",
   "execution_count": 32,
   "metadata": {},
   "outputs": [
    {
     "data": {
      "text/plain": [
       "array([108.56909447])"
      ]
     },
     "execution_count": 32,
     "metadata": {},
     "output_type": "execute_result"
    }
   ],
   "source": [
    "model.predict(df2)"
   ]
  },
  {
   "cell_type": "code",
   "execution_count": 34,
   "metadata": {},
   "outputs": [
    {
     "data": {
      "text/plain": [
       "78.1632"
      ]
     },
     "execution_count": 34,
     "metadata": {},
     "output_type": "execute_result"
    }
   ],
   "source": [
    "((108.56*24)/1000)*30"
   ]
  },
  {
   "cell_type": "code",
   "execution_count": 35,
   "metadata": {},
   "outputs": [
    {
     "data": {
      "text/html": [
       "<div>\n",
       "<style scoped>\n",
       "    .dataframe tbody tr th:only-of-type {\n",
       "        vertical-align: middle;\n",
       "    }\n",
       "\n",
       "    .dataframe tbody tr th {\n",
       "        vertical-align: top;\n",
       "    }\n",
       "\n",
       "    .dataframe thead th {\n",
       "        text-align: right;\n",
       "    }\n",
       "</style>\n",
       "<table border=\"1\" class=\"dataframe\">\n",
       "  <thead>\n",
       "    <tr style=\"text-align: right;\">\n",
       "      <th></th>\n",
       "      <th>V1</th>\n",
       "      <th>C1</th>\n",
       "      <th>PF1</th>\n",
       "      <th>AP1</th>\n",
       "      <th>RP1</th>\n",
       "      <th>F1</th>\n",
       "    </tr>\n",
       "  </thead>\n",
       "  <tbody>\n",
       "    <tr>\n",
       "      <th>43404</th>\n",
       "      <td>231.704610</td>\n",
       "      <td>3.315743</td>\n",
       "      <td>0.723985</td>\n",
       "      <td>750.362823</td>\n",
       "      <td>517.612432</td>\n",
       "      <td>50.056850</td>\n",
       "    </tr>\n",
       "    <tr>\n",
       "      <th>78317</th>\n",
       "      <td>238.667730</td>\n",
       "      <td>3.621201</td>\n",
       "      <td>0.723002</td>\n",
       "      <td>845.263469</td>\n",
       "      <td>583.947144</td>\n",
       "      <td>50.054312</td>\n",
       "    </tr>\n",
       "    <tr>\n",
       "      <th>6096</th>\n",
       "      <td>229.015064</td>\n",
       "      <td>1.595588</td>\n",
       "      <td>0.795501</td>\n",
       "      <td>324.809799</td>\n",
       "      <td>196.819355</td>\n",
       "      <td>50.046732</td>\n",
       "    </tr>\n",
       "    <tr>\n",
       "      <th>40929</th>\n",
       "      <td>233.459311</td>\n",
       "      <td>3.872812</td>\n",
       "      <td>0.770823</td>\n",
       "      <td>829.407263</td>\n",
       "      <td>528.373131</td>\n",
       "      <td>50.021993</td>\n",
       "    </tr>\n",
       "    <tr>\n",
       "      <th>59505</th>\n",
       "      <td>222.864902</td>\n",
       "      <td>3.862764</td>\n",
       "      <td>0.750634</td>\n",
       "      <td>810.954359</td>\n",
       "      <td>535.812002</td>\n",
       "      <td>50.066755</td>\n",
       "    </tr>\n",
       "    <tr>\n",
       "      <th>...</th>\n",
       "      <td>...</td>\n",
       "      <td>...</td>\n",
       "      <td>...</td>\n",
       "      <td>...</td>\n",
       "      <td>...</td>\n",
       "      <td>...</td>\n",
       "    </tr>\n",
       "    <tr>\n",
       "      <th>51610</th>\n",
       "      <td>231.142302</td>\n",
       "      <td>1.602933</td>\n",
       "      <td>0.755714</td>\n",
       "      <td>346.674765</td>\n",
       "      <td>227.037898</td>\n",
       "      <td>50.038476</td>\n",
       "    </tr>\n",
       "    <tr>\n",
       "      <th>85047</th>\n",
       "      <td>232.392431</td>\n",
       "      <td>2.641886</td>\n",
       "      <td>0.794417</td>\n",
       "      <td>546.477575</td>\n",
       "      <td>331.915413</td>\n",
       "      <td>50.039743</td>\n",
       "    </tr>\n",
       "    <tr>\n",
       "      <th>47956</th>\n",
       "      <td>221.738785</td>\n",
       "      <td>3.896065</td>\n",
       "      <td>0.717648</td>\n",
       "      <td>851.218860</td>\n",
       "      <td>592.793747</td>\n",
       "      <td>49.988659</td>\n",
       "    </tr>\n",
       "    <tr>\n",
       "      <th>5780</th>\n",
       "      <td>222.132726</td>\n",
       "      <td>3.969352</td>\n",
       "      <td>0.790595</td>\n",
       "      <td>788.611388</td>\n",
       "      <td>482.897666</td>\n",
       "      <td>50.017718</td>\n",
       "    </tr>\n",
       "    <tr>\n",
       "      <th>52314</th>\n",
       "      <td>223.881925</td>\n",
       "      <td>2.586801</td>\n",
       "      <td>0.736711</td>\n",
       "      <td>555.866091</td>\n",
       "      <td>375.881205</td>\n",
       "      <td>50.041010</td>\n",
       "    </tr>\n",
       "  </tbody>\n",
       "</table>\n",
       "<p>17280 rows × 6 columns</p>\n",
       "</div>"
      ],
      "text/plain": [
       "               V1        C1       PF1         AP1         RP1         F1\n",
       "43404  231.704610  3.315743  0.723985  750.362823  517.612432  50.056850\n",
       "78317  238.667730  3.621201  0.723002  845.263469  583.947144  50.054312\n",
       "6096   229.015064  1.595588  0.795501  324.809799  196.819355  50.046732\n",
       "40929  233.459311  3.872812  0.770823  829.407263  528.373131  50.021993\n",
       "59505  222.864902  3.862764  0.750634  810.954359  535.812002  50.066755\n",
       "...           ...       ...       ...         ...         ...        ...\n",
       "51610  231.142302  1.602933  0.755714  346.674765  227.037898  50.038476\n",
       "85047  232.392431  2.641886  0.794417  546.477575  331.915413  50.039743\n",
       "47956  221.738785  3.896065  0.717648  851.218860  592.793747  49.988659\n",
       "5780   222.132726  3.969352  0.790595  788.611388  482.897666  50.017718\n",
       "52314  223.881925  2.586801  0.736711  555.866091  375.881205  50.041010\n",
       "\n",
       "[17280 rows x 6 columns]"
      ]
     },
     "execution_count": 35,
     "metadata": {},
     "output_type": "execute_result"
    }
   ],
   "source": [
    "\n",
    "X_test"
   ]
  },
  {
   "cell_type": "code",
   "execution_count": 36,
   "metadata": {},
   "outputs": [],
   "source": [
    "df3 =pd.DataFrame({'V1': 231.704610,'C1':3.315743,'PF1':0.723985,'AP1':750.362823,'RP1':517.612432,'F1':50.056850},index=[0])"
   ]
  },
  {
   "cell_type": "code",
   "execution_count": 38,
   "metadata": {},
   "outputs": [
    {
     "data": {
      "text/plain": [
       "array([543.32193501])"
      ]
     },
     "execution_count": 38,
     "metadata": {},
     "output_type": "execute_result"
    }
   ],
   "source": [
    "model.predict(df3)"
   ]
  },
  {
   "cell_type": "code",
   "execution_count": 40,
   "metadata": {},
   "outputs": [
    {
     "data": {
      "text/plain": [
       "43404    543.251080\n",
       "78317    611.126882\n",
       "6096     258.386429\n",
       "40929    639.326397\n",
       "59505    608.730212\n",
       "            ...    \n",
       "51610    261.986995\n",
       "85047    434.131201\n",
       "47956    610.875700\n",
       "5780     623.472345\n",
       "52314    409.512431\n",
       "Name: A1, Length: 17280, dtype: float64"
      ]
     },
     "execution_count": 40,
     "metadata": {},
     "output_type": "execute_result"
    }
   ],
   "source": [
    "Y_test"
   ]
  },
  {
   "cell_type": "code",
   "execution_count": 41,
   "metadata": {},
   "outputs": [],
   "source": [
    "V1 = np.random.uniform(220.08,240.53,86400)\n",
    "C1 = np.random.uniform(0.59,4.08,86400)\n",
    "PF1 = np.random.uniform(0.691161,0.8,86400)\n",
    "A1 = (V1*C1)/1.41421356237\n",
    "\n",
    "df4 = pd.DataFrame({'V1':V1,'C1':C1,'PF1':PF1,'A1':A1})"
   ]
  },
  {
   "cell_type": "code",
   "execution_count": 42,
   "metadata": {},
   "outputs": [
    {
     "data": {
      "text/plain": [
       "RandomForestRegressor()"
      ]
     },
     "execution_count": 42,
     "metadata": {},
     "output_type": "execute_result"
    }
   ],
   "source": [
    "X = df4.drop('A1',axis = 1)\n",
    "Y = df4['A1']\n",
    "\n",
    "X_train,X_test,Y_train,Y_test = train_test_split(X,Y,test_size=0.2)\n",
    "\n",
    "model = RandomForestRegressor()\n",
    "model.fit(X_train,Y_train)"
   ]
  },
  {
   "cell_type": "code",
   "execution_count": 43,
   "metadata": {},
   "outputs": [
    {
     "data": {
      "text/plain": [
       "0.999998304470228"
      ]
     },
     "execution_count": 43,
     "metadata": {},
     "output_type": "execute_result"
    }
   ],
   "source": [
    "model.score(X_test,Y_test)"
   ]
  },
  {
   "cell_type": "code",
   "execution_count": 44,
   "metadata": {},
   "outputs": [],
   "source": [
    "V1 = np.random.uniform(220.08,240.53,86400)\n",
    "C1 = np.random.uniform(0.59,4.08,86400)\n",
    "F1 = np.random.uniform(49.98,50.10,86400)\n",
    "PF1 = np.random.uniform(0.691161,0.8,86400)\n",
    "A1 = (V1*C1)/1.41421356237\n",
    "AP1 = A1/PF1\n",
    "RP1 = ((AP1**2)-(A1**2))**(1/2)\n",
    "\n",
    "df5 = pd.DataFrame({'PF1':PF1,'AP1':AP1,'A1':A1})"
   ]
  },
  {
   "cell_type": "code",
   "execution_count": 45,
   "metadata": {},
   "outputs": [
    {
     "data": {
      "text/plain": [
       "0.999997773115459"
      ]
     },
     "execution_count": 45,
     "metadata": {},
     "output_type": "execute_result"
    }
   ],
   "source": [
    "X = df5.drop('A1',axis = 1)\n",
    "Y = df5['A1']\n",
    "\n",
    "X_train,X_test,Y_train,Y_test = train_test_split(X,Y,test_size=0.2)\n",
    "\n",
    "model = RandomForestRegressor()\n",
    "model.fit(X_train,Y_train)\n",
    "model.score(X_test,Y_test)"
   ]
  },
  {
   "cell_type": "code",
   "execution_count": 46,
   "metadata": {},
   "outputs": [
    {
     "data": {
      "text/plain": [
       "31784    277.354222\n",
       "62401    233.420458\n",
       "64764    500.390418\n",
       "17749    631.352951\n",
       "57432    272.306112\n",
       "            ...    \n",
       "32852    202.948441\n",
       "22711    469.909585\n",
       "24439    649.571573\n",
       "9730     403.208576\n",
       "71353    599.983882\n",
       "Name: A1, Length: 17280, dtype: float64"
      ]
     },
     "execution_count": 46,
     "metadata": {},
     "output_type": "execute_result"
    }
   ],
   "source": [
    "Y_test"
   ]
  },
  {
   "cell_type": "code",
   "execution_count": 47,
   "metadata": {},
   "outputs": [
    {
     "data": {
      "text/html": [
       "<div>\n",
       "<style scoped>\n",
       "    .dataframe tbody tr th:only-of-type {\n",
       "        vertical-align: middle;\n",
       "    }\n",
       "\n",
       "    .dataframe tbody tr th {\n",
       "        vertical-align: top;\n",
       "    }\n",
       "\n",
       "    .dataframe thead th {\n",
       "        text-align: right;\n",
       "    }\n",
       "</style>\n",
       "<table border=\"1\" class=\"dataframe\">\n",
       "  <thead>\n",
       "    <tr style=\"text-align: right;\">\n",
       "      <th></th>\n",
       "      <th>PF1</th>\n",
       "      <th>AP1</th>\n",
       "    </tr>\n",
       "  </thead>\n",
       "  <tbody>\n",
       "    <tr>\n",
       "      <th>31784</th>\n",
       "      <td>0.711768</td>\n",
       "      <td>389.669296</td>\n",
       "    </tr>\n",
       "    <tr>\n",
       "      <th>62401</th>\n",
       "      <td>0.796512</td>\n",
       "      <td>293.053421</td>\n",
       "    </tr>\n",
       "    <tr>\n",
       "      <th>64764</th>\n",
       "      <td>0.783506</td>\n",
       "      <td>638.655827</td>\n",
       "    </tr>\n",
       "    <tr>\n",
       "      <th>17749</th>\n",
       "      <td>0.741518</td>\n",
       "      <td>851.433459</td>\n",
       "    </tr>\n",
       "    <tr>\n",
       "      <th>57432</th>\n",
       "      <td>0.737993</td>\n",
       "      <td>368.982101</td>\n",
       "    </tr>\n",
       "    <tr>\n",
       "      <th>...</th>\n",
       "      <td>...</td>\n",
       "      <td>...</td>\n",
       "    </tr>\n",
       "    <tr>\n",
       "      <th>32852</th>\n",
       "      <td>0.773728</td>\n",
       "      <td>262.299511</td>\n",
       "    </tr>\n",
       "    <tr>\n",
       "      <th>22711</th>\n",
       "      <td>0.713476</td>\n",
       "      <td>658.620205</td>\n",
       "    </tr>\n",
       "    <tr>\n",
       "      <th>24439</th>\n",
       "      <td>0.735568</td>\n",
       "      <td>883.088405</td>\n",
       "    </tr>\n",
       "    <tr>\n",
       "      <th>9730</th>\n",
       "      <td>0.752148</td>\n",
       "      <td>536.076186</td>\n",
       "    </tr>\n",
       "    <tr>\n",
       "      <th>71353</th>\n",
       "      <td>0.705077</td>\n",
       "      <td>850.948291</td>\n",
       "    </tr>\n",
       "  </tbody>\n",
       "</table>\n",
       "<p>17280 rows × 2 columns</p>\n",
       "</div>"
      ],
      "text/plain": [
       "            PF1         AP1\n",
       "31784  0.711768  389.669296\n",
       "62401  0.796512  293.053421\n",
       "64764  0.783506  638.655827\n",
       "17749  0.741518  851.433459\n",
       "57432  0.737993  368.982101\n",
       "...         ...         ...\n",
       "32852  0.773728  262.299511\n",
       "22711  0.713476  658.620205\n",
       "24439  0.735568  883.088405\n",
       "9730   0.752148  536.076186\n",
       "71353  0.705077  850.948291\n",
       "\n",
       "[17280 rows x 2 columns]"
      ]
     },
     "execution_count": 47,
     "metadata": {},
     "output_type": "execute_result"
    }
   ],
   "source": [
    "X_test"
   ]
  },
  {
   "cell_type": "code",
   "execution_count": 52,
   "metadata": {},
   "outputs": [
    {
     "data": {
      "text/plain": [
       "array([277.43402962])"
      ]
     },
     "execution_count": 52,
     "metadata": {},
     "output_type": "execute_result"
    }
   ],
   "source": [
    "model.predict(pd.DataFrame({'PF1':0.711768,'AP1':389.669296},index=[0]))"
   ]
  },
  {
   "cell_type": "code",
   "execution_count": null,
   "metadata": {},
   "outputs": [],
   "source": []
  }
 ],
 "metadata": {
  "kernelspec": {
   "display_name": "Python 3",
   "language": "python",
   "name": "python3"
  },
  "language_info": {
   "codemirror_mode": {
    "name": "ipython",
    "version": 3
   },
   "file_extension": ".py",
   "mimetype": "text/x-python",
   "name": "python",
   "nbconvert_exporter": "python",
   "pygments_lexer": "ipython3",
   "version": "3.8.5"
  }
 },
 "nbformat": 4,
 "nbformat_minor": 4
}
