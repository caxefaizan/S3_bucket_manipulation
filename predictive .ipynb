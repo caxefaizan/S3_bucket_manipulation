{
 "cells": [
  {
   "cell_type": "code",
   "execution_count": 1,
   "metadata": {},
   "outputs": [],
   "source": [
    "import numpy as np\n",
    "import random\n",
    "import pandas as pd\n",
    "np.random.seed(196)"
   ]
  },
  {
   "cell_type": "code",
   "execution_count": 2,
   "metadata": {},
   "outputs": [],
   "source": [
    "from sklearn.model_selection import train_test_split"
   ]
  },
  {
   "cell_type": "code",
   "execution_count": 3,
   "metadata": {},
   "outputs": [],
   "source": [
    "V1 = np.random.uniform(220.08,240.53,2592000)\n",
    "C1 = np.random.uniform(0.59,4.08,2592000)\n",
    "F1 = np.random.uniform(49.98,50.10,2592000)\n",
    "PF1 = np.random.uniform(0.691161,0.8,2592000)\n",
    "A1 = (V1*C1)/1.41421356237\n",
    "AP1 = A1/PF1\n",
    "RP1 = ((AP1**2)-(A1**2))**(1/2)\n",
    "\n",
    "df = pd.DataFrame({'V1':V1,'C1':C1,'PF1':PF1,'AP1':AP1,'RP1':RP1,'F1':F1,'A1':A1})"
   ]
  },
  {
   "cell_type": "code",
   "execution_count": 12,
   "metadata": {},
   "outputs": [],
   "source": [
    "from sklearn.ensemble import RandomForestRegressor\n",
    "np.random.seed(42)"
   ]
  },
  {
   "cell_type": "code",
   "execution_count": 5,
   "metadata": {},
   "outputs": [
    {
     "data": {
      "text/html": [
       "<div>\n",
       "<style scoped>\n",
       "    .dataframe tbody tr th:only-of-type {\n",
       "        vertical-align: middle;\n",
       "    }\n",
       "\n",
       "    .dataframe tbody tr th {\n",
       "        vertical-align: top;\n",
       "    }\n",
       "\n",
       "    .dataframe thead th {\n",
       "        text-align: right;\n",
       "    }\n",
       "</style>\n",
       "<table border=\"1\" class=\"dataframe\">\n",
       "  <thead>\n",
       "    <tr style=\"text-align: right;\">\n",
       "      <th></th>\n",
       "      <th>V1</th>\n",
       "      <th>C1</th>\n",
       "      <th>PF1</th>\n",
       "      <th>AP1</th>\n",
       "      <th>RP1</th>\n",
       "      <th>F1</th>\n",
       "      <th>A1</th>\n",
       "    </tr>\n",
       "  </thead>\n",
       "  <tbody>\n",
       "    <tr>\n",
       "      <th>0</th>\n",
       "      <td>234.180465</td>\n",
       "      <td>3.918611</td>\n",
       "      <td>0.796190</td>\n",
       "      <td>814.988094</td>\n",
       "      <td>493.106157</td>\n",
       "      <td>50.075857</td>\n",
       "      <td>648.885129</td>\n",
       "    </tr>\n",
       "    <tr>\n",
       "      <th>1</th>\n",
       "      <td>231.899597</td>\n",
       "      <td>0.765243</td>\n",
       "      <td>0.708204</td>\n",
       "      <td>177.184702</td>\n",
       "      <td>125.093871</td>\n",
       "      <td>50.050566</td>\n",
       "      <td>125.482835</td>\n",
       "    </tr>\n",
       "    <tr>\n",
       "      <th>2</th>\n",
       "      <td>221.096090</td>\n",
       "      <td>2.048646</td>\n",
       "      <td>0.747584</td>\n",
       "      <td>428.422904</td>\n",
       "      <td>284.544262</td>\n",
       "      <td>50.093331</td>\n",
       "      <td>320.282293</td>\n",
       "    </tr>\n",
       "    <tr>\n",
       "      <th>3</th>\n",
       "      <td>223.742515</td>\n",
       "      <td>1.949945</td>\n",
       "      <td>0.720886</td>\n",
       "      <td>427.946358</td>\n",
       "      <td>296.589752</td>\n",
       "      <td>50.069783</td>\n",
       "      <td>308.500574</td>\n",
       "    </tr>\n",
       "    <tr>\n",
       "      <th>4</th>\n",
       "      <td>230.451922</td>\n",
       "      <td>3.933060</td>\n",
       "      <td>0.752925</td>\n",
       "      <td>851.224909</td>\n",
       "      <td>560.196718</td>\n",
       "      <td>50.034531</td>\n",
       "      <td>640.908326</td>\n",
       "    </tr>\n",
       "  </tbody>\n",
       "</table>\n",
       "</div>"
      ],
      "text/plain": [
       "           V1        C1       PF1         AP1         RP1         F1  \\\n",
       "0  234.180465  3.918611  0.796190  814.988094  493.106157  50.075857   \n",
       "1  231.899597  0.765243  0.708204  177.184702  125.093871  50.050566   \n",
       "2  221.096090  2.048646  0.747584  428.422904  284.544262  50.093331   \n",
       "3  223.742515  1.949945  0.720886  427.946358  296.589752  50.069783   \n",
       "4  230.451922  3.933060  0.752925  851.224909  560.196718  50.034531   \n",
       "\n",
       "           A1  \n",
       "0  648.885129  \n",
       "1  125.482835  \n",
       "2  320.282293  \n",
       "3  308.500574  \n",
       "4  640.908326  "
      ]
     },
     "execution_count": 5,
     "metadata": {},
     "output_type": "execute_result"
    }
   ],
   "source": [
    "df.head()"
   ]
  },
  {
   "cell_type": "code",
   "execution_count": null,
   "metadata": {},
   "outputs": [],
   "source": [
    "X = df.drop('A1',axis = 1)\n",
    "Y = df['A1']\n",
    "\n",
    "X_train,X_test,Y_train,Y_test = train_test_split(X,Y,test_size=0.2)\n",
    "\n",
    "model = RandomForestRegressor()\n",
    "model.fit(X_train,Y_train)"
   ]
  },
  {
   "cell_type": "code",
   "execution_count": null,
   "metadata": {},
   "outputs": [],
   "source": [
    "model.score(X_test,Y_test)"
   ]
  },
  {
   "cell_type": "code",
   "execution_count": null,
   "metadata": {},
   "outputs": [],
   "source": []
  }
 ],
 "metadata": {
  "kernelspec": {
   "display_name": "Python 3",
   "language": "python",
   "name": "python3"
  },
  "language_info": {
   "codemirror_mode": {
    "name": "ipython",
    "version": 3
   },
   "file_extension": ".py",
   "mimetype": "text/x-python",
   "name": "python",
   "nbconvert_exporter": "python",
   "pygments_lexer": "ipython3",
   "version": "3.8.5"
  }
 },
 "nbformat": 4,
 "nbformat_minor": 4
}
