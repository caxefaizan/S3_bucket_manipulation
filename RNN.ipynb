{
 "cells": [
  {
   "cell_type": "markdown",
   "metadata": {},
   "source": [
    "# How to use the RNN Disaggregator with NILMTK\n",
    "This is an example on how to train and use the Recurrent Network (RNN) disaggregator on the REDD dataset using NILMTK.\n",
    "\n",
    "This network was described in the Neural NILM paper.\n",
    "\n",
    "First of all, we need to train the RNNDisaggregator using the train data. For this example, both train and test data are consumption data of the microwave of the first REDD building."
   ]
  },
  {
   "cell_type": "code",
   "execution_count": 1,
   "metadata": {},
   "outputs": [],
   "source": [
    "import nilmtk"
   ]
  },
  {
   "cell_type": "code",
   "execution_count": 2,
   "metadata": {},
   "outputs": [],
   "source": [
    "import warnings; warnings.filterwarnings('ignore')\n",
    "\n",
    "from nilmtk import DataSet\n",
    "train = DataSet('redd.h5')\n",
    "train.set_window(end=\"30-4-2011\") #Use data only until 4/30/2011\n",
    "train_elec = train.buildings[1].elec"
   ]
  },
  {
   "cell_type": "markdown",
   "metadata": {},
   "source": [
    "Next, we need to define the disaggregator model. For this example, the input window will have size of 200 samples.\n",
    "\n"
   ]
  },
  {
   "cell_type": "code",
   "execution_count": 14,
   "metadata": {},
   "outputs": [
    {
     "name": "stdout",
     "output_type": "stream",
     "text": [
      "Collecting attrs==19.3.0\n",
      "  Using cached attrs-19.3.0-py2.py3-none-any.whl (39 kB)\n",
      "Collecting backcall==0.1.0\n",
      "  Using cached backcall-0.1.0.tar.gz (9.7 kB)\n",
      "Collecting bleach==3.1.0\n",
      "  Using cached bleach-3.1.0-py2.py3-none-any.whl (157 kB)\n",
      "Collecting Bottleneck==1.3.1\n",
      "  Using cached Bottleneck-1.3.1.tar.gz (88 kB)\n",
      "  Installing build dependencies: started\n",
      "  Installing build dependencies: finished with status 'done'\n",
      "  Getting requirements to build wheel: started\n",
      "  Getting requirements to build wheel: finished with status 'done'\n",
      "    Preparing wheel metadata: started\n",
      "    Preparing wheel metadata: finished with status 'done'\n",
      "Collecting certifi==2019.11.28\n",
      "  Using cached certifi-2019.11.28-py2.py3-none-any.whl (156 kB)\n",
      "Collecting coverage==4.5.4\n",
      "  Using cached coverage-4.5.4-cp36-cp36m-win_amd64.whl (183 kB)\n",
      "Requirement already satisfied: cycler==0.10.0 in c:\\users\\faizan\\anaconda3\\envs\\nilmtk-env\\lib\\site-packages (from -r requirements.txt (line 7)) (0.10.0)\n",
      "Collecting Cython==0.29.14\n",
      "  Using cached Cython-0.29.14-cp36-cp36m-win_amd64.whl (1.7 MB)\n",
      "Collecting decorator==4.4.1\n",
      "  Using cached decorator-4.4.1-py2.py3-none-any.whl (9.2 kB)\n",
      "Requirement already satisfied: defusedxml==0.6.0 in c:\\users\\faizan\\anaconda3\\envs\\nilmtk-env\\lib\\site-packages (from -r requirements.txt (line 10)) (0.6.0)\n",
      "Requirement already satisfied: entrypoints==0.3 in c:\\users\\faizan\\anaconda3\\envs\\nilmtk-env\\lib\\site-packages (from -r requirements.txt (line 11)) (0.3)\n",
      "Requirement already satisfied: h5py==2.10.0 in c:\\users\\faizan\\anaconda3\\envs\\nilmtk-env\\lib\\site-packages (from -r requirements.txt (line 12)) (2.10.0)\n",
      "Collecting hmmlearn==0.2.2\n",
      "  Using cached hmmlearn-0.2.2.tar.gz (146 kB)\n",
      "Collecting importlib-metadata==1.3.0\n",
      "  Using cached importlib_metadata-1.3.0-py2.py3-none-any.whl (29 kB)\n",
      "Collecting ipykernel==5.1.3\n",
      "  Using cached ipykernel-5.1.3-py3-none-any.whl (116 kB)\n",
      "Collecting ipython==7.10.1\n",
      "  Using cached ipython-7.10.1-py3-none-any.whl (778 kB)\n",
      "Requirement already satisfied: ipython-genutils==0.2.0 in c:\\users\\faizan\\anaconda3\\envs\\nilmtk-env\\lib\\site-packages (from -r requirements.txt (line 17)) (0.2.0)\n",
      "Requirement already satisfied: ipywidgets==7.5.1 in c:\\users\\faizan\\anaconda3\\envs\\nilmtk-env\\lib\\site-packages (from -r requirements.txt (line 18)) (7.5.1)\n",
      "Collecting jedi==0.15.1\n",
      "  Using cached jedi-0.15.1-py2.py3-none-any.whl (1.0 MB)\n",
      "Collecting Jinja2==2.10.3\n",
      "  Using cached Jinja2-2.10.3-py2.py3-none-any.whl (125 kB)\n",
      "Collecting joblib==0.14.1\n",
      "  Using cached joblib-0.14.1-py2.py3-none-any.whl (294 kB)\n",
      "Requirement already satisfied: jsonschema==3.2.0 in c:\\users\\faizan\\anaconda3\\envs\\nilmtk-env\\lib\\site-packages (from -r requirements.txt (line 22)) (3.2.0)\n",
      "Collecting jupyter-client==5.3.3\n",
      "  Using cached jupyter_client-5.3.3-py2.py3-none-any.whl (93 kB)\n",
      "Collecting jupyter-console==6.0.0\n",
      "  Using cached jupyter_console-6.0.0-py2.py3-none-any.whl (21 kB)\n",
      "Collecting jupyter-core==4.6.1\n",
      "  Using cached jupyter_core-4.6.1-py2.py3-none-any.whl (82 kB)\n",
      "Collecting Keras==2.3.1\n",
      "  Using cached Keras-2.3.1-py2.py3-none-any.whl (377 kB)\n",
      "Requirement already satisfied: Keras-Applications==1.0.8 in c:\\users\\faizan\\anaconda3\\envs\\nilmtk-env\\lib\\site-packages (from -r requirements.txt (line 27)) (1.0.8)\n",
      "Collecting Keras-Preprocessing==1.1.0\n",
      "  Using cached Keras_Preprocessing-1.1.0-py2.py3-none-any.whl (41 kB)\n",
      "Collecting kiwisolver==1.1.0\n",
      "  Using cached kiwisolver-1.1.0-cp36-none-win_amd64.whl (57 kB)\n",
      "Collecting Mako==1.1.0\n",
      "  Using cached Mako-1.1.0.tar.gz (463 kB)\n",
      "Collecting Markdown==3.1.1\n",
      "  Using cached Markdown-3.1.1-py2.py3-none-any.whl (87 kB)\n",
      "Requirement already satisfied: MarkupSafe==1.1.1 in c:\\users\\faizan\\anaconda3\\envs\\nilmtk-env\\lib\\site-packages (from -r requirements.txt (line 32)) (1.1.1)\n",
      "Collecting matplotlib==3.1.2\n",
      "  Using cached matplotlib-3.1.2-cp36-cp36m-win_amd64.whl (9.1 MB)\n",
      "Requirement already satisfied: mistune==0.8.4 in c:\\users\\faizan\\anaconda3\\envs\\nilmtk-env\\lib\\site-packages (from -r requirements.txt (line 34)) (0.8.4)\n",
      "Collecting mock==3.0.5\n",
      "  Using cached mock-3.0.5-py2.py3-none-any.whl (25 kB)\n",
      "Collecting more-itertools==8.0.2\n",
      "  Using cached more_itertools-8.0.2-py3-none-any.whl (40 kB)\n",
      "Requirement already satisfied: nbconvert==5.6.1 in c:\\users\\faizan\\anaconda3\\envs\\nilmtk-env\\lib\\site-packages (from -r requirements.txt (line 37)) (5.6.1)\n",
      "Collecting nbformat==4.4.0\n",
      "  Using cached nbformat-4.4.0-py2.py3-none-any.whl (155 kB)\n",
      "Requirement already satisfied: networkx==2.1 in c:\\users\\faizan\\anaconda3\\envs\\nilmtk-env\\lib\\site-packages (from -r requirements.txt (line 39)) (2.1)\n",
      "Requirement already satisfied: nilm-metadata==0.2.4 in c:\\users\\faizan\\anaconda3\\envs\\nilmtk-env\\lib\\site-packages (from -r requirements.txt (line 40)) (0.2.4)\n"
     ]
    },
    {
     "name": "stderr",
     "output_type": "stream",
     "text": [
      "ERROR: Could not find a version that satisfies the requirement nilmtk===0.4.0.dev1-git. (from -r requirements.txt (line 41)) (from versions: none)\n",
      "ERROR: No matching distribution found for nilmtk===0.4.0.dev1-git. (from -r requirements.txt (line 41))\n"
     ]
    }
   ],
   "source": [
    "! pip3 install -r requirements.txt"
   ]
  },
  {
   "cell_type": "code",
   "execution_count": 15,
   "metadata": {},
   "outputs": [
    {
     "name": "stdout",
     "output_type": "stream",
     "text": [
      "('Failed to import pydot. You must `pip install pydot` and install graphviz (https://graphviz.gitlab.io/download/), ', 'for `pydotprint` to work.')\n"
     ]
    }
   ],
   "source": [
    "from rnndisaggregator import RNNDisaggregator\n",
    "rnn = RNNDisaggregator()"
   ]
  },
  {
   "cell_type": "code",
   "execution_count": 16,
   "metadata": {},
   "outputs": [
    {
     "name": "stdout",
     "output_type": "stream",
     "text": [
      "Epoch 1/5\n",
      "7837/7837 [==============================] - 201s 26ms/step - loss: 0.0011\n",
      "Epoch 2/5\n",
      "7837/7837 [==============================] - 210s 27ms/step - loss: 7.2304e-04\n",
      "Epoch 3/5\n",
      "7837/7837 [==============================] - 213s 27ms/step - loss: 6.6192e-04\n",
      "Epoch 4/5\n",
      "7837/7837 [==============================] - 207s 26ms/step - loss: 6.5089e-04\n",
      "Epoch 5/5\n",
      "7837/7837 [==============================] - 210s 27ms/step - loss: 6.4895e-04\n"
     ]
    }
   ],
   "source": [
    "train_mains = train_elec.mains().all_meters()[0] # The aggregated meter that provides the input\n",
    "train_meter = train_elec.submeters()['microwave'] # The microwave meter that is used as a training target\n",
    "\n",
    "rnn.train(train_mains, train_meter, epochs=5, sample_period=1)\n",
    "rnn.export_model(\"model-redd5.h5\")"
   ]
  },
  {
   "cell_type": "markdown",
   "metadata": {},
   "source": [
    "\n",
    "Now that the model is trained, we can use it to disaggregate energy data. Let's test it on the rest of the data from building 1.\n",
    "\n",
    "First we use the model to predict the microwave consumption. The results are saved automatically in a .h5 datastore."
   ]
  },
  {
   "cell_type": "code",
   "execution_count": 17,
   "metadata": {},
   "outputs": [
    {
     "name": "stdout",
     "output_type": "stream",
     "text": [
      "New sensible chunk: 121482\n",
      "New sensible chunk: 112661\n",
      "New sensible chunk: 87770\n",
      "New sensible chunk: 54084\n",
      "New sensible chunk: 2660\n",
      "New sensible chunk: 33513\n",
      "New sensible chunk: 138535\n",
      "New sensible chunk: 32514\n",
      "New sensible chunk: 27255\n",
      "New sensible chunk: 34833\n",
      "New sensible chunk: 100831\n"
     ]
    }
   ],
   "source": [
    "test = DataSet('redd.h5')\n",
    "test.set_window(start=\"30-4-2011\")\n",
    "test_elec = test.buildings[1].elec\n",
    "test_mains = test_elec.mains().all_meters()[0]\n",
    "\n",
    "disag_filename = 'disag-out.h5' # The filename of the resulting datastore\n",
    "from nilmtk.datastore import HDFDataStore\n",
    "output = HDFDataStore(disag_filename, 'w')\n",
    "\n",
    "# test_mains: The aggregated signal meter\n",
    "# output: The output datastore\n",
    "# train_meter: This is used in order to copy the metadata of the train meter into the datastore\n",
    "rnn.disaggregate(test_mains, output, train_meter, sample_period=1)\n"
   ]
  },
  {
   "cell_type": "markdown",
   "metadata": {},
   "source": [
    "Let's plot the results and compare them to the ground truth signal.\n",
    "\n",
    "Note: Calling plot this way, downsamples the signal to reduce computing time. To plot the entire signal call\n",
    "\n",
    "predicted.power_series_all_data().plot()\n",
    "ground_truth.power_series_all_data().plot()"
   ]
  },
  {
   "cell_type": "code",
   "execution_count": 18,
   "metadata": {},
   "outputs": [
    {
     "data": {
      "image/png": "[encoded data removed]",
      "text/plain": [
       "<Figure size 432x288 with 1 Axes>"
      ]
     },
     "metadata": {
      "needs_background": "light"
     },
     "output_type": "display_data"
    }
   ],
   "source": [
    "result = DataSet(disag_filename)\n",
    "res_elec = result.buildings[1].elec\n",
    "predicted = res_elec['microwave']\n",
    "ground_truth = test_elec['microwave']\n",
    "\n",
    "import matplotlib.pyplot as plt\n",
    "predicted.plot()\n",
    "ground_truth.plot()\n",
    "plt.show()"
   ]
  },
  {
   "cell_type": "code",
   "execution_count": 19,
   "metadata": {},
   "outputs": [
    {
     "name": "stdout",
     "output_type": "stream",
     "text": [
      "============ Recall: 0.045375939578173624\n",
      "============ Precision: 0.8052601230138391\n",
      "============ Accuracy: 0.2830801149400639\n",
      "============ F1 Score: 0.0859108525807091\n",
      "============ Relative error in total energy: 0.8162269750051222\n",
      "============ Mean absolute error(in Watts): 23.57142870284622\n"
     ]
    }
   ],
   "source": [
    "\n",
    "import metrics\n",
    "rpaf = metrics.recall_precision_accuracy_f1(predicted, ground_truth)\n",
    "print(\"============ Recall: {}\".format(rpaf[0]))\n",
    "print(\"============ Precision: {}\".format(rpaf[1]))\n",
    "print(\"============ Accuracy: {}\".format(rpaf[2]))\n",
    "print(\"============ F1 Score: {}\".format(rpaf[3]))\n",
    "\n",
    "print(\"============ Relative error in total energy: {}\".format(metrics.relative_error_total_energy(predicted, ground_truth)))\n",
    "print(\"============ Mean absolute error(in Watts): {}\".format(metrics.mean_absolute_error(predicted, ground_truth)))"
   ]
  },
  {
   "cell_type": "code",
   "execution_count": null,
   "metadata": {},
   "outputs": [],
   "source": []
  }
 ],
 "metadata": {
  "kernelspec": {
   "display_name": "Python 3",
   "language": "python",
   "name": "python3"
  },
  "language_info": {
   "codemirror_mode": {
    "name": "ipython",
    "version": 3
   },
   "file_extension": ".py",
   "mimetype": "text/x-python",
   "name": "python",
   "nbconvert_exporter": "python",
   "pygments_lexer": "ipython3",
   "version": "3.6.11"
  }
 },
 "nbformat": 4,
 "nbformat_minor": 4
}
